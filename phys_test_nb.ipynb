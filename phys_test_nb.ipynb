{
 "cells": [
  {
   "cell_type": "code",
   "execution_count": null,
   "id": "initial_id",
   "metadata": {
    "ExecuteTime": {
     "end_time": "2024-09-25T19:00:54.298855Z",
     "start_time": "2024-09-25T19:00:54.205683Z"
    }
   },
   "outputs": [],
   "source": [
    "%load_ext autoreload\n",
    "%autoreload 2"
   ]
  },
  {
   "cell_type": "code",
   "execution_count": null,
   "id": "ea6c555c89f408bf",
   "metadata": {
    "ExecuteTime": {
     "end_time": "2024-09-25T19:00:56.462530Z",
     "start_time": "2024-09-25T19:00:54.304864Z"
    }
   },
   "outputs": [],
   "source": [
    "import pyeCAP\n",
    "import numpy as np\n",
    "import pandas as pd\n",
    "import scipy.io as sio\n",
    "from scipy import signal\n",
    "import matplotlib.pyplot as plt\n",
    "import traceback\n",
    "import os\n",
    "import dask.array as da\n",
    "import plotly.express as px"
   ]
  },
  {
   "cell_type": "code",
   "execution_count": null,
   "id": "640ad326e2eab293",
   "metadata": {
    "ExecuteTime": {
     "end_time": "2024-09-25T19:01:01.125030Z",
     "start_time": "2024-09-25T19:00:56.698006Z"
    }
   },
   "outputs": [],
   "source": [
    "\"Import meta data and TDT files\"\n",
    "\"\"\"Get HF meta data from excel file\"\"\"\n",
    "excel_path = r'E:\\HF_Block\\20240904_HFBlock_Pig05\\20240904_HFBlock_05_Parameters_modified.xlsx'\n",
    "#excel_path = r'G:\\Data\\HF_Block\\HF_Block_Project_summary.xlsx'\n",
    "metaDF = pd.read_excel(excel_path, sheet_name = 'HF05_metaDF')\n",
    "\n",
    "\"\"\"Remove rows that are not needed for current analysis and reset index of metaDF\"\"\"\n",
    "metaDF.drop(metaDF.loc[ metaDF['Type'] == 'HF Only'].index, inplace = True)  #Removed HF only tanks as they did not have any stim parameters\n",
    "metaDF.drop(metaDF.loc[ metaDF['Type'] == 'Control'].index, inplace = True)\n",
    "metaDF.drop(metaDF.loc[ metaDF['Type'] == 'X'].index, inplace = True)\n",
    "metaDF.drop(metaDF.loc[ metaDF['Type'] == 'Thresholding'].index, inplace = True)\n",
    "metaDF.drop(metaDF.loc[ metaDF['Type'] == 'Contact ID'].index, inplace = True)\n",
    "metaDF.reset_index(inplace = True)\n",
    "\n",
    "\"TDT Data Import - List\"\n",
    "tdt_path = r'E:\\HF_Block\\20240904_HFBlock_Pig05\\HF_Block_Template-240904-083702' #Lab Path\n",
    "#tdt_path = r'G:\\Data\\HF_Block\\20240904_HFBlock_Pig05\\HF_Block_Template-240904-083702' #Local Path \n",
    "tdt_file_list_all = os.listdir(tdt_path)\n",
    "tdt_file_list_all.remove('desktop.ini')\n",
    "\n",
    "ADI_path = r'E:\\HF_Block\\20240904_HFBlock_Pig05' #Lab Path\n",
    "#ADI_path = r'G:\\Data\\HF_Block\\20240904_HFBlock_Pig05' #Local path\n",
    "ADI_file = r'\\20240904_HFBlock_Pig05_stats_modified.mat'\n",
    "\n",
    "raw_phys = pyeCAP.Phys(ADI_path + ADI_file)#, mult_data=False)\n",
    "ws_stripped_names = [i.strip() for i in raw_phys.ch_names] #This line just removes the white spaces around the names imported\n",
    "raw_phys = raw_phys.set_ch_names(ws_stripped_names)\n",
    "\n",
    "\"\"\"Ephys data instantiation\"\"\"\n",
    "tdt_path_list = [tdt_path + '\\\\' + fileNAME for fileNAME in metaDF['TDT Tank']]\n",
    "\n",
    "#Data Streams\n",
    "#raw_ECAP = pyeCAP.Ephys(tdt_path_list, stores = 'ECAP')\n",
    "#raw_ECAP = raw_ECAP.remove_ch(['ECAP 6', 'ECAP 7', 'ECAP 8'])\n",
    "\n",
    "\"\"\"Changes the stim multi-index to utilize the Tank names from tdt_file_list instead [0,1,2,3...]\"\"\"\n",
    "stim = pyeCAP.Stim(tdt_path_list)\n",
    "stimDF = stim.parameters\n",
    "#tank_to_params_dict = { tank:params for (tank,params) in zip(metaDF['TDT Tank'].to_list(), stim.parameters.groupby(level=0).groups.values() ) }\n",
    "#params_to_tank_dict = { param:tank for (param,tank) in zip(stim.parameters.groupby(level=0).groups.keys(), metaDF['TDT Tank'].to_list()) }\n",
    "\n",
    "\"\"\"ECAP/EMG/TriCAP object instantiation\"\"\"\n",
    "#ECAPr = pyeCAP.ECAP(raw_ECAP, stim)\n",
    "PHYS = pyeCAP.ECAP(raw_phys,stim)\n",
    "raw_ECG_array = np.squeeze(raw_phys.array[raw_phys._ch_to_index('EKG Raw')].compute() )"
   ]
  },
  {
   "cell_type": "code",
   "execution_count": null,
   "id": "7d0c26b410851cb4",
   "metadata": {
    "ExecuteTime": {
     "end_time": "2024-09-25T19:01:03.226566Z",
     "start_time": "2024-09-25T19:01:02.072848Z"
    }
   },
   "outputs": [],
   "source": [
    "\"\"\"Band-pass Filter\"\"\"\n",
    "ECG_fs = 1000\n",
    "nyq_rate = ECG_fs / 2\n",
    "\n",
    "cutoffs = [5,15]\n",
    "sos = signal.butter(4, cutoffs, btype='bandpass', fs = ECG_fs,output='sos')\n",
    "\n",
    "\"\"\"Code which replaces any NaN values by simply replacing them with the first value after the NaN's occur\"\"\"\n",
    "nan_idx = np.argwhere(np.isnan(raw_ECG_array))\n",
    "print(nan_idx)\n",
    "#np.nan_to_num(raw_ECG_array, copy=False, nan=raw_ECG_array[nan_idx[-1] + 1])\n",
    "\n",
    "ECG_BP_filt = signal.sosfiltfilt(sos, raw_ECG_array)\n",
    "ECG_dvt_filt = np.square(np.diff(ECG_BP_filt,append=0))\n",
    "#ECG_sq = np.square(ECG_dvt_filt)\n",
    "#ECG_moving_average = uniform_filter1d(ECG_sq,size=150)"
   ]
  },
  {
   "cell_type": "code",
   "execution_count": null,
   "id": "d01e71d84d2b64a2",
   "metadata": {
    "ExecuteTime": {
     "end_time": "2024-09-23T22:02:32.945692Z",
     "start_time": "2024-09-23T22:02:26.368952Z"
    }
   },
   "outputs": [],
   "source": [
    "fs = raw_phys.sample_rate\n",
    "transition_width = 0.5\n",
    "filter_cutoffs = [5, 15]\n",
    "numtaps = 3000\n",
    "filter_weights = signal.firwin(numtaps, filter_cutoffs, width=transition_width, window='Hamming',\n",
    "                                       pass_zero='bandpass', fs=fs)\n",
    "ECG_BP_filt_fir = signal.fftconvolve(np.flip(signal.fftconvolve(raw_ECG_array, filter_weights, mode=\"same\")), filter_weights,mode=\"same\",)\n",
    "ECG_dvt_filt_fir = np.diff(ECG_BP_filt_fir,append=0)"
   ]
  },
  {
   "cell_type": "code",
   "execution_count": null,
   "id": "d5bf9a8fe43db44b",
   "metadata": {},
   "outputs": [],
   "source": [
    "filt_data, data_diff_sq,data_moving_average = raw_phys.pan_tompkins_algorithm(ecg_ch_name = 'EKG Raw')\n",
    "filt_data_array = np.squeeze(da.concatenate(filt_data,axis=1).compute())\n",
    "diff_sq_array = np.squeeze(da.concatenate(data_diff_sq,axis=1).compute())\n",
    "mwa_array = np.squeeze(da.concatenate(data_moving_average,axis=1).compute())"
   ]
  },
  {
   "cell_type": "code",
   "execution_count": null,
   "id": "258634842fb03734",
   "metadata": {},
   "outputs": [],
   "source": [
    "fig = plt.figure(num=1, clear=True)\n",
    "ax = fig.add_subplot()\n",
    "dask_dv_diff = np.subtract(diff_sq_array,ECG_dvt_filt)\n",
    "#dask_filt_diff = np.subtract(filt_data_array, ECG_BP_filt)\n",
    "#ax.plot(raw_phys.time().compute(),dask_dv_diff)\n",
    "#ax.plot(raw_phys.time().compute(),dask_filt_diff)\n",
    "ax.plot(raw_phys.time()[5000000:],mwa_array[5000000:], color = 'r')\n",
    "ax2 = ax.twinx()\n",
    "ax2.plot(raw_phys.time()[5000000:],dask_dv_diff[5000000:])"
   ]
  },
  {
   "cell_type": "code",
   "execution_count": null,
   "id": "b9b4f80e9ddfc19",
   "metadata": {},
   "outputs": [],
   "source": [
    "idx = np.nonzero(mwa_array > 1*1e-10)[0]\n",
    "idx"
   ]
  },
  {
   "cell_type": "code",
   "execution_count": null,
   "id": "2a68b136a8723d7d",
   "metadata": {},
   "outputs": [],
   "source": [
    "fig = plt.figure(num=1, clear=True)\n",
    "ax = fig.add_subplot()\n",
    "dask_dv_diff = np.subtract(diff_sq_array,ECG_dvt_filt)\n",
    "#dask_filt_diff = np.subtract(filt_data_array, ECG_BP_filt)\n",
    "#ax.plot(raw_phys.time().compute(),dask_dv_diff)\n",
    "#ax.plot(raw_phys.time().compute(),dask_filt_diff)\n",
    "ax.plot(raw_phys.time()[5000000:],mwa_array[5000000:], color = 'r')\n",
    "ax2 = ax.twinx()\n",
    "ax2.plot(raw_phys.time()[5000000:],dask_dv_diff[5000000:])"
   ]
  },
  {
   "cell_type": "code",
   "execution_count": null,
   "id": "9aad9644e8c26a2c",
   "metadata": {},
   "outputs": [],
   "source": [
    "dask_dv_diff = np.subtract(diff_sq_array,ECG_dvt_filt)\n",
    "fig,ax = plt.subplots(nrows = 4, ncols=1,num=1, clear=True, figsize=(10,10))\n",
    "\n",
    "#center_idx = idx[-1]\n",
    "center_idx = 9790000\n",
    "start_idx = center_idx - (5 * 1000)\n",
    "stop_idx = center_idx + (5 * 1000)\n",
    "if start_idx < 0:\n",
    "    start_idx = 0\n",
    "print(start_idx, stop_idx)\n",
    "\n",
    "ax = ax.ravel()\n",
    "#ax2 = ax.twinx()\n",
    "#ax2.plot(raw_phys.time()[start_idx:stop_idx],dask_dv_diff[start_idx:stop_idx])\n",
    "#ax2.plot(raw_phys.time()[start_idx:stop_idx],diff_sq_array[start_idx:stop_idx])\n",
    "ax[0].plot(raw_phys.time()[start_idx:stop_idx],raw_ECG_array[start_idx:stop_idx])\n",
    "ax[1].plot(raw_phys.time()[start_idx:stop_idx],filt_data_array[start_idx:stop_idx])\n",
    "#ax[2].plot(raw_phys.time()[start_idx:stop_idx],diff_sq_array[start_idx:stop_idx])\n",
    "ax[2].plot(raw_phys.time()[start_idx:stop_idx],dask_dv_diff[start_idx:stop_idx])\n",
    "ax[3].plot(raw_phys.time()[start_idx:stop_idx],mwa_array[start_idx:stop_idx], color = 'r')\n",
    "mwa_std = np.std(mwa_array[5000000:])\n",
    "ax[3].axhline(mwa_std, color='g')\n",
    "plt.show()"
   ]
  },
  {
   "cell_type": "code",
   "execution_count": null,
   "id": "e58bc84239db8070",
   "metadata": {},
   "outputs": [],
   "source": [
    "\"\"\"Dask Array shaping\"\"\"\n",
    "#new_array = [da.squeeze(da.stack([d1, d2, d3])) for d1,d2,d3 in zip(filt_data,data_diff_sq,data_moving_average)]#, data_diff_sq, data_moving_average)\n",
    "#new_array = [da.concatenate([d1, d2, d3]) for d1,d2,d3 in zip(filt_data,data_diff_sq,data_moving_average)]#, data_diff_sq, data_moving_average)\n",
    "#combined_array = [da.concatenate([d1,d2], axis=0) for d1,d2 in zip(raw_phys.data,new_array)]"
   ]
  },
  {
   "cell_type": "code",
   "execution_count": null,
   "id": "d2eb72a6d3bc53dd",
   "metadata": {},
   "outputs": [],
   "source": [
    "\"\"\"Finds peaks based on parameters height and a minimum distance between peaks\"\"\"\n",
    "peaks = signal.find_peaks(moving_average_array, height = np.mean(moving_average_array), distance = raw_phys.sample_rate * 0.25)[0]"
   ]
  },
  {
   "cell_type": "code",
   "execution_count": null,
   "id": "cb58643236d2a1dc",
   "metadata": {},
   "outputs": [],
   "source": [
    "peaks_in_range = np.where( (peaks >= plot_start_idx) & (peaks <= plot_stop_idx))"
   ]
  },
  {
   "cell_type": "code",
   "execution_count": null,
   "id": "814395b542e36c53",
   "metadata": {
    "ExecuteTime": {
     "end_time": "2024-09-25T19:25:38.699212Z",
     "start_time": "2024-09-25T19:25:37.011884Z"
    }
   },
   "outputs": [],
   "source": [
    "pt_dict = raw_phys.apply_pan_tompkins(ecg_ch_name = 'EKG Raw')"
   ]
  },
  {
   "cell_type": "code",
   "execution_count": null,
   "id": "d580ada894485521",
   "metadata": {
    "ExecuteTime": {
     "end_time": "2024-09-25T19:43:39.579667Z",
     "start_time": "2024-09-25T19:43:34.980310Z"
    }
   },
   "outputs": [],
   "source": [
    "fig = plt.figure(num=1, clear = True)\n",
    "ax = fig.add_subplot()\n",
    "ax.plot(raw_phys.time(), pt_dict['raw ecg'])"
   ]
  },
  {
   "cell_type": "code",
   "execution_count": null,
   "id": "43d0f31af5d6ae96",
   "metadata": {
    "ExecuteTime": {
     "end_time": "2024-09-25T21:12:00.111529Z",
     "start_time": "2024-09-25T21:11:57.933522Z"
    }
   },
   "outputs": [],
   "source": [
    "pt_dict = raw_phys.apply_pan_tompkins(ecg_ch_name = 'EKG Raw', get_peaks=True, get_HR=True)"
   ]
  },
  {
   "cell_type": "code",
   "execution_count": null,
   "id": "d45bc957f4396f5f",
   "metadata": {
    "ExecuteTime": {
     "end_time": "2024-09-25T21:01:48.105914Z",
     "start_time": "2024-09-25T21:01:47.915393Z"
    }
   },
   "outputs": [],
   "source": [
    "pt_dict.keys()"
   ]
  },
  {
   "cell_type": "code",
   "execution_count": null,
   "id": "692fc886f62010d9",
   "metadata": {
    "ExecuteTime": {
     "end_time": "2024-09-25T21:15:00.493797Z",
     "start_time": "2024-09-25T21:15:00.193429Z"
    }
   },
   "outputs": [],
   "source": [
    "fig = plt.figure(num=1, clear = True, figsize=(20,5))\n",
    "\n",
    "center_idx = 9791000\n",
    "start_idx = center_idx - (100 * 1000)\n",
    "stop_idx = center_idx + (100 * 1000)\n",
    "if start_idx < 0:\n",
    "    start_idx = 0\n",
    "print(start_idx, stop_idx)\n",
    "\n",
    "#peaks_in_range = peaks_idx[(peaks_idx >= start_idx) & (peaks_idx <= stop_idx)]\n",
    "\n",
    "hr_bpm = pt_dict['HR (bpm)'][:,0]\n",
    "hr_idx = pt_dict['HR (bpm)'][:,1]\n",
    "hr_in_range = hr_idx[(hr_idx >= start_idx) & (hr_idx <= stop_idx)].astype(int)\n",
    "\n",
    "ax = fig.add_subplot()\n",
    "#ax.scatter(raw_phys.time()[peaks_in_range], pt_dict['raw ecg'][peaks_in_range], color = 'r', marker='x', s=50)\n",
    "ax.plot(raw_phys.time()[hr_in_range], pt_dict['HR (bpm)'][hr_idx == hr_in_range,0])"
   ]
  },
  {
   "cell_type": "code",
   "execution_count": null,
   "id": "cd1ed6ab6034251b",
   "metadata": {
    "ExecuteTime": {
     "end_time": "2024-09-25T21:12:08.499486Z",
     "start_time": "2024-09-25T21:12:08.309717Z"
    }
   },
   "outputs": [],
   "source": [
    "hr_in_range.dtype"
   ]
  },
  {
   "cell_type": "code",
   "execution_count": null,
   "id": "91a70afdaeb87f7e",
   "metadata": {
    "ExecuteTime": {
     "end_time": "2024-09-25T21:27:02.633303Z",
     "start_time": "2024-09-25T21:27:01.732725Z"
    }
   },
   "outputs": [],
   "source": [
    "fig = plt.figure(num=1, clear = True, figsize=(20,5))\n",
    "\n",
    "center_idx = 9791000\n",
    "start_idx = center_idx - (100 * 1000)\n",
    "stop_idx = center_idx + (100 * 1000)\n",
    "if start_idx < 0:\n",
    "    start_idx = 0\n",
    "print(start_idx, stop_idx)\n",
    "\n",
    "#peaks_in_range = peaks_idx[(peaks_idx >= start_idx) & (peaks_idx <= stop_idx)]\n",
    "\n",
    "hr_bpm = pt_dict['HR (bpm)'][:,0]\n",
    "hr_idx = pt_dict['HR (bpm)'][:,1]\n",
    "#hr_in_range = hr_idx[(hr_idx >= start_idx) & (hr_idx <= stop_idx)].astype(int)\n",
    "\n",
    "ax = fig.add_subplot()\n",
    "#ax.scatter(raw_phys.time()[peaks_in_range], pt_dict['raw ecg'][peaks_in_range], color = 'r', marker='x', s=50)\n",
    "ax.plot(raw_phys.time()[hr_idx], hr_bpm)"
   ]
  },
  {
   "cell_type": "code",
   "execution_count": null,
   "id": "d63b4445442e85c6",
   "metadata": {},
   "outputs": [],
   "source": []
  }
 ],
 "metadata": {
  "kernelspec": {
   "display_name": "Python 3",
   "language": "python",
   "name": "python3"
  },
  "language_info": {
   "codemirror_mode": {
    "name": "ipython",
    "version": 2
   },
   "file_extension": ".py",
   "mimetype": "text/x-python",
   "name": "python",
   "nbconvert_exporter": "python",
   "pygments_lexer": "ipython2",
   "version": "2.7.6"
  }
 },
 "nbformat": 4,
 "nbformat_minor": 5
}
