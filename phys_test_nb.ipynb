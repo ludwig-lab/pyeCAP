{
 "cells": [
  {
   "cell_type": "code",
   "execution_count": null,
   "id": "initial_id",
   "metadata": {
    "ExecuteTime": {
     "end_time": "2024-09-20T17:21:30.261113Z",
     "start_time": "2024-09-20T17:21:30.197410Z"
    }
   },
   "outputs": [],
   "source": [
    "%load_ext autoreload\n",
    "%autoreload 2"
   ]
  },
  {
   "cell_type": "code",
   "execution_count": null,
   "id": "ea6c555c89f408bf",
   "metadata": {
    "ExecuteTime": {
     "end_time": "2024-09-20T18:05:31.521249Z",
     "start_time": "2024-09-20T18:05:31.355761Z"
    }
   },
   "outputs": [],
   "source": [
    "import pyeCAP\n",
    "import numpy as np\n",
    "import pandas as pd\n",
    "import scipy.io as sio\n",
    "import matplotlib.pyplot as plt\n",
    "import traceback\n",
    "import os\n",
    "import dask.array as da"
   ]
  },
  {
   "cell_type": "code",
   "execution_count": null,
   "id": "640ad326e2eab293",
   "metadata": {
    "ExecuteTime": {
     "end_time": "2024-09-20T17:22:04.985815Z",
     "start_time": "2024-09-20T17:22:01.672572Z"
    }
   },
   "outputs": [],
   "source": [
    "\"Import meta data\"\n",
    "\"\"\"Get HF meta data from excel file\"\"\"\n",
    "excel_path = r'E:\\HF_Block\\20240904_HFBlock_Pig05\\20240904_HFBlock_05_Parameters_modified.xlsx'\n",
    "metaDF = pd.read_excel(excel_path, sheet_name = 'HF05_metaDF')\n",
    "\n",
    "\"\"\"Remove rows that are not needed for current analysis and reset index of metaDF\"\"\"\n",
    "metaDF.drop(metaDF.loc[ metaDF['Type'] == 'HF Only'].index, inplace = True)  #Removed HF only tanks as they did not have any stim parameters\n",
    "metaDF.drop(metaDF.loc[ metaDF['Type'] == 'Control'].index, inplace = True)\n",
    "metaDF.drop(metaDF.loc[ metaDF['Type'] == 'X'].index, inplace = True)\n",
    "metaDF.drop(metaDF.loc[ metaDF['Type'] == 'Thresholding'].index, inplace = True)\n",
    "metaDF.drop(metaDF.loc[ metaDF['Type'] == 'Contact ID'].index, inplace = True)\n",
    "metaDF.reset_index(inplace = True)\n",
    "\n",
    "\"TDT Data Import - List\"\n",
    "tdt_path = r'E:\\HF_Block\\20240904_HFBlock_Pig05\\HF_Block_Template-240904-083702' #Lab Path\n",
    "#tdt_path = r'G:\\Data\\HF_Block\\20240904_HFBlock_Pig05\\HF_Block_Template-240904-083702' #Local Path \n",
    "tdt_file_list_all = os.listdir(tdt_path)\n",
    "tdt_file_list_all.remove('desktop.ini')\n",
    "\n",
    "ADI_path = r'E:\\HF_Block\\20240904_HFBlock_Pig05' #Lab Path\n",
    "#ADI_path = r'G:\\Data\\HF_Block\\20240904_HFBlock_Pig05' #Local path\n",
    "ADI_file = r'\\20240904_HFBlock_Pig05_stats_modified.mat'\n",
    "\n",
    "raw_phys = pyeCAP.Phys(ADI_path + ADI_file)\n",
    "ws_stripped_names = [i.strip() for i in raw_phys.ch_names] #This line just removes the white spaces around the names imported\n",
    "raw_phys = raw_phys.set_ch_names(ws_stripped_names)\n",
    "\n",
    "\"\"\"Ephys data instantiation\"\"\"\n",
    "tdt_path_list = [tdt_path + '\\\\' + fileNAME for fileNAME in metaDF['TDT Tank']]\n",
    "\n",
    "#Data Streams\n",
    "raw_ECAP = pyeCAP.Ephys(tdt_path_list, stores = 'ECAP')\n",
    "raw_ECAP = raw_ECAP.remove_ch(['ECAP 6', 'ECAP 7', 'ECAP 8'])\n",
    "\n",
    "\"\"\"Changes the stim multi-index to utilize the Tank names from tdt_file_list instead [0,1,2,3...]\"\"\"\n",
    "stim = pyeCAP.Stim(tdt_path_list)\n",
    "stimDF = stim.parameters\n",
    "#tank_to_params_dict = { tank:params for (tank,params) in zip(metaDF['TDT Tank'].to_list(), stim.parameters.groupby(level=0).groups.values() ) }\n",
    "#params_to_tank_dict = { param:tank for (param,tank) in zip(stim.parameters.groupby(level=0).groups.keys(), metaDF['TDT Tank'].to_list()) }\n",
    "\n",
    "\"\"\"ECAP/EMG/TriCAP object instantiation\"\"\"\n",
    "ECAPr = pyeCAP.ECAP(raw_ECAP, stim)\n",
    "PHYS = pyeCAP.ECAP(raw_phys,stim)\n",
    "raw_ECG_array = np.squeeze( raw_phys.array[raw_phys._ch_to_index('EKG Raw')].compute() )"
   ]
  },
  {
   "cell_type": "code",
   "execution_count": null,
   "id": "70215f711be4c379",
   "metadata": {
    "ExecuteTime": {
     "end_time": "2024-09-20T17:16:44.839340Z",
     "start_time": "2024-09-20T17:16:44.333694Z"
    }
   },
   "outputs": [],
   "source": []
  },
  {
   "cell_type": "code",
   "execution_count": null,
   "id": "7d0c26b410851cb4",
   "metadata": {},
   "outputs": [],
   "source": [
    "\"\"\"Band-pass Filter\"\"\"\n",
    "ECG_fs = 1000\n",
    "nyq_rate = ECG_fs / 2\n",
    "\n",
    "cutoffs = [5,15]\n",
    "b,a = signal.butter(4, cutoffs, btype='bandpass', fs = ECG_fs)\n",
    "\n",
    "\"\"\"Code which replaces any NaN values by simply replacing them with the first value after the NaN's occur\"\"\"\n",
    "nan_idx = np.argwhere(np.isnan(raw_ECG))\n",
    "np.nan_to_num(raw_ECG, copy=False, nan=raw_ECG[nan_idx[-1] + 1])\n",
    "\n",
    "ECG_BP_filt = signal.filtfilt(b, a, raw_ECG)\n",
    "ECG_dvt_filt = np.diff(ECG_BP_filt,append=1)\n",
    "ECG_sq = np.square(ECG_dvt_filt)\n",
    "ECG_moving_average = uniform_filter1d(ECG_sq,size=150)"
   ]
  },
  {
   "cell_type": "code",
   "execution_count": null,
   "id": "d5bf9a8fe43db44b",
   "metadata": {
    "ExecuteTime": {
     "end_time": "2024-09-20T17:22:25.176802Z",
     "start_time": "2024-09-20T17:22:24.969726Z"
    }
   },
   "outputs": [],
   "source": [
    "filt_data, data_diff_sq,data_moving_average = raw_phys.pan_tompkins_algorithm(ecg_ch_name = 'EKG Raw')"
   ]
  },
  {
   "cell_type": "code",
   "execution_count": null,
   "id": "9a89d77192c98f93",
   "metadata": {
    "ExecuteTime": {
     "end_time": "2024-09-20T17:22:10.105049Z",
     "start_time": "2024-09-20T17:22:09.807624Z"
    }
   },
   "outputs": [],
   "source": [
    "fig, ax = plt.subplots(figsize = (15,10))\n",
    "ax.plot(filt_data[0].compute())\n",
    "plt.show()"
   ]
  },
  {
   "cell_type": "code",
   "execution_count": null,
   "id": "9641d74817eaaa63",
   "metadata": {
    "ExecuteTime": {
     "end_time": "2024-09-20T17:35:13.798682Z",
     "start_time": "2024-09-20T17:35:13.615529Z"
    }
   },
   "outputs": [],
   "source": []
  },
  {
   "cell_type": "code",
   "execution_count": null,
   "id": "258634842fb03734",
   "metadata": {
    "ExecuteTime": {
     "end_time": "2024-09-20T17:23:20.904819Z",
     "start_time": "2024-09-20T17:23:20.729581Z"
    }
   },
   "outputs": [],
   "source": [
    "raw_phys.sample_rate"
   ]
  },
  {
   "cell_type": "code",
   "execution_count": null,
   "id": "6cb24a5b3790c3d3",
   "metadata": {
    "ExecuteTime": {
     "end_time": "2024-09-20T17:24:42.944009Z",
     "start_time": "2024-09-20T17:24:42.769741Z"
    }
   },
   "outputs": [],
   "source": [
    "raw_phys.time()[0:100].compute()"
   ]
  },
  {
   "cell_type": "code",
   "execution_count": null,
   "id": "ee95b2458a9643ca",
   "metadata": {
    "ExecuteTime": {
     "end_time": "2024-09-20T18:02:37.257322Z",
     "start_time": "2024-09-20T18:02:36.647228Z"
    }
   },
   "outputs": [],
   "source": [
    "data = raw_phys.pan_tompkins_algorithm(ecg_ch_name = 'EKG Raw')"
   ]
  },
  {
   "cell_type": "code",
   "execution_count": null,
   "id": "426d3711bfa5c78",
   "metadata": {
    "ExecuteTime": {
     "end_time": "2024-09-20T18:05:13.617778Z",
     "start_time": "2024-09-20T18:05:13.328076Z"
    }
   },
   "outputs": [],
   "source": [
    "filt_data, data_diff_sq,data_moving_average = raw_phys.pan_tompkins_algorithm(ecg_ch_name = 'EKG Raw')"
   ]
  },
  {
   "cell_type": "code",
   "execution_count": null,
   "id": "18a9d1a81db0728f",
   "metadata": {
    "ExecuteTime": {
     "end_time": "2024-09-20T18:13:00.839413Z",
     "start_time": "2024-09-20T18:13:00.658472Z"
    }
   },
   "outputs": [],
   "source": [
    "new_array = [da.squeeze(da.stack([d1, d2, d3])) for d1,d2,d3 in zip(filt_data,data_diff_sq,data_moving_average)]#, data_diff_sq, data_moving_average)"
   ]
  },
  {
   "cell_type": "code",
   "execution_count": null,
   "id": "ae712f27f6aebaef",
   "metadata": {
    "ExecuteTime": {
     "end_time": "2024-09-20T18:13:01.192216Z",
     "start_time": "2024-09-20T18:13:01.020690Z"
    }
   },
   "outputs": [],
   "source": [
    "new_array"
   ]
  },
  {
   "cell_type": "code",
   "execution_count": null,
   "id": "e879d61fbb19b05e",
   "metadata": {
    "ExecuteTime": {
     "end_time": "2024-09-20T18:08:19.132646Z",
     "start_time": "2024-09-20T18:08:18.963033Z"
    }
   },
   "outputs": [],
   "source": [
    "raw_phys.data"
   ]
  },
  {
   "cell_type": "code",
   "execution_count": null,
   "id": "f50d142b5983f20",
   "metadata": {
    "ExecuteTime": {
     "end_time": "2024-09-20T18:15:14.554687Z",
     "start_time": "2024-09-20T18:15:14.385616Z"
    }
   },
   "outputs": [],
   "source": [
    "combined_array = [da.concatenate([d1,d2], axis=0) for d1,d2 in zip(raw_phys.data,new_array)]"
   ]
  },
  {
   "cell_type": "code",
   "execution_count": null,
   "id": "da69b2317a7ff555",
   "metadata": {
    "ExecuteTime": {
     "end_time": "2024-09-20T18:15:17.982269Z",
     "start_time": "2024-09-20T18:15:17.813005Z"
    }
   },
   "outputs": [],
   "source": [
    "combined_array"
   ]
  },
  {
   "cell_type": "code",
   "execution_count": null,
   "id": "70cd830a17bd015c",
   "metadata": {},
   "outputs": [],
   "source": []
  }
 ],
 "metadata": {
  "kernelspec": {
   "display_name": "Python 3",
   "language": "python",
   "name": "python3"
  },
  "language_info": {
   "codemirror_mode": {
    "name": "ipython",
    "version": 2
   },
   "file_extension": ".py",
   "mimetype": "text/x-python",
   "name": "python",
   "nbconvert_exporter": "python",
   "pygments_lexer": "ipython2",
   "version": "2.7.6"
  }
 },
 "nbformat": 4,
 "nbformat_minor": 5
}
