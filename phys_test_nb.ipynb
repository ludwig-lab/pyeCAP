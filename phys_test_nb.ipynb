{
 "cells": [
  {
   "cell_type": "code",
   "execution_count": null,
   "id": "initial_id",
   "metadata": {
    "ExecuteTime": {
     "end_time": "2024-09-23T21:59:16.230972Z",
     "start_time": "2024-09-23T21:59:16.122849Z"
    }
   },
   "outputs": [],
   "source": [
    "%load_ext autoreload\n",
    "%autoreload 2"
   ]
  },
  {
   "cell_type": "code",
   "execution_count": null,
   "id": "ea6c555c89f408bf",
   "metadata": {
    "ExecuteTime": {
     "end_time": "2024-09-23T21:59:21.585940Z",
     "start_time": "2024-09-23T21:59:17.235790Z"
    }
   },
   "outputs": [],
   "source": [
    "import pyeCAP\n",
    "import numpy as np\n",
    "import pandas as pd\n",
    "import scipy.io as sio\n",
    "from scipy import signal\n",
    "import matplotlib.pyplot as plt\n",
    "import traceback\n",
    "import os\n",
    "import dask.array as da\n",
    "import plotly.express as px"
   ]
  },
  {
   "cell_type": "code",
   "execution_count": null,
   "id": "640ad326e2eab293",
   "metadata": {
    "ExecuteTime": {
     "end_time": "2024-09-23T21:59:25.891974Z",
     "start_time": "2024-09-23T21:59:21.585940Z"
    }
   },
   "outputs": [],
   "source": [
    "\"Import meta data\"\n",
    "\"\"\"Get HF meta data from excel file\"\"\"\n",
    "excel_path = r'E:\\HF_Block\\20240904_HFBlock_Pig05\\20240904_HFBlock_05_Parameters_modified.xlsx'\n",
    "metaDF = pd.read_excel(excel_path, sheet_name = 'HF05_metaDF')\n",
    "\n",
    "\"\"\"Remove rows that are not needed for current analysis and reset index of metaDF\"\"\"\n",
    "metaDF.drop(metaDF.loc[ metaDF['Type'] == 'HF Only'].index, inplace = True)  #Removed HF only tanks as they did not have any stim parameters\n",
    "metaDF.drop(metaDF.loc[ metaDF['Type'] == 'Control'].index, inplace = True)\n",
    "metaDF.drop(metaDF.loc[ metaDF['Type'] == 'X'].index, inplace = True)\n",
    "metaDF.drop(metaDF.loc[ metaDF['Type'] == 'Thresholding'].index, inplace = True)\n",
    "metaDF.drop(metaDF.loc[ metaDF['Type'] == 'Contact ID'].index, inplace = True)\n",
    "metaDF.reset_index(inplace = True)\n",
    "\n",
    "\"TDT Data Import - List\"\n",
    "tdt_path = r'E:\\HF_Block\\20240904_HFBlock_Pig05\\HF_Block_Template-240904-083702' #Lab Path\n",
    "#tdt_path = r'G:\\Data\\HF_Block\\20240904_HFBlock_Pig05\\HF_Block_Template-240904-083702' #Local Path \n",
    "tdt_file_list_all = os.listdir(tdt_path)\n",
    "tdt_file_list_all.remove('desktop.ini')\n",
    "\n",
    "ADI_path = r'E:\\HF_Block\\20240904_HFBlock_Pig05' #Lab Path\n",
    "#ADI_path = r'G:\\Data\\HF_Block\\20240904_HFBlock_Pig05' #Local path\n",
    "ADI_file = r'\\20240904_HFBlock_Pig05_stats_modified.mat'\n",
    "\n",
    "raw_phys = pyeCAP.Phys(ADI_path + ADI_file)\n",
    "ws_stripped_names = [i.strip() for i in raw_phys.ch_names] #This line just removes the white spaces around the names imported\n",
    "raw_phys = raw_phys.set_ch_names(ws_stripped_names)\n",
    "\n",
    "\"\"\"Ephys data instantiation\"\"\"\n",
    "tdt_path_list = [tdt_path + '\\\\' + fileNAME for fileNAME in metaDF['TDT Tank']]\n",
    "\n",
    "#Data Streams\n",
    "raw_ECAP = pyeCAP.Ephys(tdt_path_list, stores = 'ECAP')\n",
    "raw_ECAP = raw_ECAP.remove_ch(['ECAP 6', 'ECAP 7', 'ECAP 8'])\n",
    "\n",
    "\"\"\"Changes the stim multi-index to utilize the Tank names from tdt_file_list instead [0,1,2,3...]\"\"\"\n",
    "stim = pyeCAP.Stim(tdt_path_list)\n",
    "stimDF = stim.parameters\n",
    "#tank_to_params_dict = { tank:params for (tank,params) in zip(metaDF['TDT Tank'].to_list(), stim.parameters.groupby(level=0).groups.values() ) }\n",
    "#params_to_tank_dict = { param:tank for (param,tank) in zip(stim.parameters.groupby(level=0).groups.keys(), metaDF['TDT Tank'].to_list()) }\n",
    "\n",
    "\"\"\"ECAP/EMG/TriCAP object instantiation\"\"\"\n",
    "ECAPr = pyeCAP.ECAP(raw_ECAP, stim)\n",
    "PHYS = pyeCAP.ECAP(raw_phys,stim)\n",
    "raw_ECG_array = np.squeeze( raw_phys.array[raw_phys._ch_to_index('EKG Raw')].compute() )"
   ]
  },
  {
   "cell_type": "code",
   "execution_count": null,
   "id": "7d0c26b410851cb4",
   "metadata": {
    "ExecuteTime": {
     "end_time": "2024-09-23T21:59:27.702543Z",
     "start_time": "2024-09-23T21:59:26.742803Z"
    }
   },
   "outputs": [],
   "source": [
    "\"\"\"Band-pass Filter\"\"\"\n",
    "ECG_fs = 1000\n",
    "nyq_rate = ECG_fs / 2\n",
    "\n",
    "cutoffs = [5,15]\n",
    "sos = signal.butter(4, cutoffs, btype='bandpass', fs = ECG_fs, output=\"sos\")\n",
    "a, b = signal.sos2tf(sos)\n",
    "overlap = max(len(a), len(b))\n",
    "print(overlap)\n",
    "\n",
    "\"\"\"Code which replaces any NaN values by simply replacing them with the first value after the NaN's occur\"\"\"\n",
    "#nan_idx = np.argwhere(np.isnan(raw_ECG))\n",
    "#np.nan_to_num(raw_ECG_array, copy=False, nan=raw_ECG_array[nan_idx[-1] + 1])\n",
    "\n",
    "ECG_BP_filt = signal.sosfiltfilt(sos, raw_ECG_array)\n",
    "ECG_dvt_filt = np.diff(ECG_BP_filt,append=0)\n",
    "#ECG_sq = np.square(ECG_dvt_filt)\n",
    "#ECG_moving_average = uniform_filter1d(ECG_sq,size=150)"
   ]
  },
  {
   "cell_type": "code",
   "execution_count": null,
   "id": "d01e71d84d2b64a2",
   "metadata": {
    "ExecuteTime": {
     "end_time": "2024-09-23T22:02:32.945692Z",
     "start_time": "2024-09-23T22:02:26.368952Z"
    }
   },
   "outputs": [],
   "source": [
    "fs = raw_phys.sample_rate\n",
    "transition_width = 0.5\n",
    "filter_cutoffs = [5, 15]\n",
    "numtaps = 3000\n",
    "filter_weights = signal.firwin(numtaps, filter_cutoffs, width=transition_width, window='Hamming',\n",
    "                                       pass_zero='bandpass', fs=fs)\n",
    "ECG_BP_filt_fir = signal.fftconvolve(np.flip(signal.fftconvolve(raw_ECG_array, filter_weights, mode=\"same\")), filter_weights,mode=\"same\",)\n",
    "ECG_dvt_filt_fir = np.diff(ECG_BP_filt_fir,append=0)"
   ]
  },
  {
   "cell_type": "code",
   "execution_count": null,
   "id": "d5bf9a8fe43db44b",
   "metadata": {},
   "outputs": [],
   "source": [
    "filt_data, data_diff_sq,data_moving_average = raw_phys.pan_tompkins_algorithm(ecg_ch_name = 'EKG Raw')"
   ]
  },
  {
   "cell_type": "code",
   "execution_count": null,
   "id": "9a89d77192c98f93",
   "metadata": {},
   "outputs": [],
   "source": [
    "fig, ax = plt.subplots(figsize = (15,10))\n",
    "ax.plot()\n",
    "plt.show()"
   ]
  },
  {
   "cell_type": "code",
   "execution_count": null,
   "id": "9641d74817eaaa63",
   "metadata": {},
   "outputs": [],
   "source": []
  },
  {
   "cell_type": "code",
   "execution_count": null,
   "id": "258634842fb03734",
   "metadata": {},
   "outputs": [],
   "source": [
    "raw_phys.sample_rate"
   ]
  },
  {
   "cell_type": "code",
   "execution_count": null,
   "id": "6cb24a5b3790c3d3",
   "metadata": {},
   "outputs": [],
   "source": [
    "raw_phys.time()[0:100].compute()"
   ]
  },
  {
   "cell_type": "code",
   "execution_count": null,
   "id": "ee95b2458a9643ca",
   "metadata": {},
   "outputs": [],
   "source": [
    "data = raw_phys.pan_tompkins_algorithm(ecg_ch_name = 'EKG Raw')"
   ]
  },
  {
   "cell_type": "code",
   "execution_count": null,
   "id": "426d3711bfa5c78",
   "metadata": {},
   "outputs": [],
   "source": [
    "filt_data, data_diff_sq,data_moving_average = raw_phys.pan_tompkins_algorithm(ecg_ch_name = 'EKG Raw')"
   ]
  },
  {
   "cell_type": "code",
   "execution_count": null,
   "id": "18a9d1a81db0728f",
   "metadata": {},
   "outputs": [],
   "source": [
    "new_array = [da.squeeze(da.stack([d1, d2, d3])) for d1,d2,d3 in zip(filt_data,data_diff_sq,data_moving_average)]#, data_diff_sq, data_moving_average)"
   ]
  },
  {
   "cell_type": "code",
   "execution_count": null,
   "id": "ae712f27f6aebaef",
   "metadata": {},
   "outputs": [],
   "source": [
    "new_array"
   ]
  },
  {
   "cell_type": "code",
   "execution_count": null,
   "id": "e879d61fbb19b05e",
   "metadata": {},
   "outputs": [],
   "source": [
    "new_array = [da.concatenate([d1, d2, d3]) for d1,d2,d3 in zip(filt_data,data_diff_sq,data_moving_average)]#, data_diff_sq, data_moving_average)"
   ]
  },
  {
   "cell_type": "code",
   "execution_count": null,
   "id": "f50d142b5983f20",
   "metadata": {},
   "outputs": [],
   "source": [
    "combined_array = [da.concatenate([d1,d2], axis=0) for d1,d2 in zip(raw_phys.data,new_array)]"
   ]
  },
  {
   "cell_type": "code",
   "execution_count": null,
   "id": "da69b2317a7ff555",
   "metadata": {},
   "outputs": [],
   "source": [
    "combined_array"
   ]
  },
  {
   "cell_type": "code",
   "execution_count": null,
   "id": "407a407c3c240495",
   "metadata": {},
   "outputs": [],
   "source": [
    "filt_data_array = np.squeeze(da.concatenate(filt_data, axis = 1).compute())\n",
    "diff_sq_array = np.squeeze(da.concatenate(data_diff_sq, axis = 1).compute())\n",
    "moving_average_array = np.squeeze(da.concatenate(data_moving_average, axis = 1).compute())"
   ]
  },
  {
   "cell_type": "code",
   "execution_count": null,
   "id": "1901225508531a31",
   "metadata": {},
   "outputs": [],
   "source": [
    "\"\"\"\n",
    "Finds peaks based on parameters height and a minimum distance between peaks\n",
    "\"\"\"\n",
    "peaks = signal.find_peaks(moving_average_array, height = np.mean(moving_average_array), distance = raw_phys.sample_rate * 0.25)[0]"
   ]
  },
  {
   "cell_type": "code",
   "execution_count": null,
   "id": "521ca1be90098434",
   "metadata": {},
   "outputs": [],
   "source": [
    "peaks_in_range = np.where( (peaks >= plot_start_idx) & (peaks <= plot_stop_idx))"
   ]
  },
  {
   "cell_type": "code",
   "execution_count": null,
   "id": "3d36001bf5b8d75b",
   "metadata": {},
   "outputs": [],
   "source": [
    "plt.close('all')\n",
    "plt.clf()\n",
    "\n",
    "plot_start_time_sec = 5770\n",
    "plot_stop_time_sec = 5775\n",
    "\n",
    "plot_start_idx = plot_start_time_sec * 1000\n",
    "plot_stop_idx = plot_stop_time_sec * 1000\n",
    "\n",
    "#fig, ax = plt.subplots(figsize = (15,10))\n",
    "#ax.plot(raw_phys.time()[plot_start_idx:plot_stop_idx].compute(), filt_data_array[plot_start_idx:plot_stop_idx])\n",
    "#ax.plot(raw_phys.time()[plot_start_idx:plot_stop_idx].compute(), diff_sq_array[plot_start_idx:plot_stop_idx], color = 'r')\n",
    "#ax.plot(raw_phys.time()[plot_start_idx:plot_stop_idx].compute(), moving_average_array[plot_start_idx:plot_stop_idx], color = 'g')\n",
    "#plt.show()\n",
    "\n",
    "fig, ax = plt.subplots(nrows = 3, ncols=1, figsize=(25,15))\n",
    "\n",
    "\"\"\"\n",
    "Upper plot of filtered data with calculated HR (bpm) overlaid\n",
    "\"\"\"\n",
    "ax[0].plot(raw_phys.time()[plot_start_idx:plot_stop_idx].compute(), filt_data_array[plot_start_idx:plot_stop_idx])\n",
    "\n",
    "#get peaks within plot window\n",
    "mw_stdev = np.std(moving_average_array)\n",
    "\n",
    "#ax[0].scatter(raw_phys.time()[peaks], ,s=50, c='r', marker='x')\n",
    "#ax[0].scatter(peaks[0] * time_per_sample, filtered_data[peaks[0]],s=50, c='r', marker='x')\n",
    "#ax2 = ax[0].twinx()\n",
    "#ax2.plot(hrDF['Time (sec)'], hrDF['HR (bpm)'], color='red')\n",
    "\n",
    "\"\"\"\n",
    "Middle plot shows the diff_sq data that peak indices were derived from. Red line indicates height threshold\n",
    "\"\"\"\n",
    "mw_stdev = np.std(moving_average_array)\n",
    "#ax[1].plot(raw_phys.time()[plot_start_idx:plot_stop_idx].compute(), diff_sq_array[plot_start_idx:plot_stop_idx])\n",
    "ax[1].plot(raw_phys.time()[plot_start_idx:plot_stop_idx].compute(), moving_average_array[plot_start_idx:plot_stop_idx], color = 'r')\n",
    "#ax[1].axhline(mw_stdev, color='g')\n",
    "plt.show()"
   ]
  },
  {
   "cell_type": "code",
   "execution_count": null,
   "id": "3a15b764e3e93e15",
   "metadata": {},
   "outputs": [],
   "source": [
    "raw_phys.sample_rate"
   ]
  },
  {
   "cell_type": "code",
   "execution_count": null,
   "id": "e7f1b6ba5b2c3209",
   "metadata": {
    "ExecuteTime": {
     "end_time": "2024-09-23T22:02:48.730251Z",
     "start_time": "2024-09-23T22:02:38.944369Z"
    }
   },
   "outputs": [],
   "source": [
    "filt_data, data_diff_sq,data_moving_average = raw_phys.pan_tompkins_algorithm(ecg_ch_name = 'EKG Raw')\n",
    "\n",
    "filt_data_array = np.squeeze(da.concatenate(filt_data, axis = 1).compute())\n",
    "diff_sq_array = np.squeeze(da.concatenate(data_diff_sq, axis = 1).compute())\n",
    "moving_average_array = np.squeeze(da.concatenate(data_moving_average, axis = 1).compute())\n",
    "\n",
    "fig, ax = plt.subplots(figsize = (15,10))\n",
    "#ax.plot(raw_phys.time().compute(), filt_data_array)\n",
    "ax.plot(raw_phys.time()[5000000:].compute(), ECG_dvt_filt_fir[5000000:])\n",
    "#ax.plot(raw_phys.time()[5000000:].compute(), diff_sq_array[5000000:], color = 'r')\n",
    "#test = np.subtract(ECG_dvt_filt_fir, diff_sq_array)\n",
    "#test2 = np.subtract(ECG_BP_filt_fir, filt_data_array)\n",
    "#ax.plot(raw_phys.time().compute(), test, color = 'g')\n",
    "#ax.plot(raw_phys.time().compute(), moving_average_array, color = 'g')\n",
    "#ax.plot(raw_phys.time()[5000000:].compute(), ECG_dvt_filt[5000000:])\n",
    "plt.show()"
   ]
  },
  {
   "cell_type": "code",
   "execution_count": null,
   "id": "5e89dd9c0325073c",
   "metadata": {},
   "outputs": [],
   "source": [
    "filt_data, data_diff_sq,data_moving_average = raw_phys.pan_tompkins_algorithm(ecg_ch_name = 'EKG Raw')\n",
    "\n",
    "filt_data_array = np.squeeze(da.concatenate(filt_data, axis = 1).compute())\n",
    "diff_sq_array = np.squeeze(da.concatenate(data_diff_sq, axis = 1).compute())\n",
    "moving_average_array = np.squeeze(da.concatenate(data_moving_average, axis = 1).compute())\n",
    "\n",
    "fig, ax = plt.subplots(figsize = (15,10))\n",
    "#ax.plot(raw_phys.time().compute(), filt_data_array)\n",
    "ax.plot(raw_phys.time()[5000000:].compute(), ECG_dvt_filt[5000000:])\n",
    "#ax.plot(raw_phys.time()[5000000:].compute(), diff_sq_array[5000000:], color = 'r')\n",
    "test = np.subtract(ECG_dvt_filt, diff_sq_array)\n",
    "ax.plot(raw_phys.time()[5000000:].compute(), test[5000000:], color = 'g')\n",
    "#ax.plot(raw_phys.time().compute(), moving_average_array, color = 'g')\n",
    "#ax.plot(raw_phys.time()[5000000:].compute(), ECG_dvt_filt[5000000:])\n",
    "plt.show()"
   ]
  },
  {
   "cell_type": "code",
   "execution_count": null,
   "id": "e333d7ac06e66a66",
   "metadata": {},
   "outputs": [],
   "source": [
    "filt_data, data_diff_sq,data_moving_average = raw_phys.pan_tompkins_algorithm(ecg_ch_name = 'EKG Raw')\n",
    "\n",
    "filt_data_array = np.squeeze(da.concatenate(filt_data, axis = 1).compute())\n",
    "diff_sq_array = np.squeeze(da.concatenate(data_diff_sq, axis = 1).compute())\n",
    "moving_average_array = np.squeeze(da.concatenate(data_moving_average, axis = 1).compute())\n",
    "\n",
    "fig, ax = plt.subplots(figsize = (15,10))\n",
    "#ax.plot(raw_phys.time().compute(), filt_data_array)\n",
    "ax.plot(raw_phys.time()[5000000:].compute(), ECG_dvt_filt[5000000:])\n",
    "#ax.plot(raw_phys.time()[5000000:].compute(), diff_sq_array[5000000:], color = 'r')\n",
    "#test = np.subtract(ECG_dvt_filt, diff_sq_array)\n",
    "#ax.plot(raw_phys.time()[5000000:].compute(), test[5000000:], color = 'g')\n",
    "#ax.plot(raw_phys.time().compute(), moving_average_array, color = 'g')\n",
    "#ax.plot(raw_phys.time()[5000000:].compute(), ECG_dvt_filt[5000000:])\n",
    "plt.show()"
   ]
  },
  {
   "cell_type": "code",
   "execution_count": null,
   "id": "2c862dfb5d49e50e",
   "metadata": {},
   "outputs": [],
   "source": [
    "np.array_equal(filt_data_array, ECG_BP_filt_fir)"
   ]
  },
  {
   "cell_type": "code",
   "execution_count": null,
   "id": "84d4e8903e604120",
   "metadata": {},
   "outputs": [],
   "source": [
    "np.array_equal(diff_sq_array, ECG_dvt_filt)"
   ]
  },
  {
   "cell_type": "code",
   "execution_count": null,
   "id": "74ef893862958197",
   "metadata": {},
   "outputs": [],
   "source": [
    "filt_data_array = np.squeeze(da.concatenate(filt_data, axis = 1).compute())\n",
    "diff_sq_array = np.diff(filt_data_array, append=filt_data_array[-1])\n",
    "#moving_average_array = np.squeeze(da.concatenate(data_moving_average, axis = 1).compute())\n",
    "\n",
    "t_start = 17000 * 1000\n",
    "t_stop = 18000 * 1000\n",
    "\n",
    "fig, ax = plt.subplots(figsize = (15,10))\n",
    "ax.plot(raw_phys.time()[t_start:t_stop].compute(), filt_data_array[t_start:t_stop])\n",
    "ax.plot(raw_phys.time()[t_start:t_stop].compute(), diff_sq_array[t_start:t_stop], color = 'r')\n",
    "#ax.plot(raw_phys.time().compute(), moving_average_array, color = 'g')\n",
    "plt.show()"
   ]
  },
  {
   "cell_type": "code",
   "execution_count": null,
   "id": "3ecab8fa2e0e7422",
   "metadata": {},
   "outputs": [],
   "source": [
    "filt_data_array = np.squeeze(da.concatenate(filt_data, axis = 1).compute())\n",
    "diff_sq_array = np.diff(filt_data_array, append=filt_data_array[-1])\n",
    "#moving_average_array = np.squeeze(da.concatenate(data_moving_average, axis = 1).compute())\n",
    "\n",
    "t_start = 12395 * 1000\n",
    "t_stop = 12400 * 1000\n",
    "\n",
    "fig, ax = plt.subplots(figsize = (15,10))\n",
    "ax.plot(raw_phys.time()[t_start:t_stop].compute(), filt_data_array[t_start:t_stop])\n",
    "ax.plot(raw_phys.time()[t_start:t_stop].compute(), diff_sq_array[t_start:t_stop], color = 'r')\n",
    "#ax.plot(raw_phys.time().compute(), moving_average_array, color = 'g')\n",
    "plt.show()"
   ]
  },
  {
   "cell_type": "code",
   "execution_count": null,
   "id": "91caa68375b6f468",
   "metadata": {},
   "outputs": [],
   "source": [
    "plotDF = pd.DataFrame()\n",
    "t_start = 9500 * 1000\n",
    "t_stop = 10000 * 1000\n",
    "plotDF['Time (s)'] = raw_phys.time()[t_start:t_stop].compute()\n",
    "plotDF['BP Filtered Data'] = filt_data_array[t_start:t_stop]\n",
    "plotDF['Differentiated Data'] = diff_sq_array[t_start:t_stop]\n",
    "plotDF['Raw ECG'] = raw_ECG_array[t_start:t_stop]\n",
    "\n",
    "fig = px.line(plotDF, x = 'Time (s)', y=['BP Filtered Data', 'Differentiated Data'])#, 'Raw ECG'])\n",
    "fig.update_traces(hovertemplate='%{x:.10f}%{y:.10f}')\n",
    "fig.show()"
   ]
  },
  {
   "cell_type": "code",
   "execution_count": null,
   "id": "869b1adbca28b4f8",
   "metadata": {
    "ExecuteTime": {
     "end_time": "2024-09-23T22:03:25.872238Z",
     "start_time": "2024-09-23T22:03:22.316755Z"
    }
   },
   "outputs": [],
   "source": [
    "plotDF = pd.DataFrame()\n",
    "t_start = 34900 * 1000\n",
    "t_stop = 35100 * 1000\n",
    "plotDF['Time (s)'] = raw_phys.time()[t_start:t_stop].compute()\n",
    "plotDF['BP Filtered Data'] = ECG_BP_filt_fir[t_start:t_stop]\n",
    "plotDF['Differentiated Data'] = ECG_dvt_filt_fir[t_start:t_stop]\n",
    "#plotDF['Raw ECG'] = raw_ECG_array[t_start:t_stop]\n",
    "\n",
    "fig = px.line(plotDF, x = 'Time (s)', y=['BP Filtered Data', 'Differentiated Data'])#, 'Raw ECG'])\n",
    "fig.update_traces(hovertemplate='%{x:.10f}')\n",
    "fig.show()"
   ]
  },
  {
   "cell_type": "code",
   "execution_count": null,
   "id": "49ac2e463c624c98",
   "metadata": {},
   "outputs": [],
   "source": [
    "b,a = signal.butter(10, [5, 15], btype=\"bandpass\", fs=1000)\n",
    "overlap = max(len(a), len(b))\n",
    "print(a)\n",
    "print(b)"
   ]
  },
  {
   "cell_type": "code",
   "execution_count": null,
   "id": "5b73bd2eeb6d724e",
   "metadata": {},
   "outputs": [],
   "source": [
    "\"\"\"Band-pass Filter\"\"\"\n",
    "ECG_fs = 1000\n",
    "nyq_rate = ECG_fs / 2\n",
    "\n",
    "cutoffs = [5,15]\n",
    "sos = signal.butter(10, cutoffs, btype='bandpass', fs = ECG_fs, output=\"sos\")\n",
    "a, b = signal.sos2tf(sos)\n",
    "\n",
    "t,y = signal.impulse((b,a), N=512)\n",
    "plt.plot(t,y)"
   ]
  },
  {
   "cell_type": "code",
   "execution_count": null,
   "id": "c1edd2099f5561dd",
   "metadata": {},
   "outputs": [],
   "source": [
    "cutoffs = [5,15]\n",
    "sos = signal.butter(4, cutoffs, btype='bandpass', fs = ECG_fs, output = 'sos')\n",
    "w, h = signal.sosfreqz(sos, worN=2048, fs = ECG_fs)\n",
    "plt.plot( w, 20 * np.log10(abs(h)))\n",
    "plt.xlim((0,100))\n",
    "plt.ylim(-80,5)\n",
    "plt.show()"
   ]
  },
  {
   "cell_type": "code",
   "execution_count": null,
   "id": "e6e54ad467a0023a",
   "metadata": {},
   "outputs": [],
   "source": [
    "b = np.convolve(sos[0][:3], sos[1][:3])\n",
    "a = np.convolve(sos[0][3:], sos[1][3:])\n",
    "w, h = signal.freqs(b, a)\n",
    "plt.subplot(2,1,1)\n",
    "plt.semilogx(w, 20*np.log10(h))\n",
    "plt.subplot(2,1,2)\n",
    "plt.semilogx(w, np.unwrap(np.angle(h)))"
   ]
  },
  {
   "cell_type": "code",
   "execution_count": null,
   "id": "e54644e64a3753ac",
   "metadata": {},
   "outputs": [],
   "source": [
    "t, y = signal.impulse((b,a), T=np.linspace(0, 150, 2**14))\n",
    "plt.plot(t, y)"
   ]
  },
  {
   "cell_type": "code",
   "execution_count": null,
   "id": "129fe15d3db2228d",
   "metadata": {},
   "outputs": [],
   "source": [
    "for d in raw_phys.data:\n",
    "    test = d[1]"
   ]
  },
  {
   "cell_type": "code",
   "execution_count": null,
   "id": "69f21829e31e43d4",
   "metadata": {},
   "outputs": [],
   "source": [
    "test"
   ]
  },
  {
   "cell_type": "code",
   "execution_count": null,
   "id": "8910801c89569fa5",
   "metadata": {},
   "outputs": [],
   "source": [
    "firtest = np.flip(signal.fftconvolve(np.flip(signal.fftconvolve(test, filter_weights, mode=\"same\")),filter_weights,mode=\"same\"))"
   ]
  },
  {
   "cell_type": "code",
   "execution_count": null,
   "id": "fe8c8619aa10f566",
   "metadata": {},
   "outputs": [],
   "source": [
    "test"
   ]
  },
  {
   "cell_type": "code",
   "execution_count": null,
   "id": "ccaafde44edda47a",
   "metadata": {},
   "outputs": [],
   "source": [
    "filt_data"
   ]
  },
  {
   "cell_type": "code",
   "execution_count": null,
   "id": "fc4d9895d54b3a38",
   "metadata": {},
   "outputs": [],
   "source": [
    "filt_data_array = np.squeeze(da.concatenate(filt_data, axis=1))"
   ]
  },
  {
   "cell_type": "code",
   "execution_count": null,
   "id": "83bdeb6efd21f7fd",
   "metadata": {},
   "outputs": [],
   "source": [
    "type(filt_data_array)"
   ]
  },
  {
   "cell_type": "code",
   "execution_count": null,
   "id": "bca224db365dd9af",
   "metadata": {},
   "outputs": [],
   "source": [
    "filt_data"
   ]
  },
  {
   "cell_type": "code",
   "execution_count": null,
   "id": "add34cf1be0407ee",
   "metadata": {},
   "outputs": [],
   "source": []
  }
 ],
 "metadata": {
  "kernelspec": {
   "display_name": "Python 3",
   "language": "python",
   "name": "python3"
  },
  "language_info": {
   "codemirror_mode": {
    "name": "ipython",
    "version": 2
   },
   "file_extension": ".py",
   "mimetype": "text/x-python",
   "name": "python",
   "nbconvert_exporter": "python",
   "pygments_lexer": "ipython2",
   "version": "2.7.6"
  }
 },
 "nbformat": 4,
 "nbformat_minor": 5
}
