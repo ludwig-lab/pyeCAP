{
 "cells": [
  {
   "cell_type": "markdown",
   "metadata": {},
   "source": [
    "# Code Snapshot Creation Tool\n",
    "\n",
    "This notebook serves as an interface for the `create_code_snapshot` function. \n",
    "Use it to create a JSON file snapshot of all code files within a specified directory.\n"
   ]
  },
  {
   "cell_type": "code",
   "execution_count": 2,
   "metadata": {},
   "outputs": [],
   "source": [
    "from code_snapshot import create_code_snapshot"
   ]
  },
  {
   "cell_type": "code",
   "execution_count": 4,
   "metadata": {},
   "outputs": [
    {
     "name": "stdout",
     "output_type": "stream",
     "text": [
      "JSON file created at: eCAP_plotter\\code_snapshot_2023-12-08-19-35.json\n"
     ]
    }
   ],
   "source": [
    "folder_path = 'eCAP_plotter'\n",
    "extensions_input = '.py, .json, .m, ipynb'\n",
    "extensions = [ext.strip() for ext in extensions_input.split(',')]\n",
    "create_code_snapshot(folder_path, extensions)\n"
   ]
  }
 ],
 "metadata": {
  "kernelspec": {
   "display_name": "activation_origin",
   "language": "python",
   "name": "python3"
  },
  "language_info": {
   "codemirror_mode": {
    "name": "ipython",
    "version": 3
   },
   "file_extension": ".py",
   "mimetype": "text/x-python",
   "name": "python",
   "nbconvert_exporter": "python",
   "pygments_lexer": "ipython3",
   "version": "3.9.18"
  }
 },
 "nbformat": 4,
 "nbformat_minor": 2
}
