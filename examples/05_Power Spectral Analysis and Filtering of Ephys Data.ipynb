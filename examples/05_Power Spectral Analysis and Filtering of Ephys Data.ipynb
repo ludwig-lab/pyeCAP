{
 "cells": [
  {
   "cell_type": "code",
   "execution_count": 1,
   "metadata": {},
   "outputs": [
    {
     "name": "stderr",
     "output_type": "stream",
     "text": [
      "c:\\users\\malal\\documents\\witne\\pycap\\pyecap\\pyeCAP\\io\\ripple_io.py:13: UserWarning: No Neuroshare package found, Ripple files will not work\n",
      "  warnings.warn(\"No Neuroshare package found, Ripple files will not work\")\n"
     ]
    }
   ],
   "source": [
    "import pyeCAP\n",
    "import numpy as np\n",
    "import matplotlib.pyplot as plt"
   ]
  },
  {
   "cell_type": "code",
   "execution_count": 3,
   "metadata": {},
   "outputs": [
    {
     "name": "stdout",
     "output_type": "stream",
     "text": [
      "read from t=0s to t=153.36s\n"
     ]
    }
   ],
   "source": [
    "directory = r\"pnpig191126-191204-174838\"\n",
    "data = pyeCAP.Ephys(directory, stores=['RawE', 'RawG'])"
   ]
  },
  {
   "cell_type": "code",
   "execution_count": 4,
   "metadata": {},
   "outputs": [],
   "source": [
    "data = data.remove_ch('RawG 4')\n",
    "\n",
    "# We can rename the channels using the set_ch_names method and providing a list of new channel names that matches the number of channels in the data set.\n",
    "data = data.set_ch_names(['LIFE 1', 'LIFE 2', 'LIFE 3', 'LIFE 4', 'EMG 1', 'EMG 2', 'EMG 3'])\n",
    "\n",
    "# Lets also set the types of the individual channels so that we can indepentently interact with LIFE and EMG channels\n",
    "data = data.set_ch_types(['LIFE', 'LIFE', 'LIFE', 'LIFE', 'EMG', 'EMG', 'EMG'])"
   ]
  },
  {
   "cell_type": "code",
   "execution_count": 5,
   "metadata": {},
   "outputs": [
    {
     "data": {
      "application/vnd.jupyter.widget-view+json": {
       "model_id": "6311a426565f416fb42e7cf4e2c552fc",
       "version_major": 2,
       "version_minor": 0
      },
      "text/plain": [
       "AppLayout(children=(Output(layout=Layout(grid_area='header')), FloatSlider(value=20.0, description='Start Time…"
      ]
     },
     "execution_count": 5,
     "metadata": {},
     "output_type": "execute_result"
    }
   ],
   "source": [
    "%matplotlib widget\n",
    "data.plot(channels=3, x_lim = (20,20.1), show='notebook')"
   ]
  },
  {
   "cell_type": "code",
   "execution_count": 6,
   "metadata": {},
   "outputs": [
    {
     "name": "stderr",
     "output_type": "stream",
     "text": [
      "C:\\Users\\malal\\anaconda3\\envs\\pyeCAP\\lib\\site-packages\\dask-2021.7.1-py3.7.egg\\dask\\array\\overlap.py:633: FutureWarning: The use of map_overlap(array, func, **kwargs) is deprecated since dask 2.17.0 and will be an error in a future release. To silence this warning, use the syntax map_overlap(func, array0,[ array1, ...,] **kwargs) instead.\n",
      "  FutureWarning,\n"
     ]
    },
    {
     "data": {
      "application/vnd.jupyter.widget-view+json": {
       "model_id": "2dcd91f569544283b72be96f6b0412e1",
       "version_major": 2,
       "version_minor": 0
      },
      "text/plain": [
       "AppLayout(children=(Output(layout=Layout(grid_area='header')), FloatSlider(value=20.0, description='Start Time…"
      ]
     },
     "execution_count": 6,
     "metadata": {},
     "output_type": "execute_result"
    }
   ],
   "source": [
    "data_gaussian = data.filter_gaussian(Wn=2000, btype='lowpass')\n",
    "data_gaussian.plot(channels=3, x_lim = (20,20.1), show='notebook')"
   ]
  },
  {
   "cell_type": "code",
   "execution_count": 6,
   "metadata": {},
   "outputs": [
    {
     "name": "stderr",
     "output_type": "stream",
     "text": [
      "C:\\Users\\malal\\anaconda3\\envs\\ebatkit\\lib\\site-packages\\dask\\array\\overlap.py:744: FutureWarning: The use of map_overlap(array, func, **kwargs) is deprecated since dask 2.17.0 and will be an error in a future release. To silence this warning, use the syntax map_overlap(func, array0,[ array1, ...,] **kwargs) instead.\n",
      "  FutureWarning,\n"
     ]
    },
    {
     "data": {
      "application/vnd.jupyter.widget-view+json": {
       "model_id": "a6bd438201044d6483fb0eb31cc36feb",
       "version_major": 2,
       "version_minor": 0
      },
      "text/plain": [
       "AppLayout(children=(Output(layout=Layout(grid_area='header')), FloatSlider(value=20.0, description='Start Time…"
      ]
     },
     "metadata": {},
     "output_type": "display_data"
    }
   ],
   "source": [
    "data_median = data.filter_median(btype='highpass')\n",
    "data_median.plot(channels=3, x_lim = (20,20.1), show='notebook')"
   ]
  },
  {
   "cell_type": "code",
   "execution_count": 7,
   "metadata": {},
   "outputs": [
    {
     "name": "stderr",
     "output_type": "stream",
     "text": [
      "C:\\Users\\malal\\anaconda3\\envs\\ebatkit\\lib\\site-packages\\dask\\array\\overlap.py:744: FutureWarning: The use of map_overlap(array, func, **kwargs) is deprecated since dask 2.17.0 and will be an error in a future release. To silence this warning, use the syntax map_overlap(func, array0,[ array1, ...,] **kwargs) instead.\n",
      "  FutureWarning,\n"
     ]
    },
    {
     "data": {
      "application/vnd.jupyter.widget-view+json": {
       "model_id": "ac4b86180910485ab7a2a88a18a12935",
       "version_major": 2,
       "version_minor": 0
      },
      "text/plain": [
       "AppLayout(children=(Output(layout=Layout(grid_area='header')), FloatSlider(value=20.0, description='Start Time…"
      ]
     },
     "metadata": {},
     "output_type": "display_data"
    }
   ],
   "source": [
    "data_line_noise = data.filter_powerline(notch_width=None)\n",
    "data_line_noise.plot(channels=3, x_lim = (20,20.1), show='notebook')"
   ]
  },
  {
   "cell_type": "code",
   "execution_count": 8,
   "metadata": {},
   "outputs": [
    {
     "name": "stderr",
     "output_type": "stream",
     "text": [
      "C:\\Users\\malal\\anaconda3\\envs\\ebatkit\\lib\\site-packages\\dask\\array\\overlap.py:744: FutureWarning: The use of map_overlap(array, func, **kwargs) is deprecated since dask 2.17.0 and will be an error in a future release. To silence this warning, use the syntax map_overlap(func, array0,[ array1, ...,] **kwargs) instead.\n",
      "  FutureWarning,\n",
      "C:\\Users\\malal\\anaconda3\\envs\\ebatkit\\lib\\site-packages\\dask\\array\\overlap.py:744: FutureWarning: The use of map_overlap(array, func, **kwargs) is deprecated since dask 2.17.0 and will be an error in a future release. To silence this warning, use the syntax map_overlap(func, array0,[ array1, ...,] **kwargs) instead.\n",
      "  FutureWarning,\n"
     ]
    },
    {
     "data": {
      "application/vnd.jupyter.widget-view+json": {
       "model_id": "500b0d9137804295a7fe8ccdb53fbc45",
       "version_major": 2,
       "version_minor": 0
      },
      "text/plain": [
       "AppLayout(children=(Output(layout=Layout(grid_area='header')), FloatSlider(value=20.0, description='Start Time…"
      ]
     },
     "metadata": {},
     "output_type": "display_data"
    }
   ],
   "source": [
    "data_line_noise = data.filter_powerline(notch_width=1)\n",
    "data_line_noise.plot(channels=3, x_lim = (20,20.1), show='notebook')\n",
    "data_line_noise = data.filter_powerline(notch_width=None)\n",
    "data_line_noise.plot(channels=3, x_lim = (20,20.1), show='notebook')"
   ]
  },
  {
   "cell_type": "code",
   "execution_count": 9,
   "metadata": {},
   "outputs": [
    {
     "name": "stderr",
     "output_type": "stream",
     "text": [
      "C:\\Users\\malal\\anaconda3\\envs\\ebatkit\\lib\\site-packages\\dask\\array\\overlap.py:744: FutureWarning: The use of map_overlap(array, func, **kwargs) is deprecated since dask 2.17.0 and will be an error in a future release. To silence this warning, use the syntax map_overlap(func, array0,[ array1, ...,] **kwargs) instead.\n",
      "  FutureWarning,\n",
      "C:\\Users\\malal\\anaconda3\\envs\\ebatkit\\lib\\site-packages\\dask\\array\\overlap.py:744: FutureWarning: The use of map_overlap(array, func, **kwargs) is deprecated since dask 2.17.0 and will be an error in a future release. To silence this warning, use the syntax map_overlap(func, array0,[ array1, ...,] **kwargs) instead.\n",
      "  FutureWarning,\n",
      "C:\\Users\\malal\\anaconda3\\envs\\ebatkit\\lib\\site-packages\\dask\\array\\overlap.py:744: FutureWarning: The use of map_overlap(array, func, **kwargs) is deprecated since dask 2.17.0 and will be an error in a future release. To silence this warning, use the syntax map_overlap(func, array0,[ array1, ...,] **kwargs) instead.\n",
      "  FutureWarning,\n"
     ]
    },
    {
     "data": {
      "application/vnd.jupyter.widget-view+json": {
       "model_id": "1707e0697a65428a861580dcbab70025",
       "version_major": 2,
       "version_minor": 0
      },
      "text/plain": [
       "AppLayout(children=(Output(layout=Layout(grid_area='header')), FloatSlider(value=20.0, description='Start Time…"
      ]
     },
     "metadata": {},
     "output_type": "display_data"
    }
   ],
   "source": [
    "data_filt1 = data.filter_median(btype='highpass')\n",
    "data_filt2 = data_filt1.filter_gaussian(Wn=2000, btype='lowpass')\n",
    "data_filt3 = data_filt2.filter_powerline()\n",
    "data_filt3.plot(channels=3, x_lim = (20,20.1), show='notebook')"
   ]
  },
  {
   "cell_type": "code",
   "execution_count": 10,
   "metadata": {},
   "outputs": [
    {
     "name": "stderr",
     "output_type": "stream",
     "text": [
      "C:\\Users\\malal\\anaconda3\\envs\\ebatkit\\lib\\site-packages\\dask\\array\\overlap.py:744: FutureWarning: The use of map_overlap(array, func, **kwargs) is deprecated since dask 2.17.0 and will be an error in a future release. To silence this warning, use the syntax map_overlap(func, array0,[ array1, ...,] **kwargs) instead.\n",
      "  FutureWarning,\n",
      "C:\\Users\\malal\\anaconda3\\envs\\ebatkit\\lib\\site-packages\\dask\\array\\overlap.py:744: FutureWarning: The use of map_overlap(array, func, **kwargs) is deprecated since dask 2.17.0 and will be an error in a future release. To silence this warning, use the syntax map_overlap(func, array0,[ array1, ...,] **kwargs) instead.\n",
      "  FutureWarning,\n",
      "C:\\Users\\malal\\anaconda3\\envs\\ebatkit\\lib\\site-packages\\dask\\array\\overlap.py:744: FutureWarning: The use of map_overlap(array, func, **kwargs) is deprecated since dask 2.17.0 and will be an error in a future release. To silence this warning, use the syntax map_overlap(func, array0,[ array1, ...,] **kwargs) instead.\n",
      "  FutureWarning,\n"
     ]
    },
    {
     "data": {
      "application/vnd.jupyter.widget-view+json": {
       "model_id": "ee34176db082494e8dd8d50069c89518",
       "version_major": 2,
       "version_minor": 0
      },
      "text/plain": [
       "AppLayout(children=(Output(layout=Layout(grid_area='header')), FloatSlider(value=20.0, description='Start Time…"
      ]
     },
     "metadata": {},
     "output_type": "display_data"
    }
   ],
   "source": [
    "data_filt1 = data.filter_powerline()\n",
    "data_filt2 = data_filt1.filter_median(btype='highpass')\n",
    "data_filt3 = data_filt2.filter_gaussian(Wn=2000, btype='lowpass')\n",
    "data_filt3.plot(channels=3, x_lim = (20,20.1), show='notebook')"
   ]
  },
  {
   "cell_type": "code",
   "execution_count": 11,
   "metadata": {},
   "outputs": [
    {
     "name": "stderr",
     "output_type": "stream",
     "text": [
      "C:\\Users\\malal\\anaconda3\\envs\\ebatkit\\lib\\site-packages\\dask\\array\\overlap.py:744: FutureWarning: The use of map_overlap(array, func, **kwargs) is deprecated since dask 2.17.0 and will be an error in a future release. To silence this warning, use the syntax map_overlap(func, array0,[ array1, ...,] **kwargs) instead.\n",
      "  FutureWarning,\n",
      "C:\\Users\\malal\\anaconda3\\envs\\ebatkit\\lib\\site-packages\\dask\\array\\overlap.py:744: FutureWarning: The use of map_overlap(array, func, **kwargs) is deprecated since dask 2.17.0 and will be an error in a future release. To silence this warning, use the syntax map_overlap(func, array0,[ array1, ...,] **kwargs) instead.\n",
      "  FutureWarning,\n",
      "C:\\Users\\malal\\anaconda3\\envs\\ebatkit\\lib\\site-packages\\dask\\array\\overlap.py:744: FutureWarning: The use of map_overlap(array, func, **kwargs) is deprecated since dask 2.17.0 and will be an error in a future release. To silence this warning, use the syntax map_overlap(func, array0,[ array1, ...,] **kwargs) instead.\n",
      "  FutureWarning,\n"
     ]
    },
    {
     "data": {
      "application/vnd.jupyter.widget-view+json": {
       "model_id": "3765f14de216491089a218a806df6214",
       "version_major": 2,
       "version_minor": 0
      },
      "text/plain": [
       "AppLayout(children=(Output(layout=Layout(grid_area='header')), FloatSlider(value=20.0, description='Start Time…"
      ]
     },
     "metadata": {},
     "output_type": "display_data"
    }
   ],
   "source": [
    "data_filt1 = data.filter_powerline()\n",
    "data_filt2 = data_filt1.filter_gaussian(Wn=2000, btype='lowpass')\n",
    "data_filt3 = data_filt2.filter_median(btype='highpass')\n",
    "data_filt3.plot(channels=3, x_lim = (20,20.1), show='notebook')"
   ]
  },
  {
   "cell_type": "code",
   "execution_count": 12,
   "metadata": {},
   "outputs": [
    {
     "name": "stderr",
     "output_type": "stream",
     "text": [
      "C:\\Users\\malal\\anaconda3\\envs\\ebatkit\\lib\\site-packages\\dask\\array\\overlap.py:744: FutureWarning: The use of map_overlap(array, func, **kwargs) is deprecated since dask 2.17.0 and will be an error in a future release. To silence this warning, use the syntax map_overlap(func, array0,[ array1, ...,] **kwargs) instead.\n",
      "  FutureWarning,\n",
      "C:\\Users\\malal\\anaconda3\\envs\\ebatkit\\lib\\site-packages\\dask\\array\\overlap.py:744: FutureWarning: The use of map_overlap(array, func, **kwargs) is deprecated since dask 2.17.0 and will be an error in a future release. To silence this warning, use the syntax map_overlap(func, array0,[ array1, ...,] **kwargs) instead.\n",
      "  FutureWarning,\n",
      "C:\\Users\\malal\\anaconda3\\envs\\ebatkit\\lib\\site-packages\\dask\\array\\overlap.py:744: FutureWarning: The use of map_overlap(array, func, **kwargs) is deprecated since dask 2.17.0 and will be an error in a future release. To silence this warning, use the syntax map_overlap(func, array0,[ array1, ...,] **kwargs) instead.\n",
      "  FutureWarning,\n"
     ]
    },
    {
     "data": {
      "application/vnd.jupyter.widget-view+json": {
       "model_id": "2ad3f8937f56449fb17b50424c469ab6",
       "version_major": 2,
       "version_minor": 0
      },
      "text/plain": [
       "AppLayout(children=(Output(layout=Layout(grid_area='header')), FloatSlider(value=20.0, description='Start Time…"
      ]
     },
     "metadata": {},
     "output_type": "display_data"
    }
   ],
   "source": [
    "data_filt1 = data.filter_gaussian(Wn=2000, btype='lowpass')\n",
    "data_filt2 = data_filt1.filter_median(btype='highpass')\n",
    "data_filt3 = data_filt2.filter_powerline()\n",
    "data_filt3.plot(channels=3, x_lim = (20,20.1), show='notebook')"
   ]
  },
  {
   "cell_type": "code",
   "execution_count": null,
   "metadata": {},
   "outputs": [],
   "source": []
  }
 ],
 "metadata": {
  "kernelspec": {
   "display_name": "Python 3",
   "language": "python",
   "name": "python3"
  },
  "language_info": {
   "codemirror_mode": {
    "name": "ipython",
    "version": 3
   },
   "file_extension": ".py",
   "mimetype": "text/x-python",
   "name": "python",
   "nbconvert_exporter": "python",
   "pygments_lexer": "ipython3",
   "version": "3.7.10"
  }
 },
 "nbformat": 4,
 "nbformat_minor": 4
}
