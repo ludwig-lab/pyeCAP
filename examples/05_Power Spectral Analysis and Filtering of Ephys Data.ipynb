{
 "cells": [
  {
   "cell_type": "code",
   "execution_count": null,
   "metadata": {},
   "outputs": [],
   "source": [
    "import pyeCAP\n",
    "import numpy as np\n",
    "import matplotlib.pyplot as plt"
   ]
  },
  {
   "cell_type": "code",
   "execution_count": null,
   "metadata": {},
   "outputs": [],
   "source": [
    "directory = r\"pnpig191126-191204-174838\"\n",
    "data = pyeCAP.Ephys(directory, stores=['RawE', 'RawG'])"
   ]
  },
  {
   "cell_type": "code",
   "execution_count": null,
   "metadata": {},
   "outputs": [],
   "source": [
    "data = data.remove_ch('RawG 4')\n",
    "\n",
    "# We can rename the channels using the set_ch_names method and providing a list of new channel names that matches the number of channels in the data set.\n",
    "data = data.set_ch_names(['LIFE 1', 'LIFE 2', 'LIFE 3', 'LIFE 4', 'EMG 1', 'EMG 2', 'EMG 3'])\n",
    "\n",
    "# Lets also set the types of the individual channels so that we can indepentently interact with LIFE and EMG channels\n",
    "data = data.set_ch_types(['LIFE', 'LIFE', 'LIFE', 'LIFE', 'EMG', 'EMG', 'EMG'])"
   ]
  },
  {
   "cell_type": "code",
   "execution_count": null,
   "metadata": {},
   "outputs": [],
   "source": [
    "%matplotlib widget\n",
    "data.plot(channels=3, x_lim = (20,20.1), show='notebook')"
   ]
  },
  {
   "cell_type": "code",
   "execution_count": null,
   "metadata": {},
   "outputs": [],
   "source": [
    "data_gaussian = data.filter_gaussian(Wn=2000, btype='lowpass')\n",
    "data_gaussian.plot(channels=3, x_lim = (20,20.1), show='notebook')"
   ]
  },
  {
   "cell_type": "code",
   "execution_count": null,
   "metadata": {},
   "outputs": [],
   "source": [
    "data_median = data.filter_median(btype='highpass')\n",
    "data_median.plot(channels=3, x_lim = (20,20.1), show='notebook')"
   ]
  },
  {
   "cell_type": "code",
   "execution_count": null,
   "metadata": {},
   "outputs": [],
   "source": [
    "data_line_noise = data.filter_powerline(notch_width=None)\n",
    "data_line_noise.plot(channels=3, x_lim = (20,20.1), show='notebook')"
   ]
  },
  {
   "cell_type": "code",
   "execution_count": null,
   "metadata": {},
   "outputs": [],
   "source": [
    "data_line_noise = data.filter_powerline(notch_width=1)\n",
    "data_line_noise.plot(channels=3, x_lim = (20,20.1), show='notebook')\n",
    "data_line_noise = data.filter_powerline(notch_width=None)\n",
    "data_line_noise.plot(channels=3, x_lim = (20,20.1), show='notebook')"
   ]
  },
  {
   "cell_type": "code",
   "execution_count": null,
   "metadata": {},
   "outputs": [],
   "source": [
    "data_filt1 = data.filter_median(btype='highpass')\n",
    "data_filt2 = data_filt1.filter_gaussian(Wn=2000, btype='lowpass')\n",
    "data_filt3 = data_filt2.filter_powerline()\n",
    "data_filt3.plot(channels=3, x_lim = (20,20.1), show='notebook')"
   ]
  },
  {
   "cell_type": "code",
   "execution_count": null,
   "metadata": {},
   "outputs": [],
   "source": [
    "data_filt1 = data.filter_powerline()\n",
    "data_filt2 = data_filt1.filter_median(btype='highpass')\n",
    "data_filt3 = data_filt2.filter_gaussian(Wn=2000, btype='lowpass')\n",
    "data_filt3.plot(channels=3, x_lim = (20,20.1), show='notebook')"
   ]
  },
  {
   "cell_type": "code",
   "execution_count": null,
   "metadata": {},
   "outputs": [],
   "source": [
    "data_filt1 = data.filter_powerline()\n",
    "data_filt2 = data_filt1.filter_gaussian(Wn=2000, btype='lowpass')\n",
    "data_filt3 = data_filt2.filter_median(btype='highpass')\n",
    "data_filt3.plot(channels=3, x_lim = (20,20.1), show='notebook')"
   ]
  },
  {
   "cell_type": "code",
   "execution_count": null,
   "metadata": {},
   "outputs": [],
   "source": [
    "data_filt1 = data.filter_gaussian(Wn=2000, btype='lowpass')\n",
    "data_filt2 = data_filt1.filter_median(btype='highpass')\n",
    "data_filt3 = data_filt2.filter_powerline()\n",
    "data_filt3.plot(channels=3, x_lim = (20,20.1), show='notebook')"
   ]
  },
  {
   "cell_type": "code",
   "execution_count": null,
   "metadata": {},
   "outputs": [],
   "source": []
  }
 ],
 "metadata": {
  "kernelspec": {
   "display_name": "Python 3",
   "language": "python",
   "name": "python3"
  },
  "language_info": {
   "codemirror_mode": {
    "name": "ipython",
    "version": 3
   },
   "file_extension": ".py",
   "mimetype": "text/x-python",
   "name": "python",
   "nbconvert_exporter": "python",
   "pygments_lexer": "ipython3",
   "version": "3.7.10"
  }
 },
 "nbformat": 4,
 "nbformat_minor": 4
}
