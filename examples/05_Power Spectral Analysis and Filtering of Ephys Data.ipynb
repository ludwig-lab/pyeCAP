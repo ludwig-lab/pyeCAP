{
 "cells": [
  {
   "cell_type": "code",
   "execution_count": 13,
   "metadata": {},
   "outputs": [],
   "source": [
    "import pyeCAP\n",
    "import numpy as np\n",
    "import matplotlib.pyplot as plt"
   ]
  },
  {
   "cell_type": "code",
   "execution_count": 14,
   "metadata": {},
   "outputs": [],
   "source": [
    "directory = r\"pnpig191126-191204-174838\"\n",
    "data = pyeCAP.Ephys(directory, stores=['RawE', 'RawG'])"
   ]
  },
  {
   "cell_type": "code",
   "execution_count": 15,
   "metadata": {},
   "outputs": [],
   "source": [
    "data = data.remove_ch('RawG 4')\n",
    "\n",
    "# We can rename the channels using the set_ch_names method and providing a list of new channel names that matches the number of channels in the data set.\n",
    "data = data.set_ch_names(['LIFE 1', 'LIFE 2', 'LIFE 3', 'LIFE 4', 'EMG 1', 'EMG 2', 'EMG 3'])\n",
    "\n",
    "# Lets also set the types of the individual channels so that we can indepentently interact with LIFE and EMG channels\n",
    "data = data.set_ch_types(['LIFE', 'LIFE', 'LIFE', 'LIFE', 'EMG', 'EMG', 'EMG'])"
   ]
  },
  {
   "cell_type": "code",
   "execution_count": 16,
   "metadata": {},
   "outputs": [
    {
     "data": {
      "application/vnd.jupyter.widget-view+json": {
       "model_id": "2337e0283b0f4cb590f0d2a9ceebc991",
       "version_major": 2,
       "version_minor": 0
      },
      "text/plain": [
       "AppLayout(children=(Output(layout=Layout(grid_area='header')), FloatSlider(value=20.0, description='Start Time…"
      ]
     },
     "metadata": {},
     "output_type": "display_data"
    }
   ],
   "source": [
    "%matplotlib widget\n",
    "data.plot(channels=3, x_lim = (20,20.1), show='notebook')"
   ]
  },
  {
   "cell_type": "code",
   "execution_count": 17,
   "metadata": {},
   "outputs": [
    {
     "name": "stderr",
     "output_type": "stream",
     "text": [
      "C:\\Users\\jtrevathan\\AppData\\Local\\pypoetry\\Cache\\virtualenvs\\pyecap-Cin3wcq3-py3.9\\lib\\site-packages\\dask\\array\\overlap.py:652: FutureWarning: The use of map_overlap(array, func, **kwargs) is deprecated since dask 2.17.0 and will be an error in a future release. To silence this warning, use the syntax map_overlap(func, array0,[ array1, ...,] **kwargs) instead.\n",
      "  warnings.warn(\n"
     ]
    },
    {
     "data": {
      "application/vnd.jupyter.widget-view+json": {
       "model_id": "cce6f7d7e9d34158bc4e329ce4c9547e",
       "version_major": 2,
       "version_minor": 0
      },
      "text/plain": [
       "AppLayout(children=(Output(layout=Layout(grid_area='header')), FloatSlider(value=20.0, description='Start Time…"
      ]
     },
     "metadata": {},
     "output_type": "display_data"
    }
   ],
   "source": [
    "data_gaussian = data.filter_gaussian(Wn=2000, btype='lowpass')\n",
    "data_gaussian.plot(channels=3, x_lim = (20,20.1), show='notebook')"
   ]
  },
  {
   "cell_type": "code",
   "execution_count": 18,
   "metadata": {},
   "outputs": [
    {
     "name": "stderr",
     "output_type": "stream",
     "text": [
      "C:\\Users\\jtrevathan\\AppData\\Local\\pypoetry\\Cache\\virtualenvs\\pyecap-Cin3wcq3-py3.9\\lib\\site-packages\\dask\\array\\overlap.py:652: FutureWarning: The use of map_overlap(array, func, **kwargs) is deprecated since dask 2.17.0 and will be an error in a future release. To silence this warning, use the syntax map_overlap(func, array0,[ array1, ...,] **kwargs) instead.\n",
      "  warnings.warn(\n"
     ]
    },
    {
     "data": {
      "application/vnd.jupyter.widget-view+json": {
       "model_id": "78606880460f421dad90d38172974291",
       "version_major": 2,
       "version_minor": 0
      },
      "text/plain": [
       "AppLayout(children=(Output(layout=Layout(grid_area='header')), FloatSlider(value=20.0, description='Start Time…"
      ]
     },
     "metadata": {},
     "output_type": "display_data"
    }
   ],
   "source": [
    "data_median = data.filter_median(btype='highpass')\n",
    "data_median.plot(channels=3, x_lim = (20,20.1), show='notebook')"
   ]
  },
  {
   "cell_type": "code",
   "execution_count": 19,
   "metadata": {},
   "outputs": [
    {
     "name": "stderr",
     "output_type": "stream",
     "text": [
      "C:\\Users\\jtrevathan\\AppData\\Local\\pypoetry\\Cache\\virtualenvs\\pyecap-Cin3wcq3-py3.9\\lib\\site-packages\\dask\\array\\overlap.py:652: FutureWarning: The use of map_overlap(array, func, **kwargs) is deprecated since dask 2.17.0 and will be an error in a future release. To silence this warning, use the syntax map_overlap(func, array0,[ array1, ...,] **kwargs) instead.\n",
      "  warnings.warn(\n"
     ]
    },
    {
     "data": {
      "application/vnd.jupyter.widget-view+json": {
       "model_id": "5615e16112e94aabac1ba437aff3d6f5",
       "version_major": 2,
       "version_minor": 0
      },
      "text/plain": [
       "AppLayout(children=(Output(layout=Layout(grid_area='header')), FloatSlider(value=20.0, description='Start Time…"
      ]
     },
     "metadata": {},
     "output_type": "display_data"
    }
   ],
   "source": [
    "data_line_noise = data.filter_powerline(notch_width=None)\n",
    "data_line_noise.plot(channels=3, x_lim = (20,20.1), show='notebook')"
   ]
  },
  {
   "cell_type": "code",
   "execution_count": 20,
   "metadata": {},
   "outputs": [
    {
     "name": "stderr",
     "output_type": "stream",
     "text": [
      "C:\\Users\\jtrevathan\\AppData\\Local\\pypoetry\\Cache\\virtualenvs\\pyecap-Cin3wcq3-py3.9\\lib\\site-packages\\dask\\array\\overlap.py:652: FutureWarning: The use of map_overlap(array, func, **kwargs) is deprecated since dask 2.17.0 and will be an error in a future release. To silence this warning, use the syntax map_overlap(func, array0,[ array1, ...,] **kwargs) instead.\n",
      "  warnings.warn(\n",
      "C:\\Users\\jtrevathan\\AppData\\Local\\pypoetry\\Cache\\virtualenvs\\pyecap-Cin3wcq3-py3.9\\lib\\site-packages\\dask\\array\\overlap.py:652: FutureWarning: The use of map_overlap(array, func, **kwargs) is deprecated since dask 2.17.0 and will be an error in a future release. To silence this warning, use the syntax map_overlap(func, array0,[ array1, ...,] **kwargs) instead.\n",
      "  warnings.warn(\n"
     ]
    },
    {
     "data": {
      "application/vnd.jupyter.widget-view+json": {
       "model_id": "0ea24e6fc7d649a3968b1e643948b49e",
       "version_major": 2,
       "version_minor": 0
      },
      "text/plain": [
       "AppLayout(children=(Output(layout=Layout(grid_area='header')), FloatSlider(value=20.0, description='Start Time…"
      ]
     },
     "metadata": {},
     "output_type": "display_data"
    }
   ],
   "source": [
    "data_line_noise = data.filter_powerline(notch_width=1)\n",
    "data_line_noise.plot(channels=3, x_lim = (20,20.1), show='notebook')\n",
    "data_line_noise = data.filter_powerline(notch_width=None)\n",
    "data_line_noise.plot(channels=3, x_lim = (20,20.1), show='notebook')"
   ]
  },
  {
   "cell_type": "code",
   "execution_count": 21,
   "metadata": {},
   "outputs": [
    {
     "name": "stderr",
     "output_type": "stream",
     "text": [
      "C:\\Users\\jtrevathan\\AppData\\Local\\pypoetry\\Cache\\virtualenvs\\pyecap-Cin3wcq3-py3.9\\lib\\site-packages\\dask\\array\\overlap.py:652: FutureWarning: The use of map_overlap(array, func, **kwargs) is deprecated since dask 2.17.0 and will be an error in a future release. To silence this warning, use the syntax map_overlap(func, array0,[ array1, ...,] **kwargs) instead.\n",
      "  warnings.warn(\n",
      "C:\\Users\\jtrevathan\\AppData\\Local\\pypoetry\\Cache\\virtualenvs\\pyecap-Cin3wcq3-py3.9\\lib\\site-packages\\dask\\array\\overlap.py:652: FutureWarning: The use of map_overlap(array, func, **kwargs) is deprecated since dask 2.17.0 and will be an error in a future release. To silence this warning, use the syntax map_overlap(func, array0,[ array1, ...,] **kwargs) instead.\n",
      "  warnings.warn(\n",
      "C:\\Users\\jtrevathan\\AppData\\Local\\pypoetry\\Cache\\virtualenvs\\pyecap-Cin3wcq3-py3.9\\lib\\site-packages\\dask\\array\\overlap.py:652: FutureWarning: The use of map_overlap(array, func, **kwargs) is deprecated since dask 2.17.0 and will be an error in a future release. To silence this warning, use the syntax map_overlap(func, array0,[ array1, ...,] **kwargs) instead.\n",
      "  warnings.warn(\n"
     ]
    },
    {
     "data": {
      "application/vnd.jupyter.widget-view+json": {
       "model_id": "6ed3d4a4d57145df92f90434b46558cd",
       "version_major": 2,
       "version_minor": 0
      },
      "text/plain": [
       "AppLayout(children=(Output(layout=Layout(grid_area='header')), FloatSlider(value=20.0, description='Start Time…"
      ]
     },
     "metadata": {},
     "output_type": "display_data"
    }
   ],
   "source": [
    "data_filt1 = data.filter_median(btype='highpass')\n",
    "data_filt2 = data_filt1.filter_gaussian(Wn=2000, btype='lowpass')\n",
    "data_filt3 = data_filt2.filter_powerline()\n",
    "data_filt3.plot(channels=3, x_lim = (20,20.1), show='notebook')"
   ]
  },
  {
   "cell_type": "code",
   "execution_count": 22,
   "metadata": {},
   "outputs": [
    {
     "name": "stderr",
     "output_type": "stream",
     "text": [
      "C:\\Users\\jtrevathan\\AppData\\Local\\pypoetry\\Cache\\virtualenvs\\pyecap-Cin3wcq3-py3.9\\lib\\site-packages\\dask\\array\\overlap.py:652: FutureWarning: The use of map_overlap(array, func, **kwargs) is deprecated since dask 2.17.0 and will be an error in a future release. To silence this warning, use the syntax map_overlap(func, array0,[ array1, ...,] **kwargs) instead.\n",
      "  warnings.warn(\n",
      "C:\\Users\\jtrevathan\\AppData\\Local\\pypoetry\\Cache\\virtualenvs\\pyecap-Cin3wcq3-py3.9\\lib\\site-packages\\dask\\array\\overlap.py:652: FutureWarning: The use of map_overlap(array, func, **kwargs) is deprecated since dask 2.17.0 and will be an error in a future release. To silence this warning, use the syntax map_overlap(func, array0,[ array1, ...,] **kwargs) instead.\n",
      "  warnings.warn(\n",
      "C:\\Users\\jtrevathan\\AppData\\Local\\pypoetry\\Cache\\virtualenvs\\pyecap-Cin3wcq3-py3.9\\lib\\site-packages\\dask\\array\\overlap.py:652: FutureWarning: The use of map_overlap(array, func, **kwargs) is deprecated since dask 2.17.0 and will be an error in a future release. To silence this warning, use the syntax map_overlap(func, array0,[ array1, ...,] **kwargs) instead.\n",
      "  warnings.warn(\n"
     ]
    },
    {
     "data": {
      "application/vnd.jupyter.widget-view+json": {
       "model_id": "794a36ce453e4197985a9b0154564d09",
       "version_major": 2,
       "version_minor": 0
      },
      "text/plain": [
       "AppLayout(children=(Output(layout=Layout(grid_area='header')), FloatSlider(value=20.0, description='Start Time…"
      ]
     },
     "metadata": {},
     "output_type": "display_data"
    }
   ],
   "source": [
    "data_filt1 = data.filter_powerline()\n",
    "data_filt2 = data_filt1.filter_median(btype='highpass')\n",
    "data_filt3 = data_filt2.filter_gaussian(Wn=2000, btype='lowpass')\n",
    "data_filt3.plot(channels=3, x_lim = (20,20.1), show='notebook')"
   ]
  },
  {
   "cell_type": "code",
   "execution_count": 23,
   "metadata": {},
   "outputs": [
    {
     "name": "stderr",
     "output_type": "stream",
     "text": [
      "C:\\Users\\jtrevathan\\AppData\\Local\\pypoetry\\Cache\\virtualenvs\\pyecap-Cin3wcq3-py3.9\\lib\\site-packages\\dask\\array\\overlap.py:652: FutureWarning: The use of map_overlap(array, func, **kwargs) is deprecated since dask 2.17.0 and will be an error in a future release. To silence this warning, use the syntax map_overlap(func, array0,[ array1, ...,] **kwargs) instead.\n",
      "  warnings.warn(\n",
      "C:\\Users\\jtrevathan\\AppData\\Local\\pypoetry\\Cache\\virtualenvs\\pyecap-Cin3wcq3-py3.9\\lib\\site-packages\\dask\\array\\overlap.py:652: FutureWarning: The use of map_overlap(array, func, **kwargs) is deprecated since dask 2.17.0 and will be an error in a future release. To silence this warning, use the syntax map_overlap(func, array0,[ array1, ...,] **kwargs) instead.\n",
      "  warnings.warn(\n",
      "C:\\Users\\jtrevathan\\AppData\\Local\\pypoetry\\Cache\\virtualenvs\\pyecap-Cin3wcq3-py3.9\\lib\\site-packages\\dask\\array\\overlap.py:652: FutureWarning: The use of map_overlap(array, func, **kwargs) is deprecated since dask 2.17.0 and will be an error in a future release. To silence this warning, use the syntax map_overlap(func, array0,[ array1, ...,] **kwargs) instead.\n",
      "  warnings.warn(\n"
     ]
    },
    {
     "data": {
      "application/vnd.jupyter.widget-view+json": {
       "model_id": "43999410eb384977aa6a58c4a334e8d0",
       "version_major": 2,
       "version_minor": 0
      },
      "text/plain": [
       "AppLayout(children=(Output(layout=Layout(grid_area='header')), FloatSlider(value=20.0, description='Start Time…"
      ]
     },
     "metadata": {},
     "output_type": "display_data"
    }
   ],
   "source": [
    "data_filt1 = data.filter_powerline()\n",
    "data_filt2 = data_filt1.filter_gaussian(Wn=2000, btype='lowpass')\n",
    "data_filt3 = data_filt2.filter_median(btype='highpass')\n",
    "data_filt3.plot(channels=3, x_lim = (20,20.1), show='notebook')"
   ]
  },
  {
   "cell_type": "code",
   "execution_count": 24,
   "metadata": {},
   "outputs": [
    {
     "name": "stderr",
     "output_type": "stream",
     "text": [
      "C:\\Users\\jtrevathan\\AppData\\Local\\pypoetry\\Cache\\virtualenvs\\pyecap-Cin3wcq3-py3.9\\lib\\site-packages\\dask\\array\\overlap.py:652: FutureWarning: The use of map_overlap(array, func, **kwargs) is deprecated since dask 2.17.0 and will be an error in a future release. To silence this warning, use the syntax map_overlap(func, array0,[ array1, ...,] **kwargs) instead.\n",
      "  warnings.warn(\n",
      "C:\\Users\\jtrevathan\\AppData\\Local\\pypoetry\\Cache\\virtualenvs\\pyecap-Cin3wcq3-py3.9\\lib\\site-packages\\dask\\array\\overlap.py:652: FutureWarning: The use of map_overlap(array, func, **kwargs) is deprecated since dask 2.17.0 and will be an error in a future release. To silence this warning, use the syntax map_overlap(func, array0,[ array1, ...,] **kwargs) instead.\n",
      "  warnings.warn(\n",
      "C:\\Users\\jtrevathan\\AppData\\Local\\pypoetry\\Cache\\virtualenvs\\pyecap-Cin3wcq3-py3.9\\lib\\site-packages\\dask\\array\\overlap.py:652: FutureWarning: The use of map_overlap(array, func, **kwargs) is deprecated since dask 2.17.0 and will be an error in a future release. To silence this warning, use the syntax map_overlap(func, array0,[ array1, ...,] **kwargs) instead.\n",
      "  warnings.warn(\n"
     ]
    },
    {
     "data": {
      "application/vnd.jupyter.widget-view+json": {
       "model_id": "99365c1dda934eaa9fb1df1653f1cef7",
       "version_major": 2,
       "version_minor": 0
      },
      "text/plain": [
       "AppLayout(children=(Output(layout=Layout(grid_area='header')), FloatSlider(value=20.0, description='Start Time…"
      ]
     },
     "metadata": {},
     "output_type": "display_data"
    }
   ],
   "source": [
    "data_filt1 = data.filter_gaussian(Wn=2000, btype='lowpass')\n",
    "data_filt2 = data_filt1.filter_median(btype='highpass')\n",
    "data_filt3 = data_filt2.filter_powerline()\n",
    "data_filt3.plot(channels=3, x_lim = (20,20.1), show='notebook')"
   ]
  },
  {
   "cell_type": "code",
   "execution_count": null,
   "metadata": {},
   "outputs": [],
   "source": []
  },
  {
   "cell_type": "code",
   "execution_count": null,
   "metadata": {},
   "outputs": [],
   "source": []
  }
 ],
 "metadata": {
  "kernelspec": {
   "display_name": "Python 3 (ipykernel)",
   "language": "python",
   "name": "python3"
  },
  "language_info": {
   "codemirror_mode": {
    "name": "ipython",
    "version": 3
   },
   "file_extension": ".py",
   "mimetype": "text/x-python",
   "name": "python",
   "nbconvert_exporter": "python",
   "pygments_lexer": "ipython3",
   "version": "3.9.13"
  }
 },
 "nbformat": 4,
 "nbformat_minor": 4
}
