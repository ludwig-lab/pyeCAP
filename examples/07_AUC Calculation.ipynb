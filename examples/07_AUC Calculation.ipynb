{
 "cells": [
  {
   "cell_type": "markdown",
   "metadata": {},
   "source": [
    "# Tutorial 01 - Calculating Magnitudes of Evoked Compound Action Potentials\n",
    "\n",
    "We have included several methods to allow the user to calculate the magnitude of an action potential.  This is intedended to be an intermediate step with the end goal being to establish dose response curves plotting the magnitude of response against the amplitude of stimulation."
   ]
  },
  {
   "cell_type": "code",
   "execution_count": 2,
   "metadata": {},
   "outputs": [
    {
     "name": "stderr",
     "output_type": "stream",
     "text": [
      "c:\\users\\malal\\documents\\witne\\pycap\\pyecap\\pyeCAP\\io\\ripple_io.py:13: UserWarning: No Neuroshare package found, Ripple files will not work\n",
      "  warnings.warn(\"No Neuroshare package found, Ripple files will not work\")\n"
     ]
    }
   ],
   "source": [
    "import pyeCAP\n",
    "import matplotlib.pyplot as plt\n",
    "import seaborn as sns\n",
    "import pandas as pd\n",
    "import numpy as np\n",
    "sns.set_context(\"paper\")"
   ]
  },
  {
   "cell_type": "markdown",
   "metadata": {},
   "source": [
    "#### Set the file_location to the included sample data and import data using the Ephys class.\n",
    "Note: You'll see some additional variables here that account for the delay between the onset of the recording and the onset of the stimulus."
   ]
  },
  {
   "cell_type": "code",
   "execution_count": 4,
   "metadata": {},
   "outputs": [
    {
     "name": "stdout",
     "output_type": "stream",
     "text": [
      "read from t=0s to t=153.36s\n"
     ]
    }
   ],
   "source": [
    "file_location = tdt_tanks = r\"C:\\Users\\malal\\Documents\\WITNE\\pyCAP\\TutorialExamples\\pnpig191126-191204-151801\"\n",
    "data_ephys = pyeCAP.Ephys(data=file_location, stores=['RawE', 'RawG'])"
   ]
  },
  {
   "cell_type": "markdown",
   "metadata": {},
   "source": [
    "#### Groom  & Filter the Data"
   ]
  },
  {
   "cell_type": "code",
   "execution_count": 5,
   "metadata": {},
   "outputs": [
    {
     "name": "stderr",
     "output_type": "stream",
     "text": [
      "C:\\Users\\malal\\anaconda3\\envs\\pyeCAP\\lib\\site-packages\\dask-2021.7.1-py3.7.egg\\dask\\array\\overlap.py:633: FutureWarning: The use of map_overlap(array, func, **kwargs) is deprecated since dask 2.17.0 and will be an error in a future release. To silence this warning, use the syntax map_overlap(func, array0,[ array1, ...,] **kwargs) instead.\n",
      "  FutureWarning,\n",
      "C:\\Users\\malal\\anaconda3\\envs\\pyeCAP\\lib\\site-packages\\dask-2021.7.1-py3.7.egg\\dask\\array\\overlap.py:633: FutureWarning: The use of map_overlap(array, func, **kwargs) is deprecated since dask 2.17.0 and will be an error in a future release. To silence this warning, use the syntax map_overlap(func, array0,[ array1, ...,] **kwargs) instead.\n",
      "  FutureWarning,\n",
      "C:\\Users\\malal\\anaconda3\\envs\\pyeCAP\\lib\\site-packages\\dask-2021.7.1-py3.7.egg\\dask\\array\\overlap.py:633: FutureWarning: The use of map_overlap(array, func, **kwargs) is deprecated since dask 2.17.0 and will be an error in a future release. To silence this warning, use the syntax map_overlap(func, array0,[ array1, ...,] **kwargs) instead.\n",
      "  FutureWarning,\n"
     ]
    }
   ],
   "source": [
    "# Groom Data\n",
    "data_ephys = data_ephys.remove_ch('RawG 4')\n",
    "rec_ch_names = ['LIFE 1', 'LIFE 2', 'LIFE 3', 'LIFE 4', 'EMG 1', 'EMG 2', 'EMG 3']\n",
    "rec_ch_types = ['LIFE', 'LIFE', 'LIFE', 'LIFE', 'EMG', 'EMG', 'EMG']\n",
    "data_ephys = data_ephys.set_ch_names(rec_ch_names)\n",
    "data_ephys = data_ephys.set_ch_types(rec_ch_types)\n",
    "\n",
    "# Filter Data\n",
    "data_ephys = data_ephys.filter_powerline()\n",
    "data_ephys = data_ephys.filter_median(btype='highpass')\n",
    "data_ephys = data_ephys.filter_gaussian(Wn=4000, btype='lowpass')"
   ]
  },
  {
   "cell_type": "markdown",
   "metadata": {},
   "source": [
    "#### Initiate an instance of the Stim class (this will get passed to the ECAP class, which does our calculations)"
   ]
  },
  {
   "cell_type": "code",
   "execution_count": 7,
   "metadata": {},
   "outputs": [
    {
     "name": "stdout",
     "output_type": "stream",
     "text": [
      "read from t=0s to t=153.36s\n"
     ]
    }
   ],
   "source": [
    "data_stim = pyeCAP.Stim(file_location)"
   ]
  },
  {
   "cell_type": "markdown",
   "metadata": {},
   "source": [
    "#### Initiate an instance of the ECAP class (this takes as an argument the distances from the stimulating electrode to the recording electrode) and average the data across stimulation trains, per stimulation"
   ]
  },
  {
   "cell_type": "code",
   "execution_count": 8,
   "metadata": {},
   "outputs": [
    {
     "name": "stderr",
     "output_type": "stream",
     "text": [
      "c:\\users\\malal\\documents\\witne\\pycap\\pyecap\\pyeCAP\\ecap.py:61: UserWarning: Neural channels not implicitly stated. Assuming all channels are neural recordings\n",
      "  warnings.warn(\"Neural channels not implicitly stated. Assuming all channels are neural recordings\")\n"
     ]
    },
    {
     "ename": "ValueError",
     "evalue": "The truth value of an array with more than one element is ambiguous. Use a.any() or a.all()",
     "output_type": "error",
     "traceback": [
      "\u001b[1;31m---------------------------------------------------------------------------\u001b[0m",
      "\u001b[1;31mValueError\u001b[0m                                Traceback (most recent call last)",
      "\u001b[1;32m<ipython-input-8-d1c1df3137d8>\u001b[0m in \u001b[0;36m<module>\u001b[1;34m\u001b[0m\n\u001b[1;32m----> 1\u001b[1;33m \u001b[0mdata_ecap\u001b[0m \u001b[1;33m=\u001b[0m \u001b[0mpyeCAP\u001b[0m\u001b[1;33m.\u001b[0m\u001b[0mECAP\u001b[0m\u001b[1;33m(\u001b[0m\u001b[0mdata_ephys\u001b[0m\u001b[1;33m,\u001b[0m \u001b[0mdata_stim\u001b[0m\u001b[1;33m,\u001b[0m \u001b[0mdistance_log\u001b[0m\u001b[1;33m=\u001b[0m\u001b[1;33m[\u001b[0m\u001b[1;36m7.7\u001b[0m\u001b[1;33m,\u001b[0m \u001b[1;36m8.3\u001b[0m\u001b[1;33m,\u001b[0m \u001b[1;36m8.5\u001b[0m\u001b[1;33m,\u001b[0m \u001b[1;36m8.6\u001b[0m\u001b[1;33m]\u001b[0m\u001b[1;33m)\u001b[0m\u001b[1;33m\u001b[0m\u001b[1;33m\u001b[0m\u001b[0m\n\u001b[0m\u001b[0;32m      2\u001b[0m \u001b[0mdata_ecap\u001b[0m\u001b[1;33m.\u001b[0m\u001b[0maverage_data\u001b[0m\u001b[1;33m(\u001b[0m\u001b[1;33m)\u001b[0m\u001b[1;33m\u001b[0m\u001b[1;33m\u001b[0m\u001b[0m\n",
      "\u001b[1;32mc:\\users\\malal\\documents\\witne\\pycap\\pyecap\\pyeCAP\\ecap.py\u001b[0m in \u001b[0;36m__init__\u001b[1;34m(self, ephys_data, stim_data, distance_log)\u001b[0m\n\u001b[0;32m     64\u001b[0m         \u001b[0mself\u001b[0m\u001b[1;33m.\u001b[0m\u001b[0mneural_window_indicies\u001b[0m \u001b[1;33m=\u001b[0m \u001b[0mself\u001b[0m\u001b[1;33m.\u001b[0m\u001b[0mcalculate_neural_window_lengths\u001b[0m\u001b[1;33m(\u001b[0m\u001b[1;33m)\u001b[0m\u001b[1;33m\u001b[0m\u001b[1;33m\u001b[0m\u001b[0m\n\u001b[0;32m     65\u001b[0m \u001b[1;33m\u001b[0m\u001b[0m\n\u001b[1;32m---> 66\u001b[1;33m         \u001b[1;32mif\u001b[0m \u001b[0mlen\u001b[0m\u001b[1;33m(\u001b[0m\u001b[0mself\u001b[0m\u001b[1;33m.\u001b[0m\u001b[0mneural_window_indicies\u001b[0m\u001b[1;33m)\u001b[0m \u001b[1;33m!=\u001b[0m \u001b[0mlen\u001b[0m\u001b[1;33m(\u001b[0m\u001b[0mself\u001b[0m\u001b[1;33m.\u001b[0m\u001b[0mdistance_log\u001b[0m\u001b[1;33m)\u001b[0m \u001b[1;32mand\u001b[0m \u001b[0mself\u001b[0m\u001b[1;33m.\u001b[0m\u001b[0mdistance_log\u001b[0m \u001b[1;33m!=\u001b[0m \u001b[1;33m[\u001b[0m\u001b[1;36m0\u001b[0m\u001b[1;33m]\u001b[0m\u001b[1;33m:\u001b[0m\u001b[1;33m\u001b[0m\u001b[1;33m\u001b[0m\u001b[0m\n\u001b[0m\u001b[0;32m     67\u001b[0m             \u001b[1;32mraise\u001b[0m \u001b[0mValueError\u001b[0m\u001b[1;33m(\u001b[0m\u001b[1;34m\"Recording lengths don't match recording channel lengths\"\u001b[0m\u001b[1;33m)\u001b[0m\u001b[1;33m\u001b[0m\u001b[1;33m\u001b[0m\u001b[0m\n\u001b[0;32m     68\u001b[0m \u001b[1;33m\u001b[0m\u001b[0m\n",
      "\u001b[1;31mValueError\u001b[0m: The truth value of an array with more than one element is ambiguous. Use a.any() or a.all()"
     ]
    }
   ],
   "source": [
    "data_ecap = pyeCAP.ECAP(data_ephys, data_stim, distance_log=[7.7, 8.3, 8.5, 8.6])\n",
    "data_ecap.average_data()"
   ]
  },
  {
   "cell_type": "markdown",
   "metadata": {},
   "source": [
    "#### The method calculate_AUC within the ECAP class will calculate the area under the curve for the entire averaged data"
   ]
  },
  {
   "cell_type": "code",
   "execution_count": 8,
   "metadata": {},
   "outputs": [],
   "source": [
    "data_ecap.calculate_AUC()"
   ]
  },
  {
   "cell_type": "markdown",
   "metadata": {},
   "source": [
    "#### Let's pull this data into a pandas DataFrame and take a look"
   ]
  },
  {
   "cell_type": "code",
   "execution_count": 9,
   "metadata": {},
   "outputs": [
    {
     "data": {
      "text/html": [
       "<div>\n",
       "<style scoped>\n",
       "    .dataframe tbody tr th:only-of-type {\n",
       "        vertical-align: middle;\n",
       "    }\n",
       "\n",
       "    .dataframe tbody tr th {\n",
       "        vertical-align: top;\n",
       "    }\n",
       "\n",
       "    .dataframe thead th {\n",
       "        text-align: right;\n",
       "    }\n",
       "</style>\n",
       "<table border=\"1\" class=\"dataframe\">\n",
       "  <thead>\n",
       "    <tr style=\"text-align: right;\">\n",
       "      <th></th>\n",
       "      <th>AUC (Vs)</th>\n",
       "      <th>Calculation Type</th>\n",
       "      <th>Calculation Window</th>\n",
       "      <th>onset time (s)</th>\n",
       "      <th>offset time (s)</th>\n",
       "      <th>period (ms)</th>\n",
       "      <th>frequency (Hz)</th>\n",
       "      <th>pulse count</th>\n",
       "      <th>pulse amplitude (μA)</th>\n",
       "      <th>duration (ms)</th>\n",
       "      <th>pulse duration (ms)</th>\n",
       "      <th>interphase delay (ms)</th>\n",
       "      <th>channel</th>\n",
       "      <th>Recording Electrode</th>\n",
       "    </tr>\n",
       "  </thead>\n",
       "  <tbody>\n",
       "    <tr>\n",
       "      <th>0</th>\n",
       "      <td>0.000068</td>\n",
       "      <td>RMS</td>\n",
       "      <td>A-alpha</td>\n",
       "      <td>55.625687</td>\n",
       "      <td>56.626135</td>\n",
       "      <td>40.017918</td>\n",
       "      <td>24.988806</td>\n",
       "      <td>25</td>\n",
       "      <td>-2000.0</td>\n",
       "      <td>1000.447941</td>\n",
       "      <td>0.4</td>\n",
       "      <td>0.0</td>\n",
       "      <td>1</td>\n",
       "      <td>0</td>\n",
       "    </tr>\n",
       "    <tr>\n",
       "      <th>1</th>\n",
       "      <td>0.000627</td>\n",
       "      <td>RMS</td>\n",
       "      <td>A-beta</td>\n",
       "      <td>55.625687</td>\n",
       "      <td>56.626135</td>\n",
       "      <td>40.017918</td>\n",
       "      <td>24.988806</td>\n",
       "      <td>25</td>\n",
       "      <td>-2000.0</td>\n",
       "      <td>1000.447941</td>\n",
       "      <td>0.4</td>\n",
       "      <td>0.0</td>\n",
       "      <td>1</td>\n",
       "      <td>0</td>\n",
       "    </tr>\n",
       "    <tr>\n",
       "      <th>2</th>\n",
       "      <td>0.000008</td>\n",
       "      <td>RMS</td>\n",
       "      <td>A-gamma</td>\n",
       "      <td>55.625687</td>\n",
       "      <td>56.626135</td>\n",
       "      <td>40.017918</td>\n",
       "      <td>24.988806</td>\n",
       "      <td>25</td>\n",
       "      <td>-2000.0</td>\n",
       "      <td>1000.447941</td>\n",
       "      <td>0.4</td>\n",
       "      <td>0.0</td>\n",
       "      <td>1</td>\n",
       "      <td>0</td>\n",
       "    </tr>\n",
       "    <tr>\n",
       "      <th>3</th>\n",
       "      <td>0.000005</td>\n",
       "      <td>RMS</td>\n",
       "      <td>A-delta</td>\n",
       "      <td>55.625687</td>\n",
       "      <td>56.626135</td>\n",
       "      <td>40.017918</td>\n",
       "      <td>24.988806</td>\n",
       "      <td>25</td>\n",
       "      <td>-2000.0</td>\n",
       "      <td>1000.447941</td>\n",
       "      <td>0.4</td>\n",
       "      <td>0.0</td>\n",
       "      <td>1</td>\n",
       "      <td>0</td>\n",
       "    </tr>\n",
       "    <tr>\n",
       "      <th>4</th>\n",
       "      <td>0.000003</td>\n",
       "      <td>RMS</td>\n",
       "      <td>B</td>\n",
       "      <td>55.625687</td>\n",
       "      <td>56.626135</td>\n",
       "      <td>40.017918</td>\n",
       "      <td>24.988806</td>\n",
       "      <td>25</td>\n",
       "      <td>-2000.0</td>\n",
       "      <td>1000.447941</td>\n",
       "      <td>0.4</td>\n",
       "      <td>0.0</td>\n",
       "      <td>1</td>\n",
       "      <td>0</td>\n",
       "    </tr>\n",
       "  </tbody>\n",
       "</table>\n",
       "</div>"
      ],
      "text/plain": [
       "   AUC (Vs) Calculation Type Calculation Window  onset time (s)  \\\n",
       "0  0.000068              RMS            A-alpha       55.625687   \n",
       "1  0.000627              RMS             A-beta       55.625687   \n",
       "2  0.000008              RMS            A-gamma       55.625687   \n",
       "3  0.000005              RMS            A-delta       55.625687   \n",
       "4  0.000003              RMS                  B       55.625687   \n",
       "\n",
       "   offset time (s)  period (ms)  frequency (Hz)  pulse count  \\\n",
       "0        56.626135    40.017918       24.988806           25   \n",
       "1        56.626135    40.017918       24.988806           25   \n",
       "2        56.626135    40.017918       24.988806           25   \n",
       "3        56.626135    40.017918       24.988806           25   \n",
       "4        56.626135    40.017918       24.988806           25   \n",
       "\n",
       "   pulse amplitude (μA)  duration (ms)  pulse duration (ms)  \\\n",
       "0               -2000.0    1000.447941                  0.4   \n",
       "1               -2000.0    1000.447941                  0.4   \n",
       "2               -2000.0    1000.447941                  0.4   \n",
       "3               -2000.0    1000.447941                  0.4   \n",
       "4               -2000.0    1000.447941                  0.4   \n",
       "\n",
       "   interphase delay (ms)  channel  Recording Electrode  \n",
       "0                    0.0        1                    0  \n",
       "1                    0.0        1                    0  \n",
       "2                    0.0        1                    0  \n",
       "3                    0.0        1                    0  \n",
       "4                    0.0        1                    0  "
      ]
     },
     "execution_count": 9,
     "metadata": {},
     "output_type": "execute_result"
    }
   ],
   "source": [
    "df = data_ecap.master_df\n",
    "df.head()"
   ]
  },
  {
   "cell_type": "markdown",
   "metadata": {},
   "source": [
    "##### You'll note that our stimulation amplitudes (pulse amplitude (μA))  are all negative. This is the convention for cathodic based stimulation.  Let's change these from negative to positive to make figures more intuitive"
   ]
  },
  {
   "cell_type": "code",
   "execution_count": 10,
   "metadata": {},
   "outputs": [
    {
     "data": {
      "text/html": [
       "<div>\n",
       "<style scoped>\n",
       "    .dataframe tbody tr th:only-of-type {\n",
       "        vertical-align: middle;\n",
       "    }\n",
       "\n",
       "    .dataframe tbody tr th {\n",
       "        vertical-align: top;\n",
       "    }\n",
       "\n",
       "    .dataframe thead th {\n",
       "        text-align: right;\n",
       "    }\n",
       "</style>\n",
       "<table border=\"1\" class=\"dataframe\">\n",
       "  <thead>\n",
       "    <tr style=\"text-align: right;\">\n",
       "      <th></th>\n",
       "      <th>AUC (Vs)</th>\n",
       "      <th>Calculation Type</th>\n",
       "      <th>Calculation Window</th>\n",
       "      <th>onset time (s)</th>\n",
       "      <th>offset time (s)</th>\n",
       "      <th>period (ms)</th>\n",
       "      <th>frequency (Hz)</th>\n",
       "      <th>pulse count</th>\n",
       "      <th>pulse amplitude (μA)</th>\n",
       "      <th>duration (ms)</th>\n",
       "      <th>pulse duration (ms)</th>\n",
       "      <th>interphase delay (ms)</th>\n",
       "      <th>channel</th>\n",
       "      <th>Recording Electrode</th>\n",
       "    </tr>\n",
       "  </thead>\n",
       "  <tbody>\n",
       "    <tr>\n",
       "      <th>0</th>\n",
       "      <td>0.000068</td>\n",
       "      <td>RMS</td>\n",
       "      <td>A-alpha</td>\n",
       "      <td>55.625687</td>\n",
       "      <td>56.626135</td>\n",
       "      <td>40.017918</td>\n",
       "      <td>24.988806</td>\n",
       "      <td>25</td>\n",
       "      <td>2000.0</td>\n",
       "      <td>1000.447941</td>\n",
       "      <td>0.4</td>\n",
       "      <td>0.0</td>\n",
       "      <td>1</td>\n",
       "      <td>0</td>\n",
       "    </tr>\n",
       "    <tr>\n",
       "      <th>1</th>\n",
       "      <td>0.000627</td>\n",
       "      <td>RMS</td>\n",
       "      <td>A-beta</td>\n",
       "      <td>55.625687</td>\n",
       "      <td>56.626135</td>\n",
       "      <td>40.017918</td>\n",
       "      <td>24.988806</td>\n",
       "      <td>25</td>\n",
       "      <td>2000.0</td>\n",
       "      <td>1000.447941</td>\n",
       "      <td>0.4</td>\n",
       "      <td>0.0</td>\n",
       "      <td>1</td>\n",
       "      <td>0</td>\n",
       "    </tr>\n",
       "    <tr>\n",
       "      <th>2</th>\n",
       "      <td>0.000008</td>\n",
       "      <td>RMS</td>\n",
       "      <td>A-gamma</td>\n",
       "      <td>55.625687</td>\n",
       "      <td>56.626135</td>\n",
       "      <td>40.017918</td>\n",
       "      <td>24.988806</td>\n",
       "      <td>25</td>\n",
       "      <td>2000.0</td>\n",
       "      <td>1000.447941</td>\n",
       "      <td>0.4</td>\n",
       "      <td>0.0</td>\n",
       "      <td>1</td>\n",
       "      <td>0</td>\n",
       "    </tr>\n",
       "    <tr>\n",
       "      <th>3</th>\n",
       "      <td>0.000005</td>\n",
       "      <td>RMS</td>\n",
       "      <td>A-delta</td>\n",
       "      <td>55.625687</td>\n",
       "      <td>56.626135</td>\n",
       "      <td>40.017918</td>\n",
       "      <td>24.988806</td>\n",
       "      <td>25</td>\n",
       "      <td>2000.0</td>\n",
       "      <td>1000.447941</td>\n",
       "      <td>0.4</td>\n",
       "      <td>0.0</td>\n",
       "      <td>1</td>\n",
       "      <td>0</td>\n",
       "    </tr>\n",
       "    <tr>\n",
       "      <th>4</th>\n",
       "      <td>0.000003</td>\n",
       "      <td>RMS</td>\n",
       "      <td>B</td>\n",
       "      <td>55.625687</td>\n",
       "      <td>56.626135</td>\n",
       "      <td>40.017918</td>\n",
       "      <td>24.988806</td>\n",
       "      <td>25</td>\n",
       "      <td>2000.0</td>\n",
       "      <td>1000.447941</td>\n",
       "      <td>0.4</td>\n",
       "      <td>0.0</td>\n",
       "      <td>1</td>\n",
       "      <td>0</td>\n",
       "    </tr>\n",
       "  </tbody>\n",
       "</table>\n",
       "</div>"
      ],
      "text/plain": [
       "   AUC (Vs) Calculation Type Calculation Window  onset time (s)  \\\n",
       "0  0.000068              RMS            A-alpha       55.625687   \n",
       "1  0.000627              RMS             A-beta       55.625687   \n",
       "2  0.000008              RMS            A-gamma       55.625687   \n",
       "3  0.000005              RMS            A-delta       55.625687   \n",
       "4  0.000003              RMS                  B       55.625687   \n",
       "\n",
       "   offset time (s)  period (ms)  frequency (Hz)  pulse count  \\\n",
       "0        56.626135    40.017918       24.988806           25   \n",
       "1        56.626135    40.017918       24.988806           25   \n",
       "2        56.626135    40.017918       24.988806           25   \n",
       "3        56.626135    40.017918       24.988806           25   \n",
       "4        56.626135    40.017918       24.988806           25   \n",
       "\n",
       "   pulse amplitude (μA)  duration (ms)  pulse duration (ms)  \\\n",
       "0                2000.0    1000.447941                  0.4   \n",
       "1                2000.0    1000.447941                  0.4   \n",
       "2                2000.0    1000.447941                  0.4   \n",
       "3                2000.0    1000.447941                  0.4   \n",
       "4                2000.0    1000.447941                  0.4   \n",
       "\n",
       "   interphase delay (ms)  channel  Recording Electrode  \n",
       "0                    0.0        1                    0  \n",
       "1                    0.0        1                    0  \n",
       "2                    0.0        1                    0  \n",
       "3                    0.0        1                    0  \n",
       "4                    0.0        1                    0  "
      ]
     },
     "execution_count": 10,
     "metadata": {},
     "output_type": "execute_result"
    }
   ],
   "source": [
    "df['pulse amplitude (μA)'] = df['pulse amplitude (μA)'] * -1\n",
    "df.head()"
   ]
  },
  {
   "cell_type": "markdown",
   "metadata": {},
   "source": [
    "#### Now, let's make a nice plot of our A-alphas"
   ]
  },
  {
   "cell_type": "code",
   "execution_count": 11,
   "metadata": {},
   "outputs": [
    {
     "data": {
      "image/png": "[encoded data removed]",
      "text/plain": [
       "<Figure size 1200x675 with 1 Axes>"
      ]
     },
     "metadata": {},
     "output_type": "display_data"
    }
   ],
   "source": [
    "fig, ax = plt.subplots(1, dpi=300, figsize=(4,9./4))\n",
    "\n",
    "sns.lineplot(x=\"pulse amplitude (μA)\", y='AUC (Vs)',\n",
    "             marker='o',\n",
    "             estimator=np.mean,\n",
    "             ci=0,\n",
    "             hue=\"channel\",\n",
    "             data=df[(df[\"Calculation Window\"] == \"A-alpha\") &\n",
    "                     (df[\"Calculation Type\"] == \"RMS\")], ax=ax)\n",
    "\n",
    "ax.set_title('A-α Dose Response')\n",
    "plt.tight_layout()\n",
    "plt.show()"
   ]
  },
  {
   "cell_type": "code",
   "execution_count": 3,
   "metadata": {},
   "outputs": [
    {
     "name": "stdout",
     "output_type": "stream",
     "text": [
      "read from t=0s to t=153.36s\n"
     ]
    }
   ],
   "source": [
    "data_stim = pyeCAP.Stim(file_location)"
   ]
  },
  {
   "cell_type": "code",
   "execution_count": 7,
   "metadata": {},
   "outputs": [
    {
     "name": "stderr",
     "output_type": "stream",
     "text": [
      "c:\\users\\malal\\documents\\witne\\pycap\\eba-toolkit\\eba_toolkit\\ecap.py:61: UserWarning: Neural channels not implicitly stated. Assuming all channels are neural recordings\n",
      "  warnings.warn(\"Neural channels not implicitly stated. Assuming all channels are neural recordings\")\n"
     ]
    }
   ],
   "source": [
    "data_ecap=pyeCAP.ECAP(data_ephys, data_stim)"
   ]
  },
  {
   "cell_type": "code",
   "execution_count": 13,
   "metadata": {},
   "outputs": [
    {
     "name": "stdout",
     "output_type": "stream",
     "text": [
      "[(0, 1)]\n"
     ]
    },
    {
     "ename": "IndexError",
     "evalue": "Index is not smaller than dimension 0 >= 0",
     "output_type": "error",
     "traceback": [
      "\u001b[1;31m---------------------------------------------------------------------------\u001b[0m",
      "\u001b[1;31mIndexError\u001b[0m                                Traceback (most recent call last)",
      "\u001b[1;32m<ipython-input-13-6423c0b533fd>\u001b[0m in \u001b[0;36m<module>\u001b[1;34m\u001b[0m\n\u001b[1;32m----> 1\u001b[1;33m \u001b[0mdata_ecap\u001b[0m\u001b[1;33m.\u001b[0m\u001b[0mplot_channel\u001b[0m\u001b[1;33m(\u001b[0m\u001b[1;34m\"Stim 1\"\u001b[0m\u001b[1;33m,\u001b[0m \u001b[1;33m[\u001b[0m\u001b[1;33m(\u001b[0m\u001b[1;36m0\u001b[0m\u001b[1;33m,\u001b[0m\u001b[1;36m1\u001b[0m\u001b[1;33m)\u001b[0m\u001b[1;33m]\u001b[0m\u001b[1;33m)\u001b[0m\u001b[1;33m\u001b[0m\u001b[1;33m\u001b[0m\u001b[0m\n\u001b[0m",
      "\u001b[1;32mc:\\users\\malal\\documents\\witne\\pycap\\eba-toolkit\\eba_toolkit\\base\\epoch_data.py\u001b[0m in \u001b[0;36mplot_channel\u001b[1;34m(self, channel, parameters, method, axis, x_lim, y_lim, colors, fig_size, show, *args, **kwargs)\u001b[0m\n\u001b[0;32m    331\u001b[0m                 \u001b[0mcalc_y_lim\u001b[0m \u001b[1;33m=\u001b[0m \u001b[0m_to_numeric_array\u001b[0m\u001b[1;33m(\u001b[0m\u001b[0my_lim\u001b[0m\u001b[1;33m)\u001b[0m\u001b[1;33m\u001b[0m\u001b[1;33m\u001b[0m\u001b[0m\n\u001b[0;32m    332\u001b[0m \u001b[1;33m\u001b[0m\u001b[0m\n\u001b[1;32m--> 333\u001b[1;33m             \u001b[0max\u001b[0m\u001b[1;33m.\u001b[0m\u001b[0mplot\u001b[0m\u001b[1;33m(\u001b[0m\u001b[0mplot_time\u001b[0m\u001b[1;33m,\u001b[0m \u001b[0mplot_data\u001b[0m\u001b[1;33m[\u001b[0m\u001b[1;36m0\u001b[0m\u001b[1;33m,\u001b[0m \u001b[1;33m:\u001b[0m\u001b[1;33m]\u001b[0m\u001b[1;33m,\u001b[0m \u001b[1;33m*\u001b[0m\u001b[0margs\u001b[0m\u001b[1;33m,\u001b[0m \u001b[0mcolor\u001b[0m\u001b[1;33m=\u001b[0m\u001b[0mc\u001b[0m\u001b[1;33m,\u001b[0m \u001b[1;33m**\u001b[0m\u001b[0mkwargs\u001b[0m\u001b[1;33m)\u001b[0m\u001b[1;33m\u001b[0m\u001b[1;33m\u001b[0m\u001b[0m\n\u001b[0m\u001b[0;32m    334\u001b[0m \u001b[1;33m\u001b[0m\u001b[0m\n\u001b[0;32m    335\u001b[0m         \u001b[0max\u001b[0m\u001b[1;33m.\u001b[0m\u001b[0mset_ylim\u001b[0m\u001b[1;33m(\u001b[0m\u001b[0mcalc_y_lim\u001b[0m\u001b[1;33m)\u001b[0m\u001b[1;33m\u001b[0m\u001b[1;33m\u001b[0m\u001b[0m\n",
      "\u001b[1;32m~\\anaconda3\\envs\\ebatkit\\lib\\site-packages\\dask\\array\\core.py\u001b[0m in \u001b[0;36m__getitem__\u001b[1;34m(self, index)\u001b[0m\n\u001b[0;32m   1659\u001b[0m         )\n\u001b[0;32m   1660\u001b[0m \u001b[1;33m\u001b[0m\u001b[0m\n\u001b[1;32m-> 1661\u001b[1;33m         \u001b[0mindex2\u001b[0m \u001b[1;33m=\u001b[0m \u001b[0mnormalize_index\u001b[0m\u001b[1;33m(\u001b[0m\u001b[0mindex\u001b[0m\u001b[1;33m,\u001b[0m \u001b[0mself\u001b[0m\u001b[1;33m.\u001b[0m\u001b[0mshape\u001b[0m\u001b[1;33m)\u001b[0m\u001b[1;33m\u001b[0m\u001b[1;33m\u001b[0m\u001b[0m\n\u001b[0m\u001b[0;32m   1662\u001b[0m         \u001b[0mdependencies\u001b[0m \u001b[1;33m=\u001b[0m \u001b[1;33m{\u001b[0m\u001b[0mself\u001b[0m\u001b[1;33m.\u001b[0m\u001b[0mname\u001b[0m\u001b[1;33m}\u001b[0m\u001b[1;33m\u001b[0m\u001b[1;33m\u001b[0m\u001b[0m\n\u001b[0;32m   1663\u001b[0m         \u001b[1;32mfor\u001b[0m \u001b[0mi\u001b[0m \u001b[1;32min\u001b[0m \u001b[0mindex2\u001b[0m\u001b[1;33m:\u001b[0m\u001b[1;33m\u001b[0m\u001b[1;33m\u001b[0m\u001b[0m\n",
      "\u001b[1;32m~\\anaconda3\\envs\\ebatkit\\lib\\site-packages\\dask\\array\\slicing.py\u001b[0m in \u001b[0;36mnormalize_index\u001b[1;34m(idx, shape)\u001b[0m\n\u001b[0;32m    884\u001b[0m     \u001b[1;32mfor\u001b[0m \u001b[0mi\u001b[0m\u001b[1;33m,\u001b[0m \u001b[0md\u001b[0m \u001b[1;32min\u001b[0m \u001b[0mzip\u001b[0m\u001b[1;33m(\u001b[0m\u001b[0midx\u001b[0m\u001b[1;33m,\u001b[0m \u001b[0mnone_shape\u001b[0m\u001b[1;33m)\u001b[0m\u001b[1;33m:\u001b[0m\u001b[1;33m\u001b[0m\u001b[1;33m\u001b[0m\u001b[0m\n\u001b[0;32m    885\u001b[0m         \u001b[1;32mif\u001b[0m \u001b[0md\u001b[0m \u001b[1;32mis\u001b[0m \u001b[1;32mnot\u001b[0m \u001b[1;32mNone\u001b[0m\u001b[1;33m:\u001b[0m\u001b[1;33m\u001b[0m\u001b[1;33m\u001b[0m\u001b[0m\n\u001b[1;32m--> 886\u001b[1;33m             \u001b[0mcheck_index\u001b[0m\u001b[1;33m(\u001b[0m\u001b[0mi\u001b[0m\u001b[1;33m,\u001b[0m \u001b[0md\u001b[0m\u001b[1;33m)\u001b[0m\u001b[1;33m\u001b[0m\u001b[1;33m\u001b[0m\u001b[0m\n\u001b[0m\u001b[0;32m    887\u001b[0m     \u001b[0midx\u001b[0m \u001b[1;33m=\u001b[0m \u001b[0mtuple\u001b[0m\u001b[1;33m(\u001b[0m\u001b[0mmap\u001b[0m\u001b[1;33m(\u001b[0m\u001b[0msanitize_index\u001b[0m\u001b[1;33m,\u001b[0m \u001b[0midx\u001b[0m\u001b[1;33m)\u001b[0m\u001b[1;33m)\u001b[0m\u001b[1;33m\u001b[0m\u001b[1;33m\u001b[0m\u001b[0m\n\u001b[0;32m    888\u001b[0m     \u001b[0midx\u001b[0m \u001b[1;33m=\u001b[0m \u001b[0mtuple\u001b[0m\u001b[1;33m(\u001b[0m\u001b[0mmap\u001b[0m\u001b[1;33m(\u001b[0m\u001b[0mnormalize_slice\u001b[0m\u001b[1;33m,\u001b[0m \u001b[0midx\u001b[0m\u001b[1;33m,\u001b[0m \u001b[0mnone_shape\u001b[0m\u001b[1;33m)\u001b[0m\u001b[1;33m)\u001b[0m\u001b[1;33m\u001b[0m\u001b[1;33m\u001b[0m\u001b[0m\n",
      "\u001b[1;32m~\\anaconda3\\envs\\ebatkit\\lib\\site-packages\\dask\\array\\slicing.py\u001b[0m in \u001b[0;36mcheck_index\u001b[1;34m(ind, dimension)\u001b[0m\n\u001b[0;32m    953\u001b[0m     \u001b[1;32melif\u001b[0m \u001b[0mind\u001b[0m \u001b[1;33m>=\u001b[0m \u001b[0mdimension\u001b[0m\u001b[1;33m:\u001b[0m\u001b[1;33m\u001b[0m\u001b[1;33m\u001b[0m\u001b[0m\n\u001b[0;32m    954\u001b[0m         raise IndexError(\n\u001b[1;32m--> 955\u001b[1;33m             \u001b[1;34m\"Index is not smaller than dimension %d >= %d\"\u001b[0m \u001b[1;33m%\u001b[0m \u001b[1;33m(\u001b[0m\u001b[0mind\u001b[0m\u001b[1;33m,\u001b[0m \u001b[0mdimension\u001b[0m\u001b[1;33m)\u001b[0m\u001b[1;33m\u001b[0m\u001b[1;33m\u001b[0m\u001b[0m\n\u001b[0m\u001b[0;32m    956\u001b[0m         )\n\u001b[0;32m    957\u001b[0m \u001b[1;33m\u001b[0m\u001b[0m\n",
      "\u001b[1;31mIndexError\u001b[0m: Index is not smaller than dimension 0 >= 0"
     ]
    }
   ],
   "source": [
    "data_ecap.plot_channel(\"Stim 1\", [(0,1)])"
   ]
  },
  {
   "cell_type": "code",
   "execution_count": 11,
   "metadata": {},
   "outputs": [
    {
     "data": {
      "text/html": [
       "<div>\n",
       "<style scoped>\n",
       "    .dataframe tbody tr th:only-of-type {\n",
       "        vertical-align: middle;\n",
       "    }\n",
       "\n",
       "    .dataframe tbody tr th {\n",
       "        vertical-align: top;\n",
       "    }\n",
       "\n",
       "    .dataframe thead th {\n",
       "        text-align: right;\n",
       "    }\n",
       "</style>\n",
       "<table border=\"1\" class=\"dataframe\">\n",
       "  <thead>\n",
       "    <tr style=\"text-align: right;\">\n",
       "      <th></th>\n",
       "      <th></th>\n",
       "      <th>onset time (s)</th>\n",
       "      <th>offset time (s)</th>\n",
       "      <th>period (ms)</th>\n",
       "      <th>frequency (Hz)</th>\n",
       "      <th>pulse count</th>\n",
       "      <th>pulse amplitude (μA)</th>\n",
       "      <th>duration (ms)</th>\n",
       "      <th>pulse duration (ms)</th>\n",
       "      <th>interphase delay (ms)</th>\n",
       "      <th>channel</th>\n",
       "    </tr>\n",
       "  </thead>\n",
       "  <tbody>\n",
       "    <tr>\n",
       "      <th rowspan=\"10\" valign=\"top\">0</th>\n",
       "      <th>0</th>\n",
       "      <td>55.625687</td>\n",
       "      <td>56.626135</td>\n",
       "      <td>40.017918</td>\n",
       "      <td>24.988806</td>\n",
       "      <td>25</td>\n",
       "      <td>-2000.0</td>\n",
       "      <td>1000.447941</td>\n",
       "      <td>0.4</td>\n",
       "      <td>0.0</td>\n",
       "      <td>1</td>\n",
       "    </tr>\n",
       "    <tr>\n",
       "      <th>1</th>\n",
       "      <td>65.625702</td>\n",
       "      <td>66.626150</td>\n",
       "      <td>40.017918</td>\n",
       "      <td>24.988806</td>\n",
       "      <td>25</td>\n",
       "      <td>-200.0</td>\n",
       "      <td>1000.447941</td>\n",
       "      <td>0.4</td>\n",
       "      <td>0.0</td>\n",
       "      <td>1</td>\n",
       "    </tr>\n",
       "    <tr>\n",
       "      <th>2</th>\n",
       "      <td>75.625718</td>\n",
       "      <td>76.626166</td>\n",
       "      <td>40.017918</td>\n",
       "      <td>24.988806</td>\n",
       "      <td>25</td>\n",
       "      <td>-3000.0</td>\n",
       "      <td>1000.447941</td>\n",
       "      <td>0.4</td>\n",
       "      <td>0.0</td>\n",
       "      <td>1</td>\n",
       "    </tr>\n",
       "    <tr>\n",
       "      <th>3</th>\n",
       "      <td>85.625733</td>\n",
       "      <td>86.626181</td>\n",
       "      <td>40.017918</td>\n",
       "      <td>24.988806</td>\n",
       "      <td>25</td>\n",
       "      <td>-500.0</td>\n",
       "      <td>1000.447941</td>\n",
       "      <td>0.4</td>\n",
       "      <td>0.0</td>\n",
       "      <td>1</td>\n",
       "    </tr>\n",
       "    <tr>\n",
       "      <th>4</th>\n",
       "      <td>95.625748</td>\n",
       "      <td>96.626196</td>\n",
       "      <td>40.017918</td>\n",
       "      <td>24.988806</td>\n",
       "      <td>25</td>\n",
       "      <td>-300.0</td>\n",
       "      <td>1000.447941</td>\n",
       "      <td>0.4</td>\n",
       "      <td>0.0</td>\n",
       "      <td>1</td>\n",
       "    </tr>\n",
       "    <tr>\n",
       "      <th>5</th>\n",
       "      <td>105.625764</td>\n",
       "      <td>106.626212</td>\n",
       "      <td>40.017918</td>\n",
       "      <td>24.988806</td>\n",
       "      <td>25</td>\n",
       "      <td>-150.0</td>\n",
       "      <td>1000.447941</td>\n",
       "      <td>0.4</td>\n",
       "      <td>0.0</td>\n",
       "      <td>1</td>\n",
       "    </tr>\n",
       "    <tr>\n",
       "      <th>6</th>\n",
       "      <td>115.625779</td>\n",
       "      <td>116.626227</td>\n",
       "      <td>40.017918</td>\n",
       "      <td>24.988806</td>\n",
       "      <td>25</td>\n",
       "      <td>-400.0</td>\n",
       "      <td>1000.447941</td>\n",
       "      <td>0.4</td>\n",
       "      <td>0.0</td>\n",
       "      <td>1</td>\n",
       "    </tr>\n",
       "    <tr>\n",
       "      <th>7</th>\n",
       "      <td>125.625795</td>\n",
       "      <td>126.626243</td>\n",
       "      <td>40.017918</td>\n",
       "      <td>24.988806</td>\n",
       "      <td>25</td>\n",
       "      <td>-1000.0</td>\n",
       "      <td>1000.447941</td>\n",
       "      <td>0.4</td>\n",
       "      <td>0.0</td>\n",
       "      <td>1</td>\n",
       "    </tr>\n",
       "    <tr>\n",
       "      <th>8</th>\n",
       "      <td>135.625810</td>\n",
       "      <td>136.626258</td>\n",
       "      <td>40.017918</td>\n",
       "      <td>24.988806</td>\n",
       "      <td>25</td>\n",
       "      <td>-100.0</td>\n",
       "      <td>1000.447941</td>\n",
       "      <td>0.4</td>\n",
       "      <td>0.0</td>\n",
       "      <td>1</td>\n",
       "    </tr>\n",
       "    <tr>\n",
       "      <th>9</th>\n",
       "      <td>145.625825</td>\n",
       "      <td>146.626273</td>\n",
       "      <td>40.017918</td>\n",
       "      <td>24.988806</td>\n",
       "      <td>25</td>\n",
       "      <td>-50.0</td>\n",
       "      <td>1000.447941</td>\n",
       "      <td>0.4</td>\n",
       "      <td>0.0</td>\n",
       "      <td>1</td>\n",
       "    </tr>\n",
       "  </tbody>\n",
       "</table>\n",
       "</div>"
      ],
      "text/plain": [
       "     onset time (s)  offset time (s)  period (ms)  frequency (Hz)  \\\n",
       "0 0       55.625687        56.626135    40.017918       24.988806   \n",
       "  1       65.625702        66.626150    40.017918       24.988806   \n",
       "  2       75.625718        76.626166    40.017918       24.988806   \n",
       "  3       85.625733        86.626181    40.017918       24.988806   \n",
       "  4       95.625748        96.626196    40.017918       24.988806   \n",
       "  5      105.625764       106.626212    40.017918       24.988806   \n",
       "  6      115.625779       116.626227    40.017918       24.988806   \n",
       "  7      125.625795       126.626243    40.017918       24.988806   \n",
       "  8      135.625810       136.626258    40.017918       24.988806   \n",
       "  9      145.625825       146.626273    40.017918       24.988806   \n",
       "\n",
       "     pulse count  pulse amplitude (μA)  duration (ms)  pulse duration (ms)  \\\n",
       "0 0           25               -2000.0    1000.447941                  0.4   \n",
       "  1           25                -200.0    1000.447941                  0.4   \n",
       "  2           25               -3000.0    1000.447941                  0.4   \n",
       "  3           25                -500.0    1000.447941                  0.4   \n",
       "  4           25                -300.0    1000.447941                  0.4   \n",
       "  5           25                -150.0    1000.447941                  0.4   \n",
       "  6           25                -400.0    1000.447941                  0.4   \n",
       "  7           25               -1000.0    1000.447941                  0.4   \n",
       "  8           25                -100.0    1000.447941                  0.4   \n",
       "  9           25                 -50.0    1000.447941                  0.4   \n",
       "\n",
       "     interphase delay (ms)  channel  \n",
       "0 0                    0.0        1  \n",
       "  1                    0.0        1  \n",
       "  2                    0.0        1  \n",
       "  3                    0.0        1  \n",
       "  4                    0.0        1  \n",
       "  5                    0.0        1  \n",
       "  6                    0.0        1  \n",
       "  7                    0.0        1  \n",
       "  8                    0.0        1  \n",
       "  9                    0.0        1  "
      ]
     },
     "execution_count": 11,
     "metadata": {},
     "output_type": "execute_result"
    }
   ],
   "source": [
    "data_stim.parameters"
   ]
  },
  {
   "cell_type": "code",
   "execution_count": null,
   "metadata": {},
   "outputs": [],
   "source": []
  }
 ],
 "metadata": {
  "kernelspec": {
   "display_name": "Python 3",
   "language": "python",
   "name": "python3"
  },
  "language_info": {
   "codemirror_mode": {
    "name": "ipython",
    "version": 3
   },
   "file_extension": ".py",
   "mimetype": "text/x-python",
   "name": "python",
   "nbconvert_exporter": "python",
   "pygments_lexer": "ipython3",
   "version": "3.7.10"
  }
 },
 "nbformat": 4,
 "nbformat_minor": 4
}
