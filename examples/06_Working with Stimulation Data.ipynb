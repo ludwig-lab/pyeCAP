{
 "cells": [
  {
   "cell_type": "markdown",
   "metadata": {},
   "source": [
    "# Tutorial 06 - Working with Electrical Stimulation Data\n",
    "\n",
    "In addition to pyeCAP.Ephys for loading in electrophysiology data, pyeCAP also has a class, pyeCAP.Stim, for working with stimulation data from different vendors in a consistent format. This tutorial covers the basics of loading in and working with stimulation data that is paired with an electrophysiology data set.\n",
    "\n",
    "First, we will load in an electrophysiology data set."
   ]
  },
  {
   "cell_type": "code",
   "execution_count": 1,
   "metadata": {},
   "outputs": [],
   "source": [
    "# import statements\n",
    "import pyeCAP\n",
    "import matplotlib.pyplot as plt\n",
    "\n",
    "# put matplotlib in widget mode so that we can use interactive plots\n",
    "%matplotlib widget \n",
    "\n",
    "# path to directory containing the TDT tank\n",
    "directory = r\"pnpig191126-191204-174838\"\n",
    "data = pyeCAP.Ephys(directory, stores=[\"RawE\", \"RawG\"])\n",
    "\n",
    "# Starting by removing the excess channel 'RawG 4'. We could do this either by the index in the channel list (7) or using the channel name directly. \n",
    "data = data.remove_ch('RawG 4')\n",
    "\n",
    "# We can rename the channels using the set_ch_names method and providing a list of new channel names that matches the number of channels in the data set.\n",
    "data = data.set_ch_names(['LIFE 1', 'LIFE 2', 'LIFE 3', 'LIFE 4', 'EMG 1', 'EMG 2', 'EMG 3'])\n",
    "\n",
    "# Lets also set the types of the individual channels so that we can indepentently interact with LIFE and EMG channels\n",
    "data = data.set_ch_types(['LIFE']*4 + ['EMG']*3)"
   ]
  },
  {
   "cell_type": "markdown",
   "metadata": {},
   "source": [
    "We can load in a stimulation data set in two ways. The first is by passing a file path for the data set contining stimulation infomation. For TDT data sets, stimulation data is stored in the same tdt tank as electrophysiology data and we can pass the same directory path to pyeCAP.Stim as we passed to pyeCAP.Ephys."
   ]
  },
  {
   "cell_type": "code",
   "execution_count": 2,
   "metadata": {},
   "outputs": [
    {
     "ename": "ValueError",
     "evalue": "No electrical stimulation detected",
     "output_type": "error",
     "traceback": [
      "\u001b[1;31m---------------------------------------------------------------------------\u001b[0m",
      "\u001b[1;31mValueError\u001b[0m                                Traceback (most recent call last)",
      "Cell \u001b[1;32mIn[2], line 1\u001b[0m\n\u001b[1;32m----> 1\u001b[0m stim_data \u001b[38;5;241m=\u001b[39m \u001b[43mpyeCAP\u001b[49m\u001b[38;5;241;43m.\u001b[39;49m\u001b[43mStim\u001b[49m\u001b[43m(\u001b[49m\u001b[43mdirectory\u001b[49m\u001b[43m)\u001b[49m\n",
      "File \u001b[1;32m~\\GitHub\\pyeCAP\\pyeCAP\\stim.py:99\u001b[0m, in \u001b[0;36mStim.__init__\u001b[1;34m(self, file_path, io, events, event_indicators, dio, dio_indicators, parameters, metadata)\u001b[0m\n\u001b[0;32m     97\u001b[0m \u001b[38;5;28mself\u001b[39m\u001b[38;5;241m.\u001b[39mfile_path \u001b[38;5;241m=\u001b[39m [file_path]\n\u001b[0;32m     98\u001b[0m \u001b[38;5;28mself\u001b[39m\u001b[38;5;241m.\u001b[39mio \u001b[38;5;241m=\u001b[39m [TdtIO(file_path)]\n\u001b[1;32m---> 99\u001b[0m tdt_stim \u001b[38;5;241m=\u001b[39m \u001b[43mTdtStim\u001b[49m\u001b[43m(\u001b[49m\u001b[38;5;28;43mself\u001b[39;49m\u001b[38;5;241;43m.\u001b[39;49m\u001b[43mio\u001b[49m\u001b[43m[\u001b[49m\u001b[38;5;241;43m0\u001b[39;49m\u001b[43m]\u001b[49m\u001b[43m)\u001b[49m\n\u001b[0;32m    100\u001b[0m parameters \u001b[38;5;241m=\u001b[39m tdt_stim\u001b[38;5;241m.\u001b[39mparameters\n\u001b[0;32m    101\u001b[0m metadata \u001b[38;5;241m=\u001b[39m tdt_stim\u001b[38;5;241m.\u001b[39mmetadata\n",
      "File \u001b[1;32m~\\GitHub\\pyeCAP\\pyeCAP\\io\\tdt_io.py:133\u001b[0m, in \u001b[0;36mTdtStim.__init__\u001b[1;34m(self, tdt_io, type)\u001b[0m\n\u001b[0;32m    131\u001b[0m \u001b[38;5;66;03m# raise errors/warnings for certain data\u001b[39;00m\n\u001b[0;32m    132\u001b[0m \u001b[38;5;28;01mif\u001b[39;00m \u001b[38;5;28mlen\u001b[39m(\u001b[38;5;28mself\u001b[39m\u001b[38;5;241m.\u001b[39mparameter_stores) \u001b[38;5;241m==\u001b[39m \u001b[38;5;241m0\u001b[39m \u001b[38;5;129;01mand\u001b[39;00m \u001b[38;5;28mlen\u001b[39m(\u001b[38;5;28mself\u001b[39m\u001b[38;5;241m.\u001b[39mraw_stores) \u001b[38;5;241m==\u001b[39m \u001b[38;5;241m0\u001b[39m:\n\u001b[1;32m--> 133\u001b[0m     \u001b[38;5;28;01mraise\u001b[39;00m (\u001b[38;5;167;01mValueError\u001b[39;00m(\u001b[38;5;124m\"\u001b[39m\u001b[38;5;124mNo electrical stimulation detected\u001b[39m\u001b[38;5;124m\"\u001b[39m))\n\u001b[0;32m    134\u001b[0m \u001b[38;5;28;01melif\u001b[39;00m \u001b[38;5;28mlen\u001b[39m(\u001b[38;5;28mself\u001b[39m\u001b[38;5;241m.\u001b[39mparameter_stores) \u001b[38;5;241m==\u001b[39m \u001b[38;5;241m0\u001b[39m:\n\u001b[0;32m    135\u001b[0m     warnings\u001b[38;5;241m.\u001b[39mwarn(\u001b[38;5;124m\"\u001b[39m\u001b[38;5;124mNo electrical stimulation parameters detected\u001b[39m\u001b[38;5;124m\"\u001b[39m)\n",
      "\u001b[1;31mValueError\u001b[0m: No electrical stimulation detected"
     ]
    }
   ],
   "source": [
    "stim_data = pyeCAP.Stim(directory)"
   ]
  },
  {
   "cell_type": "markdown",
   "metadata": {},
   "source": [
    "***TODO: Right now loading stim data directly from any other previously loaded pyeCAP object does not work as expected. For now data must be loaded from a file path or list of files.***\n",
    "\n",
    "The second way that we could load in a stimulation data set that corresponds to an already loaded pyeCAP object, such as a pyeCAP.Ephys object, is to pass the pyeCAP object to the pyeCAP.Stim constructor. In this case, *data* is a pyeCAP.Ephys object and we could have initialized pyeCAP.Stim with the following code.\n",
    "\n",
    "        stim_data = pyeCAP.Stim(data)"
   ]
  },
  {
   "cell_type": "markdown",
   "metadata": {},
   "source": [
    "## Exploration of Stimulation Data\n",
    "\n",
    "When you use pyeCAP to read in electrical stimulation data, it puts data from different input data types into a consistent format that is easy to interact with.\n",
    "\n",
    "Let's start by looking at the the paramters that were applied during this experiment."
   ]
  },
  {
   "cell_type": "code",
   "execution_count": 3,
   "metadata": {},
   "outputs": [
    {
     "ename": "NameError",
     "evalue": "name 'stim_data' is not defined",
     "output_type": "error",
     "traceback": [
      "\u001b[1;31m---------------------------------------------------------------------------\u001b[0m",
      "\u001b[1;31mNameError\u001b[0m                                 Traceback (most recent call last)",
      "Cell \u001b[1;32mIn[3], line 1\u001b[0m\n\u001b[1;32m----> 1\u001b[0m \u001b[43mstim_data\u001b[49m\u001b[38;5;241m.\u001b[39mparameters\n",
      "\u001b[1;31mNameError\u001b[0m: name 'stim_data' is not defined"
     ]
    }
   ],
   "source": [
    "stim_data.parameters"
   ]
  },
  {
   "cell_type": "markdown",
   "metadata": {},
   "source": [
    "This returns a human readable table of stimulation parameters. For people familiar with the standard scientific computing libraries in python, stim_data.parameters return a pandas DataFrame. Useful infromation on working with pandas DataFrames can be found here: https://pandas.pydata.org/docs/getting_started/intro_tutorials/03_subset_data.html#min-tut-03-subset. \n",
    "\n",
    "In pyeCAP we generally work with stimulation data by referencing the index of a particular stimulation within the stim_data.parameters table. Using the indexing methods available through pandas makes it easy to obtain and work with a subset of stimulation parameters, work with parameters sorted on a particular value(s), etc. You will see this in more detail within both this tutorial and Tutorial 7 on Evoked Compound Action Potential analysis. \n",
    "\n",
    "We can easily plot our stimulation data alongside the relevent electrophysiology data using the same plot method we have seen in previous tutorials. This is a nice way to interactively explore data and view the effects of stimulation. To do this, we simply have to pass stim_data to the events attribute of the plot method."
   ]
  },
  {
   "cell_type": "code",
   "execution_count": null,
   "metadata": {},
   "outputs": [],
   "source": [
    "%matplotlib widget\n",
    "data.plot(x_lim=(0, 2), events=stim_data, show='notebook')"
   ]
  },
  {
   "cell_type": "markdown",
   "metadata": {},
   "source": [
    "Now you can see stimulation events on the scrollbar axis of the plot (grey bars) as well as a new event axis at the top of the plot showing the both the stimuation events (grey pulses) but also the individual event data for stimulation pulses (orange line). Scroll through the data set to see both of these."
   ]
  },
  {
   "cell_type": "markdown",
   "metadata": {},
   "source": [
    "## Working with Multiple Stimulation Data Sets\n",
    "\n",
    "Similar to electrophysiology data multiple stimulation data sets can be read in and worked with simultaneously. To show this, let's use our same code from Tutorial 03 on working with multiple data sets to read in a list of TDT data sets. "
   ]
  },
  {
   "cell_type": "code",
   "execution_count": null,
   "metadata": {},
   "outputs": [],
   "source": [
    "tdt_tanks = [r\"C:\\Users\\malal\\Documents\\WITNE\\pyCAP\\TutorialExamples\\pnpig191126-191204-151801\", r\"C:\\Users\\malal\\Documents\\WITNE\\pyCAP\\TutorialExamples\\pnpig191126-191204-152107\"]"
   ]
  },
  {
   "cell_type": "markdown",
   "metadata": {},
   "source": [
    "Now we can easily load in both the electrophysiology data and the stimulation data from this list of directories."
   ]
  },
  {
   "cell_type": "code",
   "execution_count": 3,
   "metadata": {},
   "outputs": [
    {
     "ename": "NameError",
     "evalue": "name 'tdt_tanks' is not defined",
     "output_type": "error",
     "traceback": [
      "\u001b[1;31m---------------------------------------------------------------------------\u001b[0m",
      "\u001b[1;31mNameError\u001b[0m                                 Traceback (most recent call last)",
      "Cell \u001b[1;32mIn[3], line 1\u001b[0m\n\u001b[1;32m----> 1\u001b[0m m_data \u001b[38;5;241m=\u001b[39m pyeCAP\u001b[38;5;241m.\u001b[39mEphys(\u001b[43mtdt_tanks\u001b[49m, stores\u001b[38;5;241m=\u001b[39m[\u001b[38;5;124m\"\u001b[39m\u001b[38;5;124mRawE\u001b[39m\u001b[38;5;124m\"\u001b[39m, \u001b[38;5;124m\"\u001b[39m\u001b[38;5;124mRawG\u001b[39m\u001b[38;5;124m\"\u001b[39m])\n\u001b[0;32m      2\u001b[0m m_stim_data \u001b[38;5;241m=\u001b[39m pyeCAP\u001b[38;5;241m.\u001b[39mStim(tdt_tanks)\n",
      "\u001b[1;31mNameError\u001b[0m: name 'tdt_tanks' is not defined"
     ]
    }
   ],
   "source": [
    "m_data = pyeCAP.Ephys(tdt_tanks, stores=[\"RawE\", \"RawG\"])\n",
    "m_stim_data = pyeCAP.Stim(tdt_tanks)"
   ]
  },
  {
   "cell_type": "markdown",
   "metadata": {},
   "source": [
    "If we take a look at the parameter list for *m_stim_data*, we now have 10 groups of stimulation paramters corresponding to the 10 data sets we loaded into the pyeCAP.Ephys and pyeCAP.Stim data sets."
   ]
  },
  {
   "cell_type": "code",
   "execution_count": 4,
   "metadata": {},
   "outputs": [
    {
     "ename": "NameError",
     "evalue": "name 'm_stim_data' is not defined",
     "output_type": "error",
     "traceback": [
      "\u001b[1;31m---------------------------------------------------------------------------\u001b[0m",
      "\u001b[1;31mNameError\u001b[0m                                 Traceback (most recent call last)",
      "Cell \u001b[1;32mIn[4], line 1\u001b[0m\n\u001b[1;32m----> 1\u001b[0m \u001b[43mm_stim_data\u001b[49m\u001b[38;5;241m.\u001b[39mparameters\n",
      "\u001b[1;31mNameError\u001b[0m: name 'm_stim_data' is not defined"
     ]
    }
   ],
   "source": [
    "m_stim_data.parameters"
   ]
  },
  {
   "cell_type": "code",
   "execution_count": null,
   "metadata": {},
   "outputs": [],
   "source": []
  },
  {
   "cell_type": "code",
   "execution_count": null,
   "metadata": {},
   "outputs": [],
   "source": []
  }
 ],
 "metadata": {
  "kernelspec": {
   "display_name": "Python 3 (ipykernel)",
   "language": "python",
   "name": "python3"
  },
  "language_info": {
   "codemirror_mode": {
    "name": "ipython",
    "version": 3
   },
   "file_extension": ".py",
   "mimetype": "text/x-python",
   "name": "python",
   "nbconvert_exporter": "python",
   "pygments_lexer": "ipython3",
   "version": "3.9.13"
  }
 },
 "nbformat": 4,
 "nbformat_minor": 4
}
