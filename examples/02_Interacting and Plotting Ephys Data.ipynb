{
 "cells": [
  {
   "cell_type": "markdown",
   "metadata": {},
   "source": [
    "# Tutotial 02 - Interacting With and Plotting Ehys Data \n",
    "\n",
    "In Tutorial 1 - Introduction to pyeCAP, we covered loading and making a simple plot of a single data set. Here we will expand upon this to cover  working with channel types and channel names as well as loading multiple data sets. We can start by importing pyeCAP and loading a data set.\n",
    "\n",
    "## Working with Channels and Channel Types\n",
    "\n",
    "In this section, we'll explore how to work with channels and channel types in our dataset. This dataset was collected with a Tucker Davis Technologies (TDT) recording system. The Ephys class automatically maps the data on your computer's hard disk. This dataset contains two streams of raw (unfiltered) Ephys data, called 'RawE' and 'RawG' that we collected in different stores within the TDT data tank. \n",
    "\n",
    "For more information on how TDT data types are stored and accessed, you can refer to the [TDT Python SDK documentation](https://www.tdt.com/support/python-sdk/).\n",
    "\n",
    "In the previous tutorial, we loaded all data stores detected in the TDT data tank. In this tutorial, we'll specify only the two raw data stores. \n",
    "\n",
    "Let's start by importing the necessary libraries and loading our dataset."
   ]
  },
  {
   "cell_type": "code",
   "execution_count": null,
   "metadata": {},
   "outputs": [],
   "source": [
    "import pyeCAP\n",
    "\n",
    "# path to directory containing the TDT tank\n",
    "directory = r\"pnpig191126-191204-174838\"\n",
    "data = pyeCAP.Ephys(directory, stores=['RawE', 'RawG'])"
   ]
  },
  {
   "cell_type": "markdown",
   "metadata": {},
   "source": [
    "Now that we've loaded our data, let's examine the number of channels in our dataset. We can do this using the `ch_names` property of an Ephys object."
   ]
  },
  {
   "cell_type": "code",
   "execution_count": null,
   "metadata": {},
   "outputs": [],
   "source": [
    "# This will return a list of channel names in our dataset.\n",
    "data.ch_names"
   ]
  },
  {
   "cell_type": "markdown",
   "metadata": {},
   "source": [
    "In this experiment, 'RawE' contains data recorded from 4 LIFE electrodes inserted into the swine vagus nerve, and 'RawG' contains data recorded from EMG electrodes inserted into relevent muscle groups. Although 'RawE' contains 4 channels of data, only 3 electrodes in channels 'RawG 1'-'RawG 3' were used in the experiment. We can start by removing the extra channel of EMG data from the data set and renaming the channels to something that makes more sense. We will also set the channel types to either 'EMG' or 'LIFE' so that we can independently interact with these channels through the rest of our analysis.\n",
    "\n",
    "It is important to note that all operations that change an object within pyeCAP return a new object. For those familiar with other scientific conputing languages in python like numpy or pandas, pyeCAP objects are never modified in place like numpy arrays or padas dataframes can be."
   ]
  },
  {
   "cell_type": "code",
   "execution_count": null,
   "metadata": {},
   "outputs": [],
   "source": [
    "# Starting by removing the excess channel 'RawG 4'. We could do this either by the index in the channel list (7) or using the channel name directly. \n",
    "used_data = data.remove_ch('RawG 4')\n",
    "\n",
    "# We can rename the channels using the set_ch_names method and providing a list of new channel names that matches the number of channels in the data set.\n",
    "renamed_data = used_data.set_ch_names(['LIFE 1', 'LIFE 2', 'LIFE 3', 'LIFE 4', 'EMG 1', 'EMG 2', 'EMG 3'])\n",
    "\n",
    "# Lets also set the types of the individual channels so that we can indepentently interact with LIFE and EMG channels\n",
    "renamed_data = renamed_data.set_ch_types(['LIFE', 'LIFE', 'LIFE', 'LIFE', 'EMG', 'EMG', 'EMG'])"
   ]
  },
  {
   "cell_type": "code",
   "execution_count": null,
   "metadata": {},
   "outputs": [],
   "source": [
    "data.shape"
   ]
  },
  {
   "cell_type": "markdown",
   "metadata": {},
   "source": [
    "We can compare a plot of data with a plot of renamed_data to see the changes in the number of channels and in the prescribed channel names. We can plot these side by side in figure subplots using matplotlib. "
   ]
  },
  {
   "cell_type": "code",
   "execution_count": null,
   "metadata": {},
   "outputs": [],
   "source": [
    "# import matplotlib\n",
    "import matplotlib.pyplot as plt\n",
    "\n",
    "# Set up figure axes that we can plot on\n",
    "fig, (ax1, ax2) = plt.subplots(1, 2, figsize=(16,6))\n",
    "fig.suptitle('Organization and renaming of channels is automatically reflected in plots of the data')\n",
    "\n",
    "# Label axes and plot data. \n",
    "ax1.set_title('data')\n",
    "# The axis attribute is used to provide a matplotlib axis to plot on.\n",
    "# Show is set to False to prevent the plot function from automatically showing the plot within the jupyter notebook.\n",
    "data.plot(axis = ax1, x_lim=(0,5), show=False)\n",
    "ax2.set_title('renamed_data')\n",
    "renamed_data.plot(axis = ax2, x_lim=(0,5), show=False)\n",
    "\n",
    "# Tell matplotlib to show the plot within a jupyter notebook\n",
    "plt.show()"
   ]
  },
  {
   "cell_type": "markdown",
   "metadata": {},
   "source": [
    "## Interactive Plotting of Data\n",
    "\n",
    "One of the main goals of pyeCAP is to allow for interactively working with electrophysiology, and in particular compound action potential, data during or shortly after an experiment. As such, many plot types have been designed as jupyter notebook widgets and can be taken advantage of to interactively work with data or to view data in real time.\n",
    "\n",
    "The most simple example of this is the plot method for the ephys class. By passhing show='notebook' as an attribute to the plot method, an interactive plot is shown within the current jupyter notebook output cell. \n",
    "\n",
    "However, before using interactive plots we need to change matplotlib to use an interactive backend. We can do this using the a Jupyter Notebook magic (for more information on jupyter notebook magics see this tutorial: https://ipython.readthedocs.io/en/stable/interactive/magics.html#magic-matplotlib). In our case we want to use the magic command '%matplotlib widget'. If we switch back to '%matplotlib inline' which is the default mode for matplotlib, it will break our connection to any widgets in use. As such it is a good idea to only work with matplotlib in inline or widget mode within a given notebook.\n",
    "\n",
    "**If you encounter issues with interactive plots and are running pyeCAP in an anaconda environment it is recommended that you reinstall the ipyml package used for interactive plotting by running 'conda install -c conda-forge ipympl'.**"
   ]
  },
  {
   "cell_type": "code",
   "execution_count": null,
   "metadata": {},
   "outputs": [],
   "source": [
    "%matplotlib widget\n",
    "renamed_data.plot(x_lim = (0,0.1), show='notebook')"
   ]
  },
  {
   "cell_type": "markdown",
   "metadata": {},
   "source": [
    "Any plot that we create can be used with the matplotlib widget backend. As an example, we can replicate the side-by-side plot of data and renamed data that we created above using the widget backend instead of the inline backend."
   ]
  },
  {
   "cell_type": "code",
   "execution_count": null,
   "metadata": {},
   "outputs": [],
   "source": [
    "import matplotlib.pyplot as plt\n",
    "\n",
    "# Set up figure axes that we can plot on\n",
    "fig, (ax1, ax2) = plt.subplots(1, 2, figsize=(10,4))\n",
    "fig.suptitle('Organization and renaming of channels is automatically reflected in plots of the data')\n",
    "\n",
    "# Label axes and plot data. \n",
    "ax1.set_title('data')\n",
    "# The axis attribute is used to provide a matplotlib axis to plot on.\n",
    "# Show is set to False to prevent the plot function from automatically showing the plot within the jupyter notebook.\n",
    "data.plot(axis = ax1, x_lim=(0,5), show=False)\n",
    "ax2.set_title('renamed_data')\n",
    "renamed_data.plot(axis = ax2, x_lim=(0,5), show=False)\n",
    "\n",
    "# Tell matplotlib to show the plot within a jupyter notebook\n",
    "plt.show()"
   ]
  },
  {
   "cell_type": "markdown",
   "metadata": {},
   "source": [
    "## Directly Working with Ephys Data as an Array\n",
    "\n",
    "It is common that we will want extract portions of our data to directly work with as an array of values. In python the normal way to work with array data is as a numpy array. An introduction to numpy arrays can be found here (https://numpy.org/doc/stable/user/quickstart.html). For all intents and purposes, we can treat an ephys object as numpy arrays with shape equal to *number of channels* x *number of data points*."
   ]
  },
  {
   "cell_type": "code",
   "execution_count": null,
   "metadata": {},
   "outputs": [],
   "source": [
    "renamed_data.shape"
   ]
  },
  {
   "cell_type": "markdown",
   "metadata": {},
   "source": [
    "Data can be directly accessed by indexing into the data set. For instance we can return the first 10 elements of channel 0 in *renamed_data* using the follwoing code. All numpy indexing methods are supported."
   ]
  },
  {
   "cell_type": "code",
   "execution_count": null,
   "metadata": {},
   "outputs": [],
   "source": [
    "renamed_data[0,0:10]"
   ]
  },
  {
   "cell_type": "markdown",
   "metadata": {},
   "source": [
    "In addition to working with Ephys data as a numpy array, there are a number of useful properties that are worth knowing about. Some of the most useful ones are:\n",
    "\n",
    "* sample_rate\n",
    " - Gives the sampling rate for the data set.\n",
    "* time\n",
    " - Returns as array starting at zero of time points corresponding to each data point within the data set.\n",
    "* ch_names\n",
    " - Returns a list of names for each channel within the data set. \n",
    "* ch_types\n",
    " - Returns a list of types assigned to each channel in the data set.\n",
    " \n",
    " \n",
    " For instance, we can easily see that the sampling rate of *renamed_data* is a little under 25kHz:"
   ]
  },
  {
   "cell_type": "code",
   "execution_count": null,
   "metadata": {},
   "outputs": [],
   "source": [
    "renamed_data.sample_rate"
   ]
  },
  {
   "cell_type": "markdown",
   "metadata": {},
   "source": [
    "We can also check that the channel names match what we previously set them to:"
   ]
  },
  {
   "cell_type": "code",
   "execution_count": null,
   "metadata": {},
   "outputs": [],
   "source": [
    "renamed_data.ch_names"
   ]
  },
  {
   "cell_type": "markdown",
   "metadata": {},
   "source": [
    "Lastly we can see that there are two channel types contained within *renamed_data*. These channel types match what we previously assigned to the data set:"
   ]
  },
  {
   "cell_type": "code",
   "execution_count": null,
   "metadata": {},
   "outputs": [],
   "source": [
    "renamed_data.ch_types"
   ]
  }
 ],
 "metadata": {
  "kernelspec": {
   "display_name": "Python 3 (ipykernel)",
   "language": "python",
   "name": "python3"
  },
  "language_info": {
   "codemirror_mode": {
    "name": "ipython",
    "version": 3
   },
   "file_extension": ".py",
   "mimetype": "text/x-python",
   "name": "python",
   "nbconvert_exporter": "python",
   "pygments_lexer": "ipython3",
   "version": "3.10.11"
  }
 },
 "nbformat": 4,
 "nbformat_minor": 4
}
