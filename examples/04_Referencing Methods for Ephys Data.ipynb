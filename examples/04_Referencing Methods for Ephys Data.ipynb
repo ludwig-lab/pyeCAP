{
 "cells": [
  {
   "cell_type": "markdown",
   "metadata": {},
   "source": [
    "# Tutorial 04 - Referencing Methods for Ephys Data\n",
    "\n",
    "pyeCAP makes it easy to re-refence a data set or subsets of data using any channel as a reference. It also has emplementations of common average referencing techniques including common median reference and common mean reference. The referencing methods are written in two methods.\n",
    "* channel_reference\n",
    " - Used for rereferencing a channel or a subset of channels to any other channel in the data set.\n",
    "* common_reference\n",
    " - Used for referencing a data set or a subset of channels within a data set to either a common mean or a common median average. \n",
    " \n",
    "More information on the use of a common mean average in electrophysiology data sets can be found here:\n",
    "\n",
    "*Ludwig, K. A. et al. Using a Common Average Reference to Improve Cortical Neuron Recordings From Microelectrode Arrays. Journal of Neurophysiology 101, 1679–1689 (2009). doi.org/10.1152/jn.90989.2008.*\n",
    "\n",
    "More information on the use of a common median reference can be found here:\n",
    "\n",
    "*Rolston, J. D., Gross, R. E. & Potter, S. M. Common median referencing for improved action potential detection with multielectrode arrays. in 2009 Annual International Conference of the IEEE Engineering in Medicine and Biology Society 1604–1607 (2009). doi:10.1109/IEMBS.2009.5333230.*\n",
    "\n",
    "We can work with a single data set to exemplify the referencing methods. "
   ]
  },
  {
   "cell_type": "code",
   "execution_count": null,
   "metadata": {},
   "outputs": [],
   "source": [
    "# import statements\n",
    "import pyeCAP\n",
    "import numpy as np\n",
    "import matplotlib.pyplot as plt\n",
    "\n",
    "# path to directory containing the TDT tank\n",
    "directory = r\"pnpig191126-191204-174838\"\n",
    "data = pyeCAP.Ephys(directory, stores=[\"RawE\", \"RawG\"])\n",
    "\n",
    "# Starting by removing the excess channel 'RawG 4'. We could do this either by the index in the channel list (7) or using the channel name directly. \n",
    "data = data.remove_ch('RawG 4')\n",
    "\n",
    "# We can rename the channels using the set_ch_names method and providing a list of new channel names that matches the number of channels in the data set.\n",
    "data = data.set_ch_names(['LIFE 1', 'LIFE 2', 'LIFE 3', 'LIFE 4', 'EMG 1', 'EMG 2', 'EMG 3'])\n",
    "\n",
    "# Lets also set the types of the individual channels so that we can indepentently interact with LIFE and EMG channels\n",
    "data = data.set_ch_types(['LIFE']*4 + ['EMG']*3)"
   ]
  },
  {
   "cell_type": "markdown",
   "metadata": {},
   "source": [
    "Let's start by plotting our data so that we can look at the noise levels on each channel and how they change between different referencing methods. \n",
    "\n",
    "The plot function for the pyeCAP.Ephys class has a y_lim attribute that we can use to set the y-axis limits so that they are consistent between plots. By default y_lim is set to 'auto', which calculates that standard deviation of the data being displayed in the plot and sets the bouds so that there is 6 standard deviations between each trace and 6 standard deviations below/above the first/last trace. The other options are:\n",
    "* *None or 'auto'*\n",
    " - Sets the bounds so that there is 6 standard deviations between each trace and 6 standard deviations below/above the first/last traces.\n",
    "* *'max'*\n",
    " - Sets the bounds so that there is 6 standard deviations between each trace but distance below/above the first/last traces are set so that all of the available data is within the bounds of the plot.\n",
    "* *int, float, or tuple of length 1*\n",
    " - Sets a value in the units of the data being ploted for the distance between and below/above each trace.\n",
    "* *tuple of length 2*\n",
    " - Sets a value in the units of the data being ploted for the distance below/above the first/last traces. 6 standard deviations will still be used for the distance between traces.\n",
    "* *tuple of length 3*\n",
    " - First value is the distance below the first trace, second value is the distance between each trace, third value is the distance above the final trace. All values are assumed to be in units matching the data being plotted.\n",
    "\n",
    "Here we will calculate the standard deviation of the the origional data we plan to show on the graph and pass this as a float to the y_lim attribute"
   ]
  },
  {
   "cell_type": "code",
   "execution_count": null,
   "metadata": {},
   "outputs": [],
   "source": [
    "# x_lim value that we will use for each plot. This will plot the first 50 seconds of data\n",
    "x_lim = (0,10) \n",
    "\n",
    "# Let's use data.array to get the data contained within the range of x_lim.\n",
    "# We need to convert x_lim to indices. I will do this an easy easy using a method _time_to_index\n",
    "start_index = data._time_to_index(x_lim[0])\n",
    "end_index = data._time_to_index(x_lim[1])+1\n",
    "\n",
    "# Get the array and calculate the standard deviation\n",
    "data_array = data[:, start_index:end_index]\n",
    "std_dev = np.std(data_array.flatten())\n",
    "\n",
    "# Use 4x std_dev for the y limits\n",
    "y_lim = 0.1 * std_dev"
   ]
  },
  {
   "cell_type": "markdown",
   "metadata": {},
   "source": [
    "Notice that in this dataset there is a lot of common mode signal between the 4 life electrode channels. We will use this to look at the differences between rereferencing to a single channel vs. using common refrencing techniques. "
   ]
  },
  {
   "cell_type": "code",
   "execution_count": null,
   "metadata": {},
   "outputs": [],
   "source": [
    "data.plot(x_lim=x_lim, y_lim=y_lim)"
   ]
  },
  {
   "cell_type": "markdown",
   "metadata": {},
   "source": [
    "## Re-refrencing Data to a Channel\n",
    "First, we can re-reference the data to one of the life electrode channels. Although, this will will help eliminate the common mode noise sources seen on the LIFE electrode channels we will quickly see that it also effects EMG channels, which would be undesireable in this case. \n",
    "\n",
    "Channel references will accept a channel name or an channel index of the channel to use as a refrence. "
   ]
  },
  {
   "cell_type": "code",
   "execution_count": null,
   "metadata": {},
   "outputs": [],
   "source": [
    "data_reference_1 = data.channel_reference('LIFE 1')\n",
    "\n",
    "# Set up figure axes that we can plot on\n",
    "fig, (ax1, ax2) = plt.subplots(1, 2, figsize=(16,6))\n",
    "\n",
    "# Label axes and plot data. \n",
    "ax1.set_title('data')\n",
    "# The axis attribute is used to provide a matplotlib axis to plot on.\n",
    "# Show is set to False to prevent the plot function from automatically showing the plot within the jupyter notebook.\n",
    "data.plot(axis = ax1, x_lim=x_lim, y_lim=y_lim, show=False)\n",
    "ax2.set_title('All data referenced to LIFE 1')\n",
    "data_reference_1.plot(axis = ax2, x_lim=x_lim, y_lim=y_lim, show=False)\n",
    "\n",
    "# Tell matplotlib to show the plot within a jupyter notebook\n",
    "plt.show()"
   ]
  },
  {
   "cell_type": "markdown",
   "metadata": {},
   "source": [
    "This did a good job at removing the common mode noise from from the LIFE electrode channels. However, we removed channel 'LIFE 1' in the process and subtracted a significant amount of noise into our EMG channles. As such, it would have made more sense to only re-reference within the the LIFE electrode channels. Since we se the ch_types when we loaded in the data, this is faily easy to accomplish. All we need to do is include the ch_types attribute for the channel_reference class.\n",
    "\n",
    "It is worth nothing that many methods within the Ephys class have some combination of a channel, channels, ch_type, and/or ch_types atributes. These can be used to select a subset of channels within the data set that will be acted on by the method."
   ]
  },
  {
   "cell_type": "code",
   "execution_count": null,
   "metadata": {},
   "outputs": [],
   "source": [
    "data_reference_2 = data.channel_reference('LIFE 1', ch_type='LIFE')\n",
    "\n",
    "# Set up figure axes that we can plot on\n",
    "fig, (ax1, ax2) = plt.subplots(1, 2, figsize=(16,6))\n",
    "\n",
    "# Label axes and plot data. \n",
    "ax1.set_title('data')\n",
    "# The axis attribute is used to provide a matplotlib axis to plot on.\n",
    "# Show is set to False to prevent the plot function from automatically showing the plot within the jupyter notebook.\n",
    "data.plot(axis = ax1, x_lim=x_lim, y_lim=y_lim, show=False)\n",
    "ax2.set_title('LIFE data referenced to LIFE 1')\n",
    "data_reference_2.plot(axis = ax2,  x_lim=x_lim, y_lim=y_lim, show=False)\n",
    "\n",
    "# Tell matplotlib to show the plot within a jupyter notebook\n",
    "plt.show()"
   ]
  },
  {
   "cell_type": "markdown",
   "metadata": {},
   "source": [
    "## Using a Common Mean or Common Median Reference"
   ]
  },
  {
   "cell_type": "markdown",
   "metadata": {},
   "source": [
    "Often, a better way to remove common mode noise can be to do so using either a common median reference, or a common mean reference. Here is an axample of each applied with in the LIFE electrode channels."
   ]
  },
  {
   "cell_type": "code",
   "execution_count": null,
   "metadata": {},
   "outputs": [],
   "source": [
    "data_common_mean = data.common_reference(method='mean', ch_type='LIFE')\n",
    "data_common_median = data.common_reference(method='median', ch_type='LIFE')\n",
    "\n",
    "# Set up figure axes that we can plot on\n",
    "fig, (ax1, ax2) = plt.subplots(1, 2, figsize=(16,6))\n",
    "\n",
    "# Label axes and plot data. \n",
    "ax1.set_title('common mean reference within LIFE data')\n",
    "# The axis attribute is used to provide a matplotlib axis to plot on.\n",
    "# Show is set to False to prevent the plot function from automatically showing the plot within the jupyter notebook.\n",
    "data_common_mean.plot(axis = ax1,  x_lim=x_lim, y_lim=y_lim, show=False)\n",
    "ax2.set_title('common median reference within LIFE data')\n",
    "data_common_median.plot(axis = ax2,  x_lim=x_lim, y_lim=y_lim, show=False)\n",
    "\n",
    "# Tell matplotlib to show the plot within a jupyter notebook\n",
    "plt.show()"
   ]
  },
  {
   "cell_type": "markdown",
   "metadata": {},
   "source": [
    "Here we can see that the lowest peak to peak noise is give by the common mean reference, however large artifacts from other channels can sometimes be 'subtracted into' the data set. This problem is exacerbated when using a common mean reference with a small number of channels. See Ludwig et. al. for a more detailed description of this phenomena. \n",
    "\n",
    "For a small number of channels a common median reference can provide a good tradeoff between common mode noise suppresssion without subtracting in artifacts from other recording channels."
   ]
  },
  {
   "cell_type": "code",
   "execution_count": null,
   "metadata": {},
   "outputs": [],
   "source": []
  }
 ],
 "metadata": {
  "kernelspec": {
   "display_name": "Python 3",
   "language": "python",
   "name": "python3"
  },
  "language_info": {
   "codemirror_mode": {
    "name": "ipython",
    "version": 3
   },
   "file_extension": ".py",
   "mimetype": "text/x-python",
   "name": "python",
   "nbconvert_exporter": "python",
   "pygments_lexer": "ipython3",
   "version": "3.7.10"
  }
 },
 "nbformat": 4,
 "nbformat_minor": 4
}
