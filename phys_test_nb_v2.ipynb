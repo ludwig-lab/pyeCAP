{
 "cells": [
  {
   "cell_type": "code",
   "execution_count": null,
   "id": "initial_id",
   "metadata": {
    "ExecuteTime": {
     "end_time": "2024-09-24T20:16:30.812099Z",
     "start_time": "2024-09-24T20:16:30.752073Z"
    }
   },
   "outputs": [],
   "source": [
    "%load_ext autoreload\n",
    "%autoreload 2"
   ]
  },
  {
   "cell_type": "code",
   "execution_count": null,
   "id": "ea6c555c89f408bf",
   "metadata": {
    "ExecuteTime": {
     "end_time": "2024-09-24T20:16:34.518822Z",
     "start_time": "2024-09-24T20:16:31.122840Z"
    }
   },
   "outputs": [],
   "source": [
    "import pyeCAP\n",
    "import numpy as np\n",
    "import pandas as pd\n",
    "import scipy.io as sio\n",
    "import matplotlib.pyplot as plt\n",
    "import traceback\n",
    "import os\n",
    "import dask.array as da\n",
    "from scipy import signal\n",
    "from scipy.ndimage import uniform_filter1d\n",
    "import plotly.express as px"
   ]
  },
  {
   "cell_type": "code",
   "execution_count": null,
   "id": "640ad326e2eab293",
   "metadata": {
    "ExecuteTime": {
     "end_time": "2024-09-24T20:16:38.722437Z",
     "start_time": "2024-09-24T20:16:34.539825Z"
    }
   },
   "outputs": [],
   "source": [
    "\"Import meta data and TDT files\"\n",
    "\"\"\"Get HF meta data from excel file\"\"\"\n",
    "#excel_path = r'E:\\HF_Block\\20240904_HFBlock_Pig05\\20240904_HFBlock_05_Parameters_modified.xlsx'\n",
    "excel_path = r'G:\\Data\\HF_Block\\HF_Block_Project_summary.xlsx'\n",
    "metaDF = pd.read_excel(excel_path, sheet_name = 'HF05_metaDF')\n",
    "\n",
    "\"\"\"Remove rows that are not needed for current analysis and reset index of metaDF\"\"\"\n",
    "metaDF.drop(metaDF.loc[ metaDF['Type'] == 'HF Only'].index, inplace = True)  #Removed HF only tanks as they did not have any stim parameters\n",
    "metaDF.drop(metaDF.loc[ metaDF['Type'] == 'Control'].index, inplace = True)\n",
    "metaDF.drop(metaDF.loc[ metaDF['Type'] == 'X'].index, inplace = True)\n",
    "metaDF.drop(metaDF.loc[ metaDF['Type'] == 'Thresholding'].index, inplace = True)\n",
    "metaDF.drop(metaDF.loc[ metaDF['Type'] == 'Contact ID'].index, inplace = True)\n",
    "metaDF.reset_index(inplace = True)\n",
    "\n",
    "\"TDT Data Import - List\"\n",
    "#tdt_path = r'E:\\HF_Block\\20240904_HFBlock_Pig05\\HF_Block_Template-240904-083702' #Lab Path\n",
    "tdt_path = r'G:\\Data\\HF_Block\\20240904_HFBlock_Pig05\\HF_Block_Template-240904-083702' #Local Path \n",
    "tdt_file_list_all = os.listdir(tdt_path)\n",
    "tdt_file_list_all.remove('desktop.ini')\n",
    "\n",
    "#ADI_path = r'E:\\HF_Block\\20240904_HFBlock_Pig05' #Lab Path\n",
    "ADI_path = r'G:\\Data\\HF_Block\\20240904_HFBlock_Pig05' #Local path\n",
    "ADI_file = r'\\20240904_HFBlock_Pig05_stats_modified.mat'\n",
    "\n",
    "raw_phys = pyeCAP.Phys(ADI_path + ADI_file)#, mult_data=False)\n",
    "ws_stripped_names = [i.strip() for i in raw_phys.ch_names] #This line just removes the white spaces around the names imported\n",
    "raw_phys = raw_phys.set_ch_names(ws_stripped_names)\n",
    "\n",
    "\"\"\"Ephys data instantiation\"\"\"\n",
    "tdt_path_list = [tdt_path + '\\\\' + fileNAME for fileNAME in metaDF['TDT Tank']]\n",
    "\n",
    "#Data Streams\n",
    "#raw_ECAP = pyeCAP.Ephys(tdt_path_list, stores = 'ECAP')\n",
    "#raw_ECAP = raw_ECAP.remove_ch(['ECAP 6', 'ECAP 7', 'ECAP 8'])\n",
    "\n",
    "\"\"\"Changes the stim multi-index to utilize the Tank names from tdt_file_list instead [0,1,2,3...]\"\"\"\n",
    "stim = pyeCAP.Stim(tdt_path_list)\n",
    "stimDF = stim.parameters\n",
    "#tank_to_params_dict = { tank:params for (tank,params) in zip(metaDF['TDT Tank'].to_list(), stim.parameters.groupby(level=0).groups.values() ) }\n",
    "#params_to_tank_dict = { param:tank for (param,tank) in zip(stim.parameters.groupby(level=0).groups.keys(), metaDF['TDT Tank'].to_list()) }\n",
    "\n",
    "\"\"\"ECAP/EMG/TriCAP object instantiation\"\"\"\n",
    "#ECAPr = pyeCAP.ECAP(raw_ECAP, stim)\n",
    "PHYS = pyeCAP.ECAP(raw_phys,stim)\n",
    "raw_ECG_array = np.squeeze(raw_phys.array[raw_phys._ch_to_index('EKG Raw')].compute() )"
   ]
  },
  {
   "cell_type": "code",
   "execution_count": null,
   "id": "7d0c26b410851cb4",
   "metadata": {
    "ExecuteTime": {
     "end_time": "2024-09-24T20:16:40.215405Z",
     "start_time": "2024-09-24T20:16:39.407548Z"
    }
   },
   "outputs": [],
   "source": [
    "\"\"\"Band-pass Filter\"\"\"\n",
    "ECG_fs = 1000\n",
    "nyq_rate = ECG_fs / 2\n",
    "\n",
    "cutoffs = [5,15]\n",
    "sos = signal.butter(4, cutoffs, btype='bandpass', fs = ECG_fs,output='sos')\n",
    "\n",
    "\"\"\"Code which replaces any NaN values by simply replacing them with the first value after the NaN's occur\"\"\"\n",
    "nan_idx = np.argwhere(np.isnan(raw_ECG_array))\n",
    "print(nan_idx)\n",
    "#np.nan_to_num(raw_ECG_array, copy=False, nan=raw_ECG_array[nan_idx[-1] + 1])\n",
    "\n",
    "ECG_BP_filt = signal.sosfiltfilt(sos, raw_ECG_array)\n",
    "ECG_dvt_filt = np.square(np.diff(ECG_BP_filt,append=0))\n",
    "#ECG_sq = np.square(ECG_dvt_filt)\n",
    "#ECG_moving_average = uniform_filter1d(ECG_sq,size=150)"
   ]
  },
  {
   "cell_type": "code",
   "execution_count": null,
   "id": "d5bf9a8fe43db44b",
   "metadata": {
    "ExecuteTime": {
     "end_time": "2024-09-24T20:17:45.717895Z",
     "start_time": "2024-09-24T20:17:43.727778Z"
    }
   },
   "outputs": [],
   "source": [
    "filt_data, data_diff_sq,data_moving_average = raw_phys.pan_tompkins_algorithm(ecg_ch_name = 'EKG Raw')\n",
    "filt_data_array = np.squeeze(da.concatenate(filt_data,axis=1).compute())\n",
    "diff_sq_array = np.squeeze(da.concatenate(data_diff_sq,axis=1).compute())\n",
    "mwa_array = np.squeeze(da.concatenate(data_moving_average,axis=1).compute())"
   ]
  },
  {
   "cell_type": "code",
   "execution_count": null,
   "id": "9641d74817eaaa63",
   "metadata": {
    "ExecuteTime": {
     "end_time": "2024-09-24T20:13:16.102069Z",
     "start_time": "2024-09-24T20:13:09.259357Z"
    }
   },
   "outputs": [],
   "source": [
    "fig = plt.figure(num=1, clear=True)\n",
    "ax = fig.add_subplot()\n",
    "dask_dv_diff = np.subtract(diff_sq_array,ECG_dvt_filt)\n",
    "#dask_filt_diff = np.subtract(filt_data_array, ECG_BP_filt)\n",
    "#ax.plot(raw_phys.time().compute(),dask_dv_diff)\n",
    "#ax.plot(raw_phys.time().compute(),dask_filt_diff)\n",
    "ax.plot(raw_phys.time()[5000000:],mwa_array[5000000:], color = 'r')\n",
    "ax2 = ax.twinx()\n",
    "ax2.plot(raw_phys.time()[5000000:],dask_dv_diff[5000000:])"
   ]
  },
  {
   "cell_type": "code",
   "execution_count": null,
   "id": "ee95b2458a9643ca",
   "metadata": {
    "ExecuteTime": {
     "end_time": "2024-09-24T18:39:55.796214Z",
     "start_time": "2024-09-24T18:39:55.678188Z"
    }
   },
   "outputs": [],
   "source": [
    "idx = np.nonzero(mwa_array > 1*1e-10)[0]"
   ]
  },
  {
   "cell_type": "code",
   "execution_count": null,
   "id": "731d2dbe2a65326b",
   "metadata": {
    "ExecuteTime": {
     "end_time": "2024-09-24T18:39:58.446069Z",
     "start_time": "2024-09-24T18:39:58.344044Z"
    }
   },
   "outputs": [],
   "source": [
    "idx"
   ]
  },
  {
   "cell_type": "code",
   "execution_count": null,
   "id": "df7093465a727985",
   "metadata": {
    "ExecuteTime": {
     "end_time": "2024-09-24T20:19:06.853546Z",
     "start_time": "2024-09-24T20:19:06.209787Z"
    }
   },
   "outputs": [],
   "source": [
    "dask_dv_diff = np.subtract(diff_sq_array,ECG_dvt_filt)\n",
    "fig,ax = plt.subplots(nrows = 4, ncols=1,num=1, clear=True, figsize=(10,10))\n",
    "\n",
    "#center_idx = idx[-1]\n",
    "center_idx = 9790000\n",
    "start_idx = center_idx - (5 * 1000)\n",
    "stop_idx = center_idx + (5 * 1000)\n",
    "if start_idx < 0:\n",
    "    start_idx = 0\n",
    "print(start_idx, stop_idx)\n",
    "\n",
    "ax = ax.ravel()\n",
    "#ax2 = ax.twinx()\n",
    "#ax2.plot(raw_phys.time()[start_idx:stop_idx],dask_dv_diff[start_idx:stop_idx])\n",
    "#ax2.plot(raw_phys.time()[start_idx:stop_idx],diff_sq_array[start_idx:stop_idx])\n",
    "ax[0].plot(raw_phys.time()[start_idx:stop_idx],raw_ECG_array[start_idx:stop_idx])\n",
    "ax[1].plot(raw_phys.time()[start_idx:stop_idx],filt_data_array[start_idx:stop_idx])\n",
    "#ax[2].plot(raw_phys.time()[start_idx:stop_idx],diff_sq_array[start_idx:stop_idx])\n",
    "ax[2].plot(raw_phys.time()[start_idx:stop_idx],dask_dv_diff[start_idx:stop_idx])\n",
    "ax[3].plot(raw_phys.time()[start_idx:stop_idx],mwa_array[start_idx:stop_idx], color = 'r')\n",
    "mwa_std = np.std(mwa_array[5000000:])\n",
    "ax[3].axhline(mwa_std, color='g')\n",
    "plt.show()"
   ]
  },
  {
   "cell_type": "code",
   "execution_count": null,
   "id": "f759bb313f602b0f",
   "metadata": {
    "ExecuteTime": {
     "end_time": "2024-09-24T18:51:12.242419Z",
     "start_time": "2024-09-24T18:51:12.004766Z"
    }
   },
   "outputs": [],
   "source": [
    "mwa_std = np.mean(mwa_array)\n",
    "print(mwa_std)"
   ]
  },
  {
   "cell_type": "code",
   "execution_count": null,
   "id": "3bf54f5d126de3c7",
   "metadata": {
    "ExecuteTime": {
     "end_time": "2024-09-24T18:51:53.798563Z",
     "start_time": "2024-09-24T18:51:53.547889Z"
    }
   },
   "outputs": [],
   "source": [
    "mwa_std = np.std(mwa_array[5000000:])\n",
    "print(mwa_std)"
   ]
  },
  {
   "cell_type": "code",
   "execution_count": null,
   "id": "c2a5c13f188f2cb0",
   "metadata": {
    "ExecuteTime": {
     "end_time": "2024-09-24T18:38:21.267668Z",
     "start_time": "2024-09-24T18:38:21.154633Z"
    }
   },
   "outputs": [],
   "source": [
    "stop_idx"
   ]
  },
  {
   "cell_type": "code",
   "execution_count": null,
   "id": "b3ad65dbacd39993",
   "metadata": {
    "ExecuteTime": {
     "end_time": "2024-09-24T19:58:43.172490Z",
     "start_time": "2024-09-24T19:58:43.070340Z"
    }
   },
   "outputs": [],
   "source": [
    "ignore = raw_phys.remove_cautery(ecg_ch_name = 'EKG Raw')"
   ]
  },
  {
   "cell_type": "code",
   "execution_count": null,
   "id": "29c4939aa7f8ebf6",
   "metadata": {
    "ExecuteTime": {
     "end_time": "2024-09-24T20:00:22.024952Z",
     "start_time": "2024-09-24T20:00:21.596951Z"
    }
   },
   "outputs": [],
   "source": [
    "asdf = []\n",
    "for idx, val in ignore[0]:\n",
    "    if val > 1:\n",
    "        asdf.append[idx]"
   ]
  },
  {
   "cell_type": "code",
   "execution_count": null,
   "id": "4d7a38a446fd5828",
   "metadata": {
    "ExecuteTime": {
     "end_time": "2024-09-24T20:02:14.793697Z",
     "start_time": "2024-09-24T20:02:14.695664Z"
    }
   },
   "outputs": [],
   "source": [
    "ignore.A"
   ]
  },
  {
   "cell_type": "code",
   "execution_count": null,
   "id": "edf9078672dd3663",
   "metadata": {
    "ExecuteTime": {
     "end_time": "2024-09-24T19:47:19.081997Z",
     "start_time": "2024-09-24T19:47:18.877341Z"
    }
   },
   "outputs": [],
   "source": [
    "x.compute()"
   ]
  },
  {
   "cell_type": "code",
   "execution_count": null,
   "id": "ef5fbae3003e7a9e",
   "metadata": {
    "ExecuteTime": {
     "end_time": "2024-09-24T19:40:33.868877Z",
     "start_time": "2024-09-24T19:40:33.656210Z"
    }
   },
   "outputs": [],
   "source": [
    "for x in ignore:\n",
    "    print(x.shape)"
   ]
  },
  {
   "cell_type": "code",
   "execution_count": null,
   "id": "43dda4e721e8f3c",
   "metadata": {
    "ExecuteTime": {
     "end_time": "2024-09-24T19:41:46.773519Z",
     "start_time": "2024-09-24T19:41:46.649493Z"
    }
   },
   "outputs": [],
   "source": [
    "ignore"
   ]
  },
  {
   "cell_type": "code",
   "execution_count": null,
   "id": "e8d6062581476d46",
   "metadata": {
    "ExecuteTime": {
     "end_time": "2024-09-24T20:55:05.041991Z",
     "start_time": "2024-09-24T20:55:04.193590Z"
    }
   },
   "outputs": [],
   "source": [
    "asdf = raw_phys.pan_tompkins_algorithm(ecg_ch_name = 'EKG Raw')"
   ]
  },
  {
   "cell_type": "code",
   "execution_count": null,
   "id": "1e8881be6b14f3ab",
   "metadata": {
    "ExecuteTime": {
     "end_time": "2024-09-24T20:54:20.940351Z",
     "start_time": "2024-09-24T20:54:20.837024Z"
    }
   },
   "outputs": [],
   "source": [
    "asdf.units"
   ]
  },
  {
   "cell_type": "code",
   "execution_count": null,
   "id": "a1a4032ab015d042",
   "metadata": {
    "ExecuteTime": {
     "end_time": "2024-09-24T20:49:36.113135Z",
     "start_time": "2024-09-24T20:49:36.018602Z"
    }
   },
   "outputs": [],
   "source": [
    "type(old_ch_names)"
   ]
  },
  {
   "cell_type": "code",
   "execution_count": null,
   "id": "228611b9c41790b3",
   "metadata": {
    "ExecuteTime": {
     "end_time": "2024-09-24T20:46:55.753608Z",
     "start_time": "2024-09-24T20:46:54.786774Z"
    }
   },
   "outputs": [],
   "source": [
    "ch_names = [raw_phys.ch_names, 'ECG BP Filtered', 'ECG DiffSq', 'ECG Moving Average']"
   ]
  },
  {
   "cell_type": "code",
   "execution_count": null,
   "id": "27cb7b2d33d9fa3",
   "metadata": {
    "ExecuteTime": {
     "end_time": "2024-09-24T20:50:21.428180Z",
     "start_time": "2024-09-24T20:50:21.316029Z"
    }
   },
   "outputs": [],
   "source": [
    "old_ch_names.concatenate(['ECG BP Filtered', 'ECG DiffSq', 'ECG Moving Average')"
   ]
  },
  {
   "cell_type": "code",
   "execution_count": null,
   "id": "c4536a3aa4b96efe",
   "metadata": {
    "ExecuteTime": {
     "end_time": "2024-09-24T20:50:14.501459Z",
     "start_time": "2024-09-24T20:50:14.400955Z"
    }
   },
   "outputs": [],
   "source": [
    "old_ch_names"
   ]
  },
  {
   "cell_type": "code",
   "execution_count": null,
   "id": "a770b65d1c18a15d",
   "metadata": {
    "ExecuteTime": {
     "end_time": "2024-09-24T20:28:00.759754Z",
     "start_time": "2024-09-24T20:28:00.649730Z"
    }
   },
   "outputs": [],
   "source": [
    "data = [da.concatenate([d1,d2,d3,d4],axis=0) for d1,d2,d3,d4 in zip(og_data,filt_data, data_diff_sq, data_moving_average)]"
   ]
  },
  {
   "cell_type": "code",
   "execution_count": null,
   "id": "a25de3b97ff322be",
   "metadata": {},
   "outputs": [],
   "source": []
  }
 ],
 "metadata": {
  "kernelspec": {
   "display_name": "Python 3",
   "language": "python",
   "name": "python3"
  },
  "language_info": {
   "codemirror_mode": {
    "name": "ipython",
    "version": 2
   },
   "file_extension": ".py",
   "mimetype": "text/x-python",
   "name": "python",
   "nbconvert_exporter": "python",
   "pygments_lexer": "ipython2",
   "version": "2.7.6"
  }
 },
 "nbformat": 4,
 "nbformat_minor": 5
}
